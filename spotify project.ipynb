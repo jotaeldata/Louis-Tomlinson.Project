{
 "cells": [
  {
   "cell_type": "markdown",
   "metadata": {},
   "source": [
    "# Librerias usadas en el proyecto"
   ]
  },
  {
   "cell_type": "code",
   "execution_count": 170,
   "metadata": {},
   "outputs": [],
   "source": [
    "import os\n",
    "from dotenv import load_dotenv\n",
    "\n",
    "import spotipy\n",
    "from spotipy.oauth2 import SpotifyClientCredentials\n",
    "\n",
    "import pandas as pd\n",
    "import matplotlib.pyplot as plt\n",
    "import plotly.graph_objects as go\n",
    "import plotly.express as px"
   ]
  },
  {
   "cell_type": "code",
   "execution_count": 171,
   "metadata": {},
   "outputs": [
    {
     "data": {
      "text/plain": [
       "True"
      ]
     },
     "execution_count": 171,
     "metadata": {},
     "output_type": "execute_result"
    }
   ],
   "source": [
    "load_dotenv()"
   ]
  },
  {
   "cell_type": "markdown",
   "metadata": {},
   "source": [
    "# Conexion a la api de spotify"
   ]
  },
  {
   "cell_type": "code",
   "execution_count": 172,
   "metadata": {},
   "outputs": [],
   "source": [
    "client_id = os.getenv('SPOTIPY_CLIENT_ID')\n",
    "client_secret = os.getenv('SPOTIPY_CLIENT_SECRET')\n",
    "\n",
    "client_credential_manager = SpotifyClientCredentials(client_id=client_id, client_secret=client_secret)\n",
    "sp = spotipy.Spotify(client_credentials_manager=client_credential_manager)"
   ]
  },
  {
   "cell_type": "markdown",
   "metadata": {},
   "source": [
    "# Funciones que extraeran los datos de la banda y/o el artista\n",
    "\n",
    "# EncontrarID\n",
    "\n",
    "esta función se encarga de buscar y encontrar el id del artista y/o banda que se solicite\n",
    "\n",
    "# obtenerData\n",
    "\n",
    "esta función se encarga de buscar y encontrar la data del artista y/o banda que se solicite, aquí pedimos datos como lo son:\n",
    "\n",
    "    ° nombre del album\n",
    "    ° tipo del album clasificado por \"álbum\" y \"solista\"\n",
    "    ° año en que salio el album\n",
    "    ° nombre de las canciones\n",
    "    ° nombre del artista y/o banda\n",
    "    ° duración de la cancion\n",
    "    ° popularidad de la cancion\n",
    "\n",
    "todo esto se agrega a la variable \"canciones_data\" y se crea el DataFrame con los datos obtenidos y se le pone nombre a las columnas"
   ]
  },
  {
   "cell_type": "code",
   "execution_count": 173,
   "metadata": {},
   "outputs": [],
   "source": [
    "def encontrarID(artista):\n",
    "    resultados = sp.search(q=artista, limit=1, type='artist')\n",
    "    return resultados['artists']['items'][0]['id']\n",
    "\n",
    "def obtenerData(artista_id): # 'album', 'single', 'appears_on', 'compilation'\n",
    "    canciones_data = [] # Crear una lista vacía para almacenar los datos de las canciones\n",
    "    \n",
    "    albumes = sp.artist_albums(artista_id, album_type='album') # Obtener los álbumes del artista\n",
    "    singles = sp.artist_albums(artista_id, album_type='single') # Obtener los singles del artista\n",
    "    \n",
    "    for album in albumes['items'] + singles['items']: # Obtener las canciones para cada álbum\n",
    "        album_nombre = album['name']\n",
    "        album_tipo = {'album':'Álbum', 'single':'Single'}[album['album_type']]\n",
    "        album_año = album['release_date'].split('-')[0]  # Obtener el año de lanzamiento\n",
    "        \n",
    "        tracks = sp.album_tracks(album['id'])\n",
    "\n",
    "        for track in tracks['items']: # Para cada canción, obtener los detalles y añadirlos a la lista de canciones\n",
    "            cancion_nombre = track['name']\n",
    "            cancion_artistas = ', '.join([t['name'] for t in track['artists']])\n",
    "            cancion_duracion = '{:02d}:{:02d}'.format(*divmod(track['duration_ms'] // 1000, 60))\n",
    "            cancion_popularidad = sp.track(track['id'])['popularity'] # Obtener la popularidad de la canción\n",
    "            \n",
    "            # Añadir los detalles de cadaa canción a la lista de canciones\n",
    "            canciones_data.append([album_nombre, album_tipo, album_año, cancion_nombre, cancion_artistas, cancion_duracion, cancion_popularidad])\n",
    "            \n",
    "    return pd.DataFrame(canciones_data, columns=['Álbum', 'Tipo', 'Año', 'Canción', 'Artistas', 'Duración', 'Popularidad'])"
   ]
  },
  {
   "cell_type": "markdown",
   "metadata": {},
   "source": [
    "# Obtencion de los datos de la banda deseada"
   ]
  },
  {
   "cell_type": "code",
   "execution_count": 174,
   "metadata": {},
   "outputs": [
    {
     "name": "stdout",
     "output_type": "stream",
     "text": [
      "ID de artista de One Direction: 4AK6F7OLvEQ5QYCBNiQWHq\n"
     ]
    },
    {
     "data": {
      "text/html": [
       "<div>\n",
       "<style scoped>\n",
       "    .dataframe tbody tr th:only-of-type {\n",
       "        vertical-align: middle;\n",
       "    }\n",
       "\n",
       "    .dataframe tbody tr th {\n",
       "        vertical-align: top;\n",
       "    }\n",
       "\n",
       "    .dataframe thead th {\n",
       "        text-align: right;\n",
       "    }\n",
       "</style>\n",
       "<table border=\"1\" class=\"dataframe\">\n",
       "  <thead>\n",
       "    <tr style=\"text-align: right;\">\n",
       "      <th></th>\n",
       "      <th>Álbum</th>\n",
       "      <th>Tipo</th>\n",
       "      <th>Año</th>\n",
       "      <th>Canción</th>\n",
       "      <th>Artistas</th>\n",
       "      <th>Duración</th>\n",
       "      <th>Popularidad</th>\n",
       "      <th>Etapa</th>\n",
       "    </tr>\n",
       "  </thead>\n",
       "  <tbody>\n",
       "    <tr>\n",
       "      <th>0</th>\n",
       "      <td>Made In The A.M. (Deluxe Edition)</td>\n",
       "      <td>Álbum</td>\n",
       "      <td>2015</td>\n",
       "      <td>Hey Angel</td>\n",
       "      <td>One Direction</td>\n",
       "      <td>04:00</td>\n",
       "      <td>57</td>\n",
       "      <td>One Direction</td>\n",
       "    </tr>\n",
       "    <tr>\n",
       "      <th>1</th>\n",
       "      <td>Made In The A.M. (Deluxe Edition)</td>\n",
       "      <td>Álbum</td>\n",
       "      <td>2015</td>\n",
       "      <td>Drag Me Down</td>\n",
       "      <td>One Direction</td>\n",
       "      <td>03:12</td>\n",
       "      <td>80</td>\n",
       "      <td>One Direction</td>\n",
       "    </tr>\n",
       "    <tr>\n",
       "      <th>2</th>\n",
       "      <td>Made In The A.M. (Deluxe Edition)</td>\n",
       "      <td>Álbum</td>\n",
       "      <td>2015</td>\n",
       "      <td>Perfect</td>\n",
       "      <td>One Direction</td>\n",
       "      <td>03:50</td>\n",
       "      <td>79</td>\n",
       "      <td>One Direction</td>\n",
       "    </tr>\n",
       "    <tr>\n",
       "      <th>3</th>\n",
       "      <td>Made In The A.M. (Deluxe Edition)</td>\n",
       "      <td>Álbum</td>\n",
       "      <td>2015</td>\n",
       "      <td>Infinity</td>\n",
       "      <td>One Direction</td>\n",
       "      <td>04:09</td>\n",
       "      <td>62</td>\n",
       "      <td>One Direction</td>\n",
       "    </tr>\n",
       "    <tr>\n",
       "      <th>4</th>\n",
       "      <td>Made In The A.M. (Deluxe Edition)</td>\n",
       "      <td>Álbum</td>\n",
       "      <td>2015</td>\n",
       "      <td>End of the Day</td>\n",
       "      <td>One Direction</td>\n",
       "      <td>03:14</td>\n",
       "      <td>59</td>\n",
       "      <td>One Direction</td>\n",
       "    </tr>\n",
       "    <tr>\n",
       "      <th>...</th>\n",
       "      <td>...</td>\n",
       "      <td>...</td>\n",
       "      <td>...</td>\n",
       "      <td>...</td>\n",
       "      <td>...</td>\n",
       "      <td>...</td>\n",
       "      <td>...</td>\n",
       "      <td>...</td>\n",
       "    </tr>\n",
       "    <tr>\n",
       "      <th>123</th>\n",
       "      <td>Acoustic - EP</td>\n",
       "      <td>Single</td>\n",
       "      <td>2010</td>\n",
       "      <td>One Thing - Acoustic</td>\n",
       "      <td>One Direction</td>\n",
       "      <td>03:02</td>\n",
       "      <td>50</td>\n",
       "      <td>One Direction</td>\n",
       "    </tr>\n",
       "    <tr>\n",
       "      <th>124</th>\n",
       "      <td>Acoustic - EP</td>\n",
       "      <td>Single</td>\n",
       "      <td>2010</td>\n",
       "      <td>Steal My Girl - Acoustic Version</td>\n",
       "      <td>One Direction</td>\n",
       "      <td>03:47</td>\n",
       "      <td>44</td>\n",
       "      <td>One Direction</td>\n",
       "    </tr>\n",
       "    <tr>\n",
       "      <th>125</th>\n",
       "      <td>Acoustic - EP</td>\n",
       "      <td>Single</td>\n",
       "      <td>2010</td>\n",
       "      <td>Steal My Girl - Live Acoustic Session</td>\n",
       "      <td>One Direction</td>\n",
       "      <td>03:46</td>\n",
       "      <td>35</td>\n",
       "      <td>One Direction</td>\n",
       "    </tr>\n",
       "    <tr>\n",
       "      <th>126</th>\n",
       "      <td>Acoustic - EP</td>\n",
       "      <td>Single</td>\n",
       "      <td>2010</td>\n",
       "      <td>Night Changes - Live Acoustic Session</td>\n",
       "      <td>One Direction</td>\n",
       "      <td>03:41</td>\n",
       "      <td>49</td>\n",
       "      <td>One Direction</td>\n",
       "    </tr>\n",
       "    <tr>\n",
       "      <th>127</th>\n",
       "      <td>Acoustic - EP</td>\n",
       "      <td>Single</td>\n",
       "      <td>2010</td>\n",
       "      <td>Perfect - Stripped</td>\n",
       "      <td>One Direction</td>\n",
       "      <td>03:52</td>\n",
       "      <td>42</td>\n",
       "      <td>One Direction</td>\n",
       "    </tr>\n",
       "  </tbody>\n",
       "</table>\n",
       "<p>128 rows × 8 columns</p>\n",
       "</div>"
      ],
      "text/plain": [
       "                                 Álbum    Tipo   Año  \\\n",
       "0    Made In The A.M. (Deluxe Edition)   Álbum  2015   \n",
       "1    Made In The A.M. (Deluxe Edition)   Álbum  2015   \n",
       "2    Made In The A.M. (Deluxe Edition)   Álbum  2015   \n",
       "3    Made In The A.M. (Deluxe Edition)   Álbum  2015   \n",
       "4    Made In The A.M. (Deluxe Edition)   Álbum  2015   \n",
       "..                                 ...     ...   ...   \n",
       "123                      Acoustic - EP  Single  2010   \n",
       "124                      Acoustic - EP  Single  2010   \n",
       "125                      Acoustic - EP  Single  2010   \n",
       "126                      Acoustic - EP  Single  2010   \n",
       "127                      Acoustic - EP  Single  2010   \n",
       "\n",
       "                                   Canción       Artistas Duración  \\\n",
       "0                                Hey Angel  One Direction    04:00   \n",
       "1                             Drag Me Down  One Direction    03:12   \n",
       "2                                  Perfect  One Direction    03:50   \n",
       "3                                 Infinity  One Direction    04:09   \n",
       "4                           End of the Day  One Direction    03:14   \n",
       "..                                     ...            ...      ...   \n",
       "123                   One Thing - Acoustic  One Direction    03:02   \n",
       "124       Steal My Girl - Acoustic Version  One Direction    03:47   \n",
       "125  Steal My Girl - Live Acoustic Session  One Direction    03:46   \n",
       "126  Night Changes - Live Acoustic Session  One Direction    03:41   \n",
       "127                     Perfect - Stripped  One Direction    03:52   \n",
       "\n",
       "     Popularidad          Etapa  \n",
       "0             57  One Direction  \n",
       "1             80  One Direction  \n",
       "2             79  One Direction  \n",
       "3             62  One Direction  \n",
       "4             59  One Direction  \n",
       "..           ...            ...  \n",
       "123           50  One Direction  \n",
       "124           44  One Direction  \n",
       "125           35  One Direction  \n",
       "126           49  One Direction  \n",
       "127           42  One Direction  \n",
       "\n",
       "[128 rows x 8 columns]"
      ]
     },
     "execution_count": 174,
     "metadata": {},
     "output_type": "execute_result"
    }
   ],
   "source": [
    "id_OD = encontrarID('One Direction')\n",
    "print('ID de artista de One Direction:', id_OD)\n",
    "\n",
    "df_OD = obtenerData(id_OD)\n",
    "df_OD['Etapa'] = 'One Direction'\n",
    "df_OD"
   ]
  },
  {
   "cell_type": "markdown",
   "metadata": {},
   "source": [
    "# Obtencion de los datos de la artista deseado"
   ]
  },
  {
   "cell_type": "code",
   "execution_count": 175,
   "metadata": {},
   "outputs": [
    {
     "name": "stdout",
     "output_type": "stream",
     "text": [
      "ID de artista Louis Tomlinson: 57WHJIHrjOE3iAxpihhMnp\n"
     ]
    },
    {
     "data": {
      "text/html": [
       "<div>\n",
       "<style scoped>\n",
       "    .dataframe tbody tr th:only-of-type {\n",
       "        vertical-align: middle;\n",
       "    }\n",
       "\n",
       "    .dataframe tbody tr th {\n",
       "        vertical-align: top;\n",
       "    }\n",
       "\n",
       "    .dataframe thead th {\n",
       "        text-align: right;\n",
       "    }\n",
       "</style>\n",
       "<table border=\"1\" class=\"dataframe\">\n",
       "  <thead>\n",
       "    <tr style=\"text-align: right;\">\n",
       "      <th></th>\n",
       "      <th>Álbum</th>\n",
       "      <th>Tipo</th>\n",
       "      <th>Año</th>\n",
       "      <th>Canción</th>\n",
       "      <th>Artistas</th>\n",
       "      <th>Duración</th>\n",
       "      <th>Popularidad</th>\n",
       "      <th>Etapa</th>\n",
       "    </tr>\n",
       "  </thead>\n",
       "  <tbody>\n",
       "    <tr>\n",
       "      <th>0</th>\n",
       "      <td>LIVE</td>\n",
       "      <td>Álbum</td>\n",
       "      <td>2024</td>\n",
       "      <td>The Greatest - Live From London, 17 November 2023</td>\n",
       "      <td>Louis Tomlinson</td>\n",
       "      <td>03:48</td>\n",
       "      <td>47</td>\n",
       "      <td>Solista</td>\n",
       "    </tr>\n",
       "    <tr>\n",
       "      <th>1</th>\n",
       "      <td>LIVE</td>\n",
       "      <td>Álbum</td>\n",
       "      <td>2024</td>\n",
       "      <td>Face The Music - Live From Nashville, 18 July ...</td>\n",
       "      <td>Louis Tomlinson</td>\n",
       "      <td>02:50</td>\n",
       "      <td>45</td>\n",
       "      <td>Solista</td>\n",
       "    </tr>\n",
       "    <tr>\n",
       "      <th>2</th>\n",
       "      <td>LIVE</td>\n",
       "      <td>Álbum</td>\n",
       "      <td>2024</td>\n",
       "      <td>Bigger Than Me - Live From Vancouver, 26 June ...</td>\n",
       "      <td>Louis Tomlinson</td>\n",
       "      <td>03:45</td>\n",
       "      <td>44</td>\n",
       "      <td>Solista</td>\n",
       "    </tr>\n",
       "    <tr>\n",
       "      <th>3</th>\n",
       "      <td>LIVE</td>\n",
       "      <td>Álbum</td>\n",
       "      <td>2024</td>\n",
       "      <td>Holding On To Heartache - Live From Barcelona,...</td>\n",
       "      <td>Louis Tomlinson</td>\n",
       "      <td>04:04</td>\n",
       "      <td>46</td>\n",
       "      <td>Solista</td>\n",
       "    </tr>\n",
       "    <tr>\n",
       "      <th>4</th>\n",
       "      <td>LIVE</td>\n",
       "      <td>Álbum</td>\n",
       "      <td>2024</td>\n",
       "      <td>We Made It - Live From Manila, 16 July 2022</td>\n",
       "      <td>Louis Tomlinson</td>\n",
       "      <td>03:29</td>\n",
       "      <td>44</td>\n",
       "      <td>Solista</td>\n",
       "    </tr>\n",
       "    <tr>\n",
       "      <th>...</th>\n",
       "      <td>...</td>\n",
       "      <td>...</td>\n",
       "      <td>...</td>\n",
       "      <td>...</td>\n",
       "      <td>...</td>\n",
       "      <td>...</td>\n",
       "      <td>...</td>\n",
       "      <td>...</td>\n",
       "    </tr>\n",
       "    <tr>\n",
       "      <th>98</th>\n",
       "      <td>Just Hold On (Remixes)</td>\n",
       "      <td>Single</td>\n",
       "      <td>2017</td>\n",
       "      <td>Just Hold On - Attom Remix</td>\n",
       "      <td>Steve Aoki, Louis Tomlinson, Attom</td>\n",
       "      <td>04:03</td>\n",
       "      <td>21</td>\n",
       "      <td>Solista</td>\n",
       "    </tr>\n",
       "    <tr>\n",
       "      <th>99</th>\n",
       "      <td>Just Hold On (Remixes)</td>\n",
       "      <td>Single</td>\n",
       "      <td>2017</td>\n",
       "      <td>Just Hold On - Two Friends Remix</td>\n",
       "      <td>Steve Aoki, Louis Tomlinson, Two Friends</td>\n",
       "      <td>03:50</td>\n",
       "      <td>23</td>\n",
       "      <td>Solista</td>\n",
       "    </tr>\n",
       "    <tr>\n",
       "      <th>100</th>\n",
       "      <td>Just Hold On (Remixes)</td>\n",
       "      <td>Single</td>\n",
       "      <td>2017</td>\n",
       "      <td>Just Hold On - Shaan Remix</td>\n",
       "      <td>Steve Aoki, Louis Tomlinson, Shaan</td>\n",
       "      <td>02:40</td>\n",
       "      <td>18</td>\n",
       "      <td>Solista</td>\n",
       "    </tr>\n",
       "    <tr>\n",
       "      <th>101</th>\n",
       "      <td>Just Hold On (Remixes)</td>\n",
       "      <td>Single</td>\n",
       "      <td>2017</td>\n",
       "      <td>Just Hold On - TJH87 Remix</td>\n",
       "      <td>Steve Aoki, Louis Tomlinson, TJH87</td>\n",
       "      <td>04:56</td>\n",
       "      <td>19</td>\n",
       "      <td>Solista</td>\n",
       "    </tr>\n",
       "    <tr>\n",
       "      <th>102</th>\n",
       "      <td>Just Hold On</td>\n",
       "      <td>Single</td>\n",
       "      <td>2016</td>\n",
       "      <td>Just Hold On</td>\n",
       "      <td>Steve Aoki, Louis Tomlinson</td>\n",
       "      <td>03:18</td>\n",
       "      <td>56</td>\n",
       "      <td>Solista</td>\n",
       "    </tr>\n",
       "  </tbody>\n",
       "</table>\n",
       "<p>103 rows × 8 columns</p>\n",
       "</div>"
      ],
      "text/plain": [
       "                      Álbum    Tipo   Año  \\\n",
       "0                      LIVE   Álbum  2024   \n",
       "1                      LIVE   Álbum  2024   \n",
       "2                      LIVE   Álbum  2024   \n",
       "3                      LIVE   Álbum  2024   \n",
       "4                      LIVE   Álbum  2024   \n",
       "..                      ...     ...   ...   \n",
       "98   Just Hold On (Remixes)  Single  2017   \n",
       "99   Just Hold On (Remixes)  Single  2017   \n",
       "100  Just Hold On (Remixes)  Single  2017   \n",
       "101  Just Hold On (Remixes)  Single  2017   \n",
       "102            Just Hold On  Single  2016   \n",
       "\n",
       "                                               Canción  \\\n",
       "0    The Greatest - Live From London, 17 November 2023   \n",
       "1    Face The Music - Live From Nashville, 18 July ...   \n",
       "2    Bigger Than Me - Live From Vancouver, 26 June ...   \n",
       "3    Holding On To Heartache - Live From Barcelona,...   \n",
       "4          We Made It - Live From Manila, 16 July 2022   \n",
       "..                                                 ...   \n",
       "98                          Just Hold On - Attom Remix   \n",
       "99                    Just Hold On - Two Friends Remix   \n",
       "100                         Just Hold On - Shaan Remix   \n",
       "101                         Just Hold On - TJH87 Remix   \n",
       "102                                       Just Hold On   \n",
       "\n",
       "                                     Artistas Duración  Popularidad    Etapa  \n",
       "0                             Louis Tomlinson    03:48           47  Solista  \n",
       "1                             Louis Tomlinson    02:50           45  Solista  \n",
       "2                             Louis Tomlinson    03:45           44  Solista  \n",
       "3                             Louis Tomlinson    04:04           46  Solista  \n",
       "4                             Louis Tomlinson    03:29           44  Solista  \n",
       "..                                        ...      ...          ...      ...  \n",
       "98         Steve Aoki, Louis Tomlinson, Attom    04:03           21  Solista  \n",
       "99   Steve Aoki, Louis Tomlinson, Two Friends    03:50           23  Solista  \n",
       "100        Steve Aoki, Louis Tomlinson, Shaan    02:40           18  Solista  \n",
       "101        Steve Aoki, Louis Tomlinson, TJH87    04:56           19  Solista  \n",
       "102               Steve Aoki, Louis Tomlinson    03:18           56  Solista  \n",
       "\n",
       "[103 rows x 8 columns]"
      ]
     },
     "execution_count": 175,
     "metadata": {},
     "output_type": "execute_result"
    }
   ],
   "source": [
    "id_LT = encontrarID('Louis Tomlinson')\n",
    "print('ID de artista Louis Tomlinson:', id_LT)\n",
    "\n",
    "df_LT = obtenerData(id_LT)\n",
    "df_LT['Etapa'] = 'Solista'\n",
    "df_LT"
   ]
  },
  {
   "cell_type": "markdown",
   "metadata": {},
   "source": [
    "# Concatenacion de los DataFrames\n",
    "\n",
    "se concatenan los DataFrames obtenidos anteriormente por medio de las funciones con la función de pandas \"concat()\""
   ]
  },
  {
   "cell_type": "code",
   "execution_count": 176,
   "metadata": {},
   "outputs": [
    {
     "data": {
      "text/html": [
       "<div>\n",
       "<style scoped>\n",
       "    .dataframe tbody tr th:only-of-type {\n",
       "        vertical-align: middle;\n",
       "    }\n",
       "\n",
       "    .dataframe tbody tr th {\n",
       "        vertical-align: top;\n",
       "    }\n",
       "\n",
       "    .dataframe thead th {\n",
       "        text-align: right;\n",
       "    }\n",
       "</style>\n",
       "<table border=\"1\" class=\"dataframe\">\n",
       "  <thead>\n",
       "    <tr style=\"text-align: right;\">\n",
       "      <th></th>\n",
       "      <th>Álbum</th>\n",
       "      <th>Tipo</th>\n",
       "      <th>Año</th>\n",
       "      <th>Canción</th>\n",
       "      <th>Artistas</th>\n",
       "      <th>Duración</th>\n",
       "      <th>Popularidad</th>\n",
       "      <th>Etapa</th>\n",
       "    </tr>\n",
       "  </thead>\n",
       "  <tbody>\n",
       "    <tr>\n",
       "      <th>0</th>\n",
       "      <td>Made In The A.M. (Deluxe Edition)</td>\n",
       "      <td>Álbum</td>\n",
       "      <td>2015</td>\n",
       "      <td>Hey Angel</td>\n",
       "      <td>One Direction</td>\n",
       "      <td>04:00</td>\n",
       "      <td>57</td>\n",
       "      <td>One Direction</td>\n",
       "    </tr>\n",
       "    <tr>\n",
       "      <th>1</th>\n",
       "      <td>Made In The A.M. (Deluxe Edition)</td>\n",
       "      <td>Álbum</td>\n",
       "      <td>2015</td>\n",
       "      <td>Drag Me Down</td>\n",
       "      <td>One Direction</td>\n",
       "      <td>03:12</td>\n",
       "      <td>80</td>\n",
       "      <td>One Direction</td>\n",
       "    </tr>\n",
       "    <tr>\n",
       "      <th>2</th>\n",
       "      <td>Made In The A.M. (Deluxe Edition)</td>\n",
       "      <td>Álbum</td>\n",
       "      <td>2015</td>\n",
       "      <td>Perfect</td>\n",
       "      <td>One Direction</td>\n",
       "      <td>03:50</td>\n",
       "      <td>79</td>\n",
       "      <td>One Direction</td>\n",
       "    </tr>\n",
       "    <tr>\n",
       "      <th>3</th>\n",
       "      <td>Made In The A.M. (Deluxe Edition)</td>\n",
       "      <td>Álbum</td>\n",
       "      <td>2015</td>\n",
       "      <td>Infinity</td>\n",
       "      <td>One Direction</td>\n",
       "      <td>04:09</td>\n",
       "      <td>62</td>\n",
       "      <td>One Direction</td>\n",
       "    </tr>\n",
       "    <tr>\n",
       "      <th>4</th>\n",
       "      <td>Made In The A.M. (Deluxe Edition)</td>\n",
       "      <td>Álbum</td>\n",
       "      <td>2015</td>\n",
       "      <td>End of the Day</td>\n",
       "      <td>One Direction</td>\n",
       "      <td>03:14</td>\n",
       "      <td>59</td>\n",
       "      <td>One Direction</td>\n",
       "    </tr>\n",
       "    <tr>\n",
       "      <th>...</th>\n",
       "      <td>...</td>\n",
       "      <td>...</td>\n",
       "      <td>...</td>\n",
       "      <td>...</td>\n",
       "      <td>...</td>\n",
       "      <td>...</td>\n",
       "      <td>...</td>\n",
       "      <td>...</td>\n",
       "    </tr>\n",
       "    <tr>\n",
       "      <th>226</th>\n",
       "      <td>Just Hold On (Remixes)</td>\n",
       "      <td>Single</td>\n",
       "      <td>2017</td>\n",
       "      <td>Just Hold On - Attom Remix</td>\n",
       "      <td>Steve Aoki, Louis Tomlinson, Attom</td>\n",
       "      <td>04:03</td>\n",
       "      <td>21</td>\n",
       "      <td>Solista</td>\n",
       "    </tr>\n",
       "    <tr>\n",
       "      <th>227</th>\n",
       "      <td>Just Hold On (Remixes)</td>\n",
       "      <td>Single</td>\n",
       "      <td>2017</td>\n",
       "      <td>Just Hold On - Two Friends Remix</td>\n",
       "      <td>Steve Aoki, Louis Tomlinson, Two Friends</td>\n",
       "      <td>03:50</td>\n",
       "      <td>23</td>\n",
       "      <td>Solista</td>\n",
       "    </tr>\n",
       "    <tr>\n",
       "      <th>228</th>\n",
       "      <td>Just Hold On (Remixes)</td>\n",
       "      <td>Single</td>\n",
       "      <td>2017</td>\n",
       "      <td>Just Hold On - Shaan Remix</td>\n",
       "      <td>Steve Aoki, Louis Tomlinson, Shaan</td>\n",
       "      <td>02:40</td>\n",
       "      <td>18</td>\n",
       "      <td>Solista</td>\n",
       "    </tr>\n",
       "    <tr>\n",
       "      <th>229</th>\n",
       "      <td>Just Hold On (Remixes)</td>\n",
       "      <td>Single</td>\n",
       "      <td>2017</td>\n",
       "      <td>Just Hold On - TJH87 Remix</td>\n",
       "      <td>Steve Aoki, Louis Tomlinson, TJH87</td>\n",
       "      <td>04:56</td>\n",
       "      <td>19</td>\n",
       "      <td>Solista</td>\n",
       "    </tr>\n",
       "    <tr>\n",
       "      <th>230</th>\n",
       "      <td>Just Hold On</td>\n",
       "      <td>Single</td>\n",
       "      <td>2016</td>\n",
       "      <td>Just Hold On</td>\n",
       "      <td>Steve Aoki, Louis Tomlinson</td>\n",
       "      <td>03:18</td>\n",
       "      <td>56</td>\n",
       "      <td>Solista</td>\n",
       "    </tr>\n",
       "  </tbody>\n",
       "</table>\n",
       "<p>231 rows × 8 columns</p>\n",
       "</div>"
      ],
      "text/plain": [
       "                                 Álbum    Tipo   Año  \\\n",
       "0    Made In The A.M. (Deluxe Edition)   Álbum  2015   \n",
       "1    Made In The A.M. (Deluxe Edition)   Álbum  2015   \n",
       "2    Made In The A.M. (Deluxe Edition)   Álbum  2015   \n",
       "3    Made In The A.M. (Deluxe Edition)   Álbum  2015   \n",
       "4    Made In The A.M. (Deluxe Edition)   Álbum  2015   \n",
       "..                                 ...     ...   ...   \n",
       "226             Just Hold On (Remixes)  Single  2017   \n",
       "227             Just Hold On (Remixes)  Single  2017   \n",
       "228             Just Hold On (Remixes)  Single  2017   \n",
       "229             Just Hold On (Remixes)  Single  2017   \n",
       "230                       Just Hold On  Single  2016   \n",
       "\n",
       "                              Canción  \\\n",
       "0                           Hey Angel   \n",
       "1                        Drag Me Down   \n",
       "2                             Perfect   \n",
       "3                            Infinity   \n",
       "4                      End of the Day   \n",
       "..                                ...   \n",
       "226        Just Hold On - Attom Remix   \n",
       "227  Just Hold On - Two Friends Remix   \n",
       "228        Just Hold On - Shaan Remix   \n",
       "229        Just Hold On - TJH87 Remix   \n",
       "230                      Just Hold On   \n",
       "\n",
       "                                     Artistas Duración  Popularidad  \\\n",
       "0                               One Direction    04:00           57   \n",
       "1                               One Direction    03:12           80   \n",
       "2                               One Direction    03:50           79   \n",
       "3                               One Direction    04:09           62   \n",
       "4                               One Direction    03:14           59   \n",
       "..                                        ...      ...          ...   \n",
       "226        Steve Aoki, Louis Tomlinson, Attom    04:03           21   \n",
       "227  Steve Aoki, Louis Tomlinson, Two Friends    03:50           23   \n",
       "228        Steve Aoki, Louis Tomlinson, Shaan    02:40           18   \n",
       "229        Steve Aoki, Louis Tomlinson, TJH87    04:56           19   \n",
       "230               Steve Aoki, Louis Tomlinson    03:18           56   \n",
       "\n",
       "             Etapa  \n",
       "0    One Direction  \n",
       "1    One Direction  \n",
       "2    One Direction  \n",
       "3    One Direction  \n",
       "4    One Direction  \n",
       "..             ...  \n",
       "226        Solista  \n",
       "227        Solista  \n",
       "228        Solista  \n",
       "229        Solista  \n",
       "230        Solista  \n",
       "\n",
       "[231 rows x 8 columns]"
      ]
     },
     "execution_count": 176,
     "metadata": {},
     "output_type": "execute_result"
    }
   ],
   "source": [
    "df_concat = pd.concat([df_OD, df_LT], ignore_index=True)\n",
    "df_concat"
   ]
  },
  {
   "cell_type": "markdown",
   "metadata": {},
   "source": [
    "# Creación de la de nuevas columnas\n",
    "\n",
    "este código transforma la duración de cada canción de un formato inicial a segundos enteros"
   ]
  },
  {
   "cell_type": "code",
   "execution_count": 177,
   "metadata": {},
   "outputs": [
    {
     "data": {
      "text/html": [
       "<div>\n",
       "<style scoped>\n",
       "    .dataframe tbody tr th:only-of-type {\n",
       "        vertical-align: middle;\n",
       "    }\n",
       "\n",
       "    .dataframe tbody tr th {\n",
       "        vertical-align: top;\n",
       "    }\n",
       "\n",
       "    .dataframe thead th {\n",
       "        text-align: right;\n",
       "    }\n",
       "</style>\n",
       "<table border=\"1\" class=\"dataframe\">\n",
       "  <thead>\n",
       "    <tr style=\"text-align: right;\">\n",
       "      <th></th>\n",
       "      <th>Álbum</th>\n",
       "      <th>Tipo</th>\n",
       "      <th>Año</th>\n",
       "      <th>Canción</th>\n",
       "      <th>Artistas</th>\n",
       "      <th>Duración</th>\n",
       "      <th>Popularidad</th>\n",
       "      <th>Etapa</th>\n",
       "      <th>Duración_formato</th>\n",
       "      <th>Duración_timedelta</th>\n",
       "      <th>Duración_segundos</th>\n",
       "    </tr>\n",
       "  </thead>\n",
       "  <tbody>\n",
       "    <tr>\n",
       "      <th>0</th>\n",
       "      <td>Made In The A.M. (Deluxe Edition)</td>\n",
       "      <td>Álbum</td>\n",
       "      <td>2015</td>\n",
       "      <td>Hey Angel</td>\n",
       "      <td>One Direction</td>\n",
       "      <td>04:00</td>\n",
       "      <td>57</td>\n",
       "      <td>One Direction</td>\n",
       "      <td>00:04:00</td>\n",
       "      <td>0 days 00:04:00</td>\n",
       "      <td>240</td>\n",
       "    </tr>\n",
       "    <tr>\n",
       "      <th>1</th>\n",
       "      <td>Made In The A.M. (Deluxe Edition)</td>\n",
       "      <td>Álbum</td>\n",
       "      <td>2015</td>\n",
       "      <td>Drag Me Down</td>\n",
       "      <td>One Direction</td>\n",
       "      <td>03:12</td>\n",
       "      <td>80</td>\n",
       "      <td>One Direction</td>\n",
       "      <td>00:03:12</td>\n",
       "      <td>0 days 00:03:12</td>\n",
       "      <td>192</td>\n",
       "    </tr>\n",
       "    <tr>\n",
       "      <th>2</th>\n",
       "      <td>Made In The A.M. (Deluxe Edition)</td>\n",
       "      <td>Álbum</td>\n",
       "      <td>2015</td>\n",
       "      <td>Perfect</td>\n",
       "      <td>One Direction</td>\n",
       "      <td>03:50</td>\n",
       "      <td>79</td>\n",
       "      <td>One Direction</td>\n",
       "      <td>00:03:50</td>\n",
       "      <td>0 days 00:03:50</td>\n",
       "      <td>230</td>\n",
       "    </tr>\n",
       "    <tr>\n",
       "      <th>3</th>\n",
       "      <td>Made In The A.M. (Deluxe Edition)</td>\n",
       "      <td>Álbum</td>\n",
       "      <td>2015</td>\n",
       "      <td>Infinity</td>\n",
       "      <td>One Direction</td>\n",
       "      <td>04:09</td>\n",
       "      <td>62</td>\n",
       "      <td>One Direction</td>\n",
       "      <td>00:04:09</td>\n",
       "      <td>0 days 00:04:09</td>\n",
       "      <td>249</td>\n",
       "    </tr>\n",
       "    <tr>\n",
       "      <th>4</th>\n",
       "      <td>Made In The A.M. (Deluxe Edition)</td>\n",
       "      <td>Álbum</td>\n",
       "      <td>2015</td>\n",
       "      <td>End of the Day</td>\n",
       "      <td>One Direction</td>\n",
       "      <td>03:14</td>\n",
       "      <td>59</td>\n",
       "      <td>One Direction</td>\n",
       "      <td>00:03:14</td>\n",
       "      <td>0 days 00:03:14</td>\n",
       "      <td>194</td>\n",
       "    </tr>\n",
       "    <tr>\n",
       "      <th>...</th>\n",
       "      <td>...</td>\n",
       "      <td>...</td>\n",
       "      <td>...</td>\n",
       "      <td>...</td>\n",
       "      <td>...</td>\n",
       "      <td>...</td>\n",
       "      <td>...</td>\n",
       "      <td>...</td>\n",
       "      <td>...</td>\n",
       "      <td>...</td>\n",
       "      <td>...</td>\n",
       "    </tr>\n",
       "    <tr>\n",
       "      <th>226</th>\n",
       "      <td>Just Hold On (Remixes)</td>\n",
       "      <td>Single</td>\n",
       "      <td>2017</td>\n",
       "      <td>Just Hold On - Attom Remix</td>\n",
       "      <td>Steve Aoki, Louis Tomlinson, Attom</td>\n",
       "      <td>04:03</td>\n",
       "      <td>21</td>\n",
       "      <td>Solista</td>\n",
       "      <td>00:04:03</td>\n",
       "      <td>0 days 00:04:03</td>\n",
       "      <td>243</td>\n",
       "    </tr>\n",
       "    <tr>\n",
       "      <th>227</th>\n",
       "      <td>Just Hold On (Remixes)</td>\n",
       "      <td>Single</td>\n",
       "      <td>2017</td>\n",
       "      <td>Just Hold On - Two Friends Remix</td>\n",
       "      <td>Steve Aoki, Louis Tomlinson, Two Friends</td>\n",
       "      <td>03:50</td>\n",
       "      <td>23</td>\n",
       "      <td>Solista</td>\n",
       "      <td>00:03:50</td>\n",
       "      <td>0 days 00:03:50</td>\n",
       "      <td>230</td>\n",
       "    </tr>\n",
       "    <tr>\n",
       "      <th>228</th>\n",
       "      <td>Just Hold On (Remixes)</td>\n",
       "      <td>Single</td>\n",
       "      <td>2017</td>\n",
       "      <td>Just Hold On - Shaan Remix</td>\n",
       "      <td>Steve Aoki, Louis Tomlinson, Shaan</td>\n",
       "      <td>02:40</td>\n",
       "      <td>18</td>\n",
       "      <td>Solista</td>\n",
       "      <td>00:02:40</td>\n",
       "      <td>0 days 00:02:40</td>\n",
       "      <td>160</td>\n",
       "    </tr>\n",
       "    <tr>\n",
       "      <th>229</th>\n",
       "      <td>Just Hold On (Remixes)</td>\n",
       "      <td>Single</td>\n",
       "      <td>2017</td>\n",
       "      <td>Just Hold On - TJH87 Remix</td>\n",
       "      <td>Steve Aoki, Louis Tomlinson, TJH87</td>\n",
       "      <td>04:56</td>\n",
       "      <td>19</td>\n",
       "      <td>Solista</td>\n",
       "      <td>00:04:56</td>\n",
       "      <td>0 days 00:04:56</td>\n",
       "      <td>296</td>\n",
       "    </tr>\n",
       "    <tr>\n",
       "      <th>230</th>\n",
       "      <td>Just Hold On</td>\n",
       "      <td>Single</td>\n",
       "      <td>2016</td>\n",
       "      <td>Just Hold On</td>\n",
       "      <td>Steve Aoki, Louis Tomlinson</td>\n",
       "      <td>03:18</td>\n",
       "      <td>56</td>\n",
       "      <td>Solista</td>\n",
       "      <td>00:03:18</td>\n",
       "      <td>0 days 00:03:18</td>\n",
       "      <td>198</td>\n",
       "    </tr>\n",
       "  </tbody>\n",
       "</table>\n",
       "<p>231 rows × 11 columns</p>\n",
       "</div>"
      ],
      "text/plain": [
       "                                 Álbum    Tipo   Año  \\\n",
       "0    Made In The A.M. (Deluxe Edition)   Álbum  2015   \n",
       "1    Made In The A.M. (Deluxe Edition)   Álbum  2015   \n",
       "2    Made In The A.M. (Deluxe Edition)   Álbum  2015   \n",
       "3    Made In The A.M. (Deluxe Edition)   Álbum  2015   \n",
       "4    Made In The A.M. (Deluxe Edition)   Álbum  2015   \n",
       "..                                 ...     ...   ...   \n",
       "226             Just Hold On (Remixes)  Single  2017   \n",
       "227             Just Hold On (Remixes)  Single  2017   \n",
       "228             Just Hold On (Remixes)  Single  2017   \n",
       "229             Just Hold On (Remixes)  Single  2017   \n",
       "230                       Just Hold On  Single  2016   \n",
       "\n",
       "                              Canción  \\\n",
       "0                           Hey Angel   \n",
       "1                        Drag Me Down   \n",
       "2                             Perfect   \n",
       "3                            Infinity   \n",
       "4                      End of the Day   \n",
       "..                                ...   \n",
       "226        Just Hold On - Attom Remix   \n",
       "227  Just Hold On - Two Friends Remix   \n",
       "228        Just Hold On - Shaan Remix   \n",
       "229        Just Hold On - TJH87 Remix   \n",
       "230                      Just Hold On   \n",
       "\n",
       "                                     Artistas Duración  Popularidad  \\\n",
       "0                               One Direction    04:00           57   \n",
       "1                               One Direction    03:12           80   \n",
       "2                               One Direction    03:50           79   \n",
       "3                               One Direction    04:09           62   \n",
       "4                               One Direction    03:14           59   \n",
       "..                                        ...      ...          ...   \n",
       "226        Steve Aoki, Louis Tomlinson, Attom    04:03           21   \n",
       "227  Steve Aoki, Louis Tomlinson, Two Friends    03:50           23   \n",
       "228        Steve Aoki, Louis Tomlinson, Shaan    02:40           18   \n",
       "229        Steve Aoki, Louis Tomlinson, TJH87    04:56           19   \n",
       "230               Steve Aoki, Louis Tomlinson    03:18           56   \n",
       "\n",
       "             Etapa Duración_formato Duración_timedelta  Duración_segundos  \n",
       "0    One Direction         00:04:00    0 days 00:04:00                240  \n",
       "1    One Direction         00:03:12    0 days 00:03:12                192  \n",
       "2    One Direction         00:03:50    0 days 00:03:50                230  \n",
       "3    One Direction         00:04:09    0 days 00:04:09                249  \n",
       "4    One Direction         00:03:14    0 days 00:03:14                194  \n",
       "..             ...              ...                ...                ...  \n",
       "226        Solista         00:04:03    0 days 00:04:03                243  \n",
       "227        Solista         00:03:50    0 days 00:03:50                230  \n",
       "228        Solista         00:02:40    0 days 00:02:40                160  \n",
       "229        Solista         00:04:56    0 days 00:04:56                296  \n",
       "230        Solista         00:03:18    0 days 00:03:18                198  \n",
       "\n",
       "[231 rows x 11 columns]"
      ]
     },
     "execution_count": 177,
     "metadata": {},
     "output_type": "execute_result"
    }
   ],
   "source": [
    "df_concat[\"Duración_formato\"] = \"00:\" + df_concat[\"Duración\"]\n",
    "df_concat[\"Duración_timedelta\"] = pd.to_timedelta(df_concat[\"Duración_formato\"])\n",
    "df_concat[\"Duración_segundos\"] = df_concat[\"Duración_timedelta\"].dt.total_seconds()\n",
    "df_concat[\"Duración_segundos\"] = df_concat[\"Duración_segundos\"].astype(int)\n",
    "\n",
    "df_concat"
   ]
  },
  {
   "cell_type": "markdown",
   "metadata": {},
   "source": [
    "# Eliminación de columnas\n",
    "\n",
    "se elimina las columnas \"Duración_formato\" y \"Duración_timedelta\" ya que no se consideran relevantes para el analisis de la data, se deja solo la columna \"Duración_segundos\""
   ]
  },
  {
   "cell_type": "code",
   "execution_count": 178,
   "metadata": {},
   "outputs": [
    {
     "data": {
      "text/html": [
       "<div>\n",
       "<style scoped>\n",
       "    .dataframe tbody tr th:only-of-type {\n",
       "        vertical-align: middle;\n",
       "    }\n",
       "\n",
       "    .dataframe tbody tr th {\n",
       "        vertical-align: top;\n",
       "    }\n",
       "\n",
       "    .dataframe thead th {\n",
       "        text-align: right;\n",
       "    }\n",
       "</style>\n",
       "<table border=\"1\" class=\"dataframe\">\n",
       "  <thead>\n",
       "    <tr style=\"text-align: right;\">\n",
       "      <th></th>\n",
       "      <th>Álbum</th>\n",
       "      <th>Tipo</th>\n",
       "      <th>Año</th>\n",
       "      <th>Canción</th>\n",
       "      <th>Artistas</th>\n",
       "      <th>Duración</th>\n",
       "      <th>Popularidad</th>\n",
       "      <th>Etapa</th>\n",
       "      <th>Duración_segundos</th>\n",
       "    </tr>\n",
       "  </thead>\n",
       "  <tbody>\n",
       "    <tr>\n",
       "      <th>0</th>\n",
       "      <td>Made In The A.M. (Deluxe Edition)</td>\n",
       "      <td>Álbum</td>\n",
       "      <td>2015</td>\n",
       "      <td>Hey Angel</td>\n",
       "      <td>One Direction</td>\n",
       "      <td>04:00</td>\n",
       "      <td>57</td>\n",
       "      <td>One Direction</td>\n",
       "      <td>240</td>\n",
       "    </tr>\n",
       "    <tr>\n",
       "      <th>1</th>\n",
       "      <td>Made In The A.M. (Deluxe Edition)</td>\n",
       "      <td>Álbum</td>\n",
       "      <td>2015</td>\n",
       "      <td>Drag Me Down</td>\n",
       "      <td>One Direction</td>\n",
       "      <td>03:12</td>\n",
       "      <td>80</td>\n",
       "      <td>One Direction</td>\n",
       "      <td>192</td>\n",
       "    </tr>\n",
       "    <tr>\n",
       "      <th>2</th>\n",
       "      <td>Made In The A.M. (Deluxe Edition)</td>\n",
       "      <td>Álbum</td>\n",
       "      <td>2015</td>\n",
       "      <td>Perfect</td>\n",
       "      <td>One Direction</td>\n",
       "      <td>03:50</td>\n",
       "      <td>79</td>\n",
       "      <td>One Direction</td>\n",
       "      <td>230</td>\n",
       "    </tr>\n",
       "    <tr>\n",
       "      <th>3</th>\n",
       "      <td>Made In The A.M. (Deluxe Edition)</td>\n",
       "      <td>Álbum</td>\n",
       "      <td>2015</td>\n",
       "      <td>Infinity</td>\n",
       "      <td>One Direction</td>\n",
       "      <td>04:09</td>\n",
       "      <td>62</td>\n",
       "      <td>One Direction</td>\n",
       "      <td>249</td>\n",
       "    </tr>\n",
       "    <tr>\n",
       "      <th>4</th>\n",
       "      <td>Made In The A.M. (Deluxe Edition)</td>\n",
       "      <td>Álbum</td>\n",
       "      <td>2015</td>\n",
       "      <td>End of the Day</td>\n",
       "      <td>One Direction</td>\n",
       "      <td>03:14</td>\n",
       "      <td>59</td>\n",
       "      <td>One Direction</td>\n",
       "      <td>194</td>\n",
       "    </tr>\n",
       "    <tr>\n",
       "      <th>...</th>\n",
       "      <td>...</td>\n",
       "      <td>...</td>\n",
       "      <td>...</td>\n",
       "      <td>...</td>\n",
       "      <td>...</td>\n",
       "      <td>...</td>\n",
       "      <td>...</td>\n",
       "      <td>...</td>\n",
       "      <td>...</td>\n",
       "    </tr>\n",
       "    <tr>\n",
       "      <th>226</th>\n",
       "      <td>Just Hold On (Remixes)</td>\n",
       "      <td>Single</td>\n",
       "      <td>2017</td>\n",
       "      <td>Just Hold On - Attom Remix</td>\n",
       "      <td>Steve Aoki, Louis Tomlinson, Attom</td>\n",
       "      <td>04:03</td>\n",
       "      <td>21</td>\n",
       "      <td>Solista</td>\n",
       "      <td>243</td>\n",
       "    </tr>\n",
       "    <tr>\n",
       "      <th>227</th>\n",
       "      <td>Just Hold On (Remixes)</td>\n",
       "      <td>Single</td>\n",
       "      <td>2017</td>\n",
       "      <td>Just Hold On - Two Friends Remix</td>\n",
       "      <td>Steve Aoki, Louis Tomlinson, Two Friends</td>\n",
       "      <td>03:50</td>\n",
       "      <td>23</td>\n",
       "      <td>Solista</td>\n",
       "      <td>230</td>\n",
       "    </tr>\n",
       "    <tr>\n",
       "      <th>228</th>\n",
       "      <td>Just Hold On (Remixes)</td>\n",
       "      <td>Single</td>\n",
       "      <td>2017</td>\n",
       "      <td>Just Hold On - Shaan Remix</td>\n",
       "      <td>Steve Aoki, Louis Tomlinson, Shaan</td>\n",
       "      <td>02:40</td>\n",
       "      <td>18</td>\n",
       "      <td>Solista</td>\n",
       "      <td>160</td>\n",
       "    </tr>\n",
       "    <tr>\n",
       "      <th>229</th>\n",
       "      <td>Just Hold On (Remixes)</td>\n",
       "      <td>Single</td>\n",
       "      <td>2017</td>\n",
       "      <td>Just Hold On - TJH87 Remix</td>\n",
       "      <td>Steve Aoki, Louis Tomlinson, TJH87</td>\n",
       "      <td>04:56</td>\n",
       "      <td>19</td>\n",
       "      <td>Solista</td>\n",
       "      <td>296</td>\n",
       "    </tr>\n",
       "    <tr>\n",
       "      <th>230</th>\n",
       "      <td>Just Hold On</td>\n",
       "      <td>Single</td>\n",
       "      <td>2016</td>\n",
       "      <td>Just Hold On</td>\n",
       "      <td>Steve Aoki, Louis Tomlinson</td>\n",
       "      <td>03:18</td>\n",
       "      <td>56</td>\n",
       "      <td>Solista</td>\n",
       "      <td>198</td>\n",
       "    </tr>\n",
       "  </tbody>\n",
       "</table>\n",
       "<p>231 rows × 9 columns</p>\n",
       "</div>"
      ],
      "text/plain": [
       "                                 Álbum    Tipo   Año  \\\n",
       "0    Made In The A.M. (Deluxe Edition)   Álbum  2015   \n",
       "1    Made In The A.M. (Deluxe Edition)   Álbum  2015   \n",
       "2    Made In The A.M. (Deluxe Edition)   Álbum  2015   \n",
       "3    Made In The A.M. (Deluxe Edition)   Álbum  2015   \n",
       "4    Made In The A.M. (Deluxe Edition)   Álbum  2015   \n",
       "..                                 ...     ...   ...   \n",
       "226             Just Hold On (Remixes)  Single  2017   \n",
       "227             Just Hold On (Remixes)  Single  2017   \n",
       "228             Just Hold On (Remixes)  Single  2017   \n",
       "229             Just Hold On (Remixes)  Single  2017   \n",
       "230                       Just Hold On  Single  2016   \n",
       "\n",
       "                              Canción  \\\n",
       "0                           Hey Angel   \n",
       "1                        Drag Me Down   \n",
       "2                             Perfect   \n",
       "3                            Infinity   \n",
       "4                      End of the Day   \n",
       "..                                ...   \n",
       "226        Just Hold On - Attom Remix   \n",
       "227  Just Hold On - Two Friends Remix   \n",
       "228        Just Hold On - Shaan Remix   \n",
       "229        Just Hold On - TJH87 Remix   \n",
       "230                      Just Hold On   \n",
       "\n",
       "                                     Artistas Duración  Popularidad  \\\n",
       "0                               One Direction    04:00           57   \n",
       "1                               One Direction    03:12           80   \n",
       "2                               One Direction    03:50           79   \n",
       "3                               One Direction    04:09           62   \n",
       "4                               One Direction    03:14           59   \n",
       "..                                        ...      ...          ...   \n",
       "226        Steve Aoki, Louis Tomlinson, Attom    04:03           21   \n",
       "227  Steve Aoki, Louis Tomlinson, Two Friends    03:50           23   \n",
       "228        Steve Aoki, Louis Tomlinson, Shaan    02:40           18   \n",
       "229        Steve Aoki, Louis Tomlinson, TJH87    04:56           19   \n",
       "230               Steve Aoki, Louis Tomlinson    03:18           56   \n",
       "\n",
       "             Etapa  Duración_segundos  \n",
       "0    One Direction                240  \n",
       "1    One Direction                192  \n",
       "2    One Direction                230  \n",
       "3    One Direction                249  \n",
       "4    One Direction                194  \n",
       "..             ...                ...  \n",
       "226        Solista                243  \n",
       "227        Solista                230  \n",
       "228        Solista                160  \n",
       "229        Solista                296  \n",
       "230        Solista                198  \n",
       "\n",
       "[231 rows x 9 columns]"
      ]
     },
     "execution_count": 178,
     "metadata": {},
     "output_type": "execute_result"
    }
   ],
   "source": [
    "df_concat.drop(columns=[\"Duración_formato\", \"Duración_timedelta\"], inplace=True)\n",
    "df_concat"
   ]
  },
  {
   "cell_type": "markdown",
   "metadata": {},
   "source": [
    "# Ordenando las columnas de forma alfabetica\n",
    "\n",
    "se ordenan las columnan en orden alfabetico para una mejor comprensión del DataFrame (esto solo es un proceso que yo mismo considere necesario, no es obligatorio hacerlo si no quieres)"
   ]
  },
  {
   "cell_type": "code",
   "execution_count": 179,
   "metadata": {},
   "outputs": [
    {
     "name": "stdout",
     "output_type": "stream",
     "text": [
      "['Artistas', 'Año', 'Canción', 'Duración', 'Duración_segundos', 'Etapa', 'Popularidad', 'Tipo', 'Álbum']\n"
     ]
    },
    {
     "data": {
      "text/html": [
       "<div>\n",
       "<style scoped>\n",
       "    .dataframe tbody tr th:only-of-type {\n",
       "        vertical-align: middle;\n",
       "    }\n",
       "\n",
       "    .dataframe tbody tr th {\n",
       "        vertical-align: top;\n",
       "    }\n",
       "\n",
       "    .dataframe thead th {\n",
       "        text-align: right;\n",
       "    }\n",
       "</style>\n",
       "<table border=\"1\" class=\"dataframe\">\n",
       "  <thead>\n",
       "    <tr style=\"text-align: right;\">\n",
       "      <th></th>\n",
       "      <th>Artistas</th>\n",
       "      <th>Año</th>\n",
       "      <th>Canción</th>\n",
       "      <th>Duración</th>\n",
       "      <th>Duración_segundos</th>\n",
       "      <th>Etapa</th>\n",
       "      <th>Popularidad</th>\n",
       "      <th>Tipo</th>\n",
       "      <th>Álbum</th>\n",
       "    </tr>\n",
       "  </thead>\n",
       "  <tbody>\n",
       "    <tr>\n",
       "      <th>0</th>\n",
       "      <td>One Direction</td>\n",
       "      <td>2015</td>\n",
       "      <td>Hey Angel</td>\n",
       "      <td>04:00</td>\n",
       "      <td>240</td>\n",
       "      <td>One Direction</td>\n",
       "      <td>57</td>\n",
       "      <td>Álbum</td>\n",
       "      <td>Made In The A.M. (Deluxe Edition)</td>\n",
       "    </tr>\n",
       "    <tr>\n",
       "      <th>1</th>\n",
       "      <td>One Direction</td>\n",
       "      <td>2015</td>\n",
       "      <td>Drag Me Down</td>\n",
       "      <td>03:12</td>\n",
       "      <td>192</td>\n",
       "      <td>One Direction</td>\n",
       "      <td>80</td>\n",
       "      <td>Álbum</td>\n",
       "      <td>Made In The A.M. (Deluxe Edition)</td>\n",
       "    </tr>\n",
       "    <tr>\n",
       "      <th>2</th>\n",
       "      <td>One Direction</td>\n",
       "      <td>2015</td>\n",
       "      <td>Perfect</td>\n",
       "      <td>03:50</td>\n",
       "      <td>230</td>\n",
       "      <td>One Direction</td>\n",
       "      <td>79</td>\n",
       "      <td>Álbum</td>\n",
       "      <td>Made In The A.M. (Deluxe Edition)</td>\n",
       "    </tr>\n",
       "    <tr>\n",
       "      <th>3</th>\n",
       "      <td>One Direction</td>\n",
       "      <td>2015</td>\n",
       "      <td>Infinity</td>\n",
       "      <td>04:09</td>\n",
       "      <td>249</td>\n",
       "      <td>One Direction</td>\n",
       "      <td>62</td>\n",
       "      <td>Álbum</td>\n",
       "      <td>Made In The A.M. (Deluxe Edition)</td>\n",
       "    </tr>\n",
       "    <tr>\n",
       "      <th>4</th>\n",
       "      <td>One Direction</td>\n",
       "      <td>2015</td>\n",
       "      <td>End of the Day</td>\n",
       "      <td>03:14</td>\n",
       "      <td>194</td>\n",
       "      <td>One Direction</td>\n",
       "      <td>59</td>\n",
       "      <td>Álbum</td>\n",
       "      <td>Made In The A.M. (Deluxe Edition)</td>\n",
       "    </tr>\n",
       "    <tr>\n",
       "      <th>...</th>\n",
       "      <td>...</td>\n",
       "      <td>...</td>\n",
       "      <td>...</td>\n",
       "      <td>...</td>\n",
       "      <td>...</td>\n",
       "      <td>...</td>\n",
       "      <td>...</td>\n",
       "      <td>...</td>\n",
       "      <td>...</td>\n",
       "    </tr>\n",
       "    <tr>\n",
       "      <th>226</th>\n",
       "      <td>Steve Aoki, Louis Tomlinson, Attom</td>\n",
       "      <td>2017</td>\n",
       "      <td>Just Hold On - Attom Remix</td>\n",
       "      <td>04:03</td>\n",
       "      <td>243</td>\n",
       "      <td>Solista</td>\n",
       "      <td>21</td>\n",
       "      <td>Single</td>\n",
       "      <td>Just Hold On (Remixes)</td>\n",
       "    </tr>\n",
       "    <tr>\n",
       "      <th>227</th>\n",
       "      <td>Steve Aoki, Louis Tomlinson, Two Friends</td>\n",
       "      <td>2017</td>\n",
       "      <td>Just Hold On - Two Friends Remix</td>\n",
       "      <td>03:50</td>\n",
       "      <td>230</td>\n",
       "      <td>Solista</td>\n",
       "      <td>23</td>\n",
       "      <td>Single</td>\n",
       "      <td>Just Hold On (Remixes)</td>\n",
       "    </tr>\n",
       "    <tr>\n",
       "      <th>228</th>\n",
       "      <td>Steve Aoki, Louis Tomlinson, Shaan</td>\n",
       "      <td>2017</td>\n",
       "      <td>Just Hold On - Shaan Remix</td>\n",
       "      <td>02:40</td>\n",
       "      <td>160</td>\n",
       "      <td>Solista</td>\n",
       "      <td>18</td>\n",
       "      <td>Single</td>\n",
       "      <td>Just Hold On (Remixes)</td>\n",
       "    </tr>\n",
       "    <tr>\n",
       "      <th>229</th>\n",
       "      <td>Steve Aoki, Louis Tomlinson, TJH87</td>\n",
       "      <td>2017</td>\n",
       "      <td>Just Hold On - TJH87 Remix</td>\n",
       "      <td>04:56</td>\n",
       "      <td>296</td>\n",
       "      <td>Solista</td>\n",
       "      <td>19</td>\n",
       "      <td>Single</td>\n",
       "      <td>Just Hold On (Remixes)</td>\n",
       "    </tr>\n",
       "    <tr>\n",
       "      <th>230</th>\n",
       "      <td>Steve Aoki, Louis Tomlinson</td>\n",
       "      <td>2016</td>\n",
       "      <td>Just Hold On</td>\n",
       "      <td>03:18</td>\n",
       "      <td>198</td>\n",
       "      <td>Solista</td>\n",
       "      <td>56</td>\n",
       "      <td>Single</td>\n",
       "      <td>Just Hold On</td>\n",
       "    </tr>\n",
       "  </tbody>\n",
       "</table>\n",
       "<p>231 rows × 9 columns</p>\n",
       "</div>"
      ],
      "text/plain": [
       "                                     Artistas   Año  \\\n",
       "0                               One Direction  2015   \n",
       "1                               One Direction  2015   \n",
       "2                               One Direction  2015   \n",
       "3                               One Direction  2015   \n",
       "4                               One Direction  2015   \n",
       "..                                        ...   ...   \n",
       "226        Steve Aoki, Louis Tomlinson, Attom  2017   \n",
       "227  Steve Aoki, Louis Tomlinson, Two Friends  2017   \n",
       "228        Steve Aoki, Louis Tomlinson, Shaan  2017   \n",
       "229        Steve Aoki, Louis Tomlinson, TJH87  2017   \n",
       "230               Steve Aoki, Louis Tomlinson  2016   \n",
       "\n",
       "                              Canción Duración  Duración_segundos  \\\n",
       "0                           Hey Angel    04:00                240   \n",
       "1                        Drag Me Down    03:12                192   \n",
       "2                             Perfect    03:50                230   \n",
       "3                            Infinity    04:09                249   \n",
       "4                      End of the Day    03:14                194   \n",
       "..                                ...      ...                ...   \n",
       "226        Just Hold On - Attom Remix    04:03                243   \n",
       "227  Just Hold On - Two Friends Remix    03:50                230   \n",
       "228        Just Hold On - Shaan Remix    02:40                160   \n",
       "229        Just Hold On - TJH87 Remix    04:56                296   \n",
       "230                      Just Hold On    03:18                198   \n",
       "\n",
       "             Etapa  Popularidad    Tipo                              Álbum  \n",
       "0    One Direction           57   Álbum  Made In The A.M. (Deluxe Edition)  \n",
       "1    One Direction           80   Álbum  Made In The A.M. (Deluxe Edition)  \n",
       "2    One Direction           79   Álbum  Made In The A.M. (Deluxe Edition)  \n",
       "3    One Direction           62   Álbum  Made In The A.M. (Deluxe Edition)  \n",
       "4    One Direction           59   Álbum  Made In The A.M. (Deluxe Edition)  \n",
       "..             ...          ...     ...                                ...  \n",
       "226        Solista           21  Single             Just Hold On (Remixes)  \n",
       "227        Solista           23  Single             Just Hold On (Remixes)  \n",
       "228        Solista           18  Single             Just Hold On (Remixes)  \n",
       "229        Solista           19  Single             Just Hold On (Remixes)  \n",
       "230        Solista           56  Single                       Just Hold On  \n",
       "\n",
       "[231 rows x 9 columns]"
      ]
     },
     "execution_count": 179,
     "metadata": {},
     "output_type": "execute_result"
    }
   ],
   "source": [
    "df_ordenado = sorted(df_concat)\n",
    "print(df_ordenado) \n",
    "df_concat = df_concat[df_ordenado]\n",
    "df_concat"
   ]
  },
  {
   "cell_type": "code",
   "execution_count": 180,
   "metadata": {},
   "outputs": [
    {
     "data": {
      "text/html": [
       "<div>\n",
       "<style scoped>\n",
       "    .dataframe tbody tr th:only-of-type {\n",
       "        vertical-align: middle;\n",
       "    }\n",
       "\n",
       "    .dataframe tbody tr th {\n",
       "        vertical-align: top;\n",
       "    }\n",
       "\n",
       "    .dataframe thead th {\n",
       "        text-align: right;\n",
       "    }\n",
       "</style>\n",
       "<table border=\"1\" class=\"dataframe\">\n",
       "  <thead>\n",
       "    <tr style=\"text-align: right;\">\n",
       "      <th></th>\n",
       "      <th>Artistas</th>\n",
       "      <th>Año</th>\n",
       "      <th>Canción</th>\n",
       "      <th>Duración</th>\n",
       "      <th>Duración_segundos</th>\n",
       "      <th>Etapa</th>\n",
       "      <th>Popularidad</th>\n",
       "      <th>Tipo</th>\n",
       "      <th>Álbum</th>\n",
       "    </tr>\n",
       "  </thead>\n",
       "  <tbody>\n",
       "    <tr>\n",
       "      <th>0</th>\n",
       "      <td>One Direction</td>\n",
       "      <td>2015</td>\n",
       "      <td>Hey Angel</td>\n",
       "      <td>04:00</td>\n",
       "      <td>240</td>\n",
       "      <td>One Direction</td>\n",
       "      <td>57</td>\n",
       "      <td>Álbum</td>\n",
       "      <td>Made In The A.M. (Deluxe Edition)</td>\n",
       "    </tr>\n",
       "    <tr>\n",
       "      <th>1</th>\n",
       "      <td>One Direction</td>\n",
       "      <td>2015</td>\n",
       "      <td>Drag Me Down</td>\n",
       "      <td>03:12</td>\n",
       "      <td>192</td>\n",
       "      <td>One Direction</td>\n",
       "      <td>80</td>\n",
       "      <td>Álbum</td>\n",
       "      <td>Made In The A.M. (Deluxe Edition)</td>\n",
       "    </tr>\n",
       "    <tr>\n",
       "      <th>2</th>\n",
       "      <td>One Direction</td>\n",
       "      <td>2015</td>\n",
       "      <td>Perfect</td>\n",
       "      <td>03:50</td>\n",
       "      <td>230</td>\n",
       "      <td>One Direction</td>\n",
       "      <td>79</td>\n",
       "      <td>Álbum</td>\n",
       "      <td>Made In The A.M. (Deluxe Edition)</td>\n",
       "    </tr>\n",
       "    <tr>\n",
       "      <th>3</th>\n",
       "      <td>One Direction</td>\n",
       "      <td>2015</td>\n",
       "      <td>Infinity</td>\n",
       "      <td>04:09</td>\n",
       "      <td>249</td>\n",
       "      <td>One Direction</td>\n",
       "      <td>62</td>\n",
       "      <td>Álbum</td>\n",
       "      <td>Made In The A.M. (Deluxe Edition)</td>\n",
       "    </tr>\n",
       "    <tr>\n",
       "      <th>4</th>\n",
       "      <td>One Direction</td>\n",
       "      <td>2015</td>\n",
       "      <td>End of the Day</td>\n",
       "      <td>03:14</td>\n",
       "      <td>194</td>\n",
       "      <td>One Direction</td>\n",
       "      <td>59</td>\n",
       "      <td>Álbum</td>\n",
       "      <td>Made In The A.M. (Deluxe Edition)</td>\n",
       "    </tr>\n",
       "    <tr>\n",
       "      <th>...</th>\n",
       "      <td>...</td>\n",
       "      <td>...</td>\n",
       "      <td>...</td>\n",
       "      <td>...</td>\n",
       "      <td>...</td>\n",
       "      <td>...</td>\n",
       "      <td>...</td>\n",
       "      <td>...</td>\n",
       "      <td>...</td>\n",
       "    </tr>\n",
       "    <tr>\n",
       "      <th>226</th>\n",
       "      <td>Steve Aoki, Louis Tomlinson, Attom</td>\n",
       "      <td>2017</td>\n",
       "      <td>Just Hold On - Attom Remix</td>\n",
       "      <td>04:03</td>\n",
       "      <td>243</td>\n",
       "      <td>Solista</td>\n",
       "      <td>21</td>\n",
       "      <td>Single</td>\n",
       "      <td>Just Hold On (Remixes)</td>\n",
       "    </tr>\n",
       "    <tr>\n",
       "      <th>227</th>\n",
       "      <td>Steve Aoki, Louis Tomlinson, Two Friends</td>\n",
       "      <td>2017</td>\n",
       "      <td>Just Hold On - Two Friends Remix</td>\n",
       "      <td>03:50</td>\n",
       "      <td>230</td>\n",
       "      <td>Solista</td>\n",
       "      <td>23</td>\n",
       "      <td>Single</td>\n",
       "      <td>Just Hold On (Remixes)</td>\n",
       "    </tr>\n",
       "    <tr>\n",
       "      <th>228</th>\n",
       "      <td>Steve Aoki, Louis Tomlinson, Shaan</td>\n",
       "      <td>2017</td>\n",
       "      <td>Just Hold On - Shaan Remix</td>\n",
       "      <td>02:40</td>\n",
       "      <td>160</td>\n",
       "      <td>Solista</td>\n",
       "      <td>18</td>\n",
       "      <td>Single</td>\n",
       "      <td>Just Hold On (Remixes)</td>\n",
       "    </tr>\n",
       "    <tr>\n",
       "      <th>229</th>\n",
       "      <td>Steve Aoki, Louis Tomlinson, TJH87</td>\n",
       "      <td>2017</td>\n",
       "      <td>Just Hold On - TJH87 Remix</td>\n",
       "      <td>04:56</td>\n",
       "      <td>296</td>\n",
       "      <td>Solista</td>\n",
       "      <td>19</td>\n",
       "      <td>Single</td>\n",
       "      <td>Just Hold On (Remixes)</td>\n",
       "    </tr>\n",
       "    <tr>\n",
       "      <th>230</th>\n",
       "      <td>Steve Aoki, Louis Tomlinson</td>\n",
       "      <td>2016</td>\n",
       "      <td>Just Hold On</td>\n",
       "      <td>03:18</td>\n",
       "      <td>198</td>\n",
       "      <td>Solista</td>\n",
       "      <td>56</td>\n",
       "      <td>Single</td>\n",
       "      <td>Just Hold On</td>\n",
       "    </tr>\n",
       "  </tbody>\n",
       "</table>\n",
       "<p>231 rows × 9 columns</p>\n",
       "</div>"
      ],
      "text/plain": [
       "                                     Artistas   Año  \\\n",
       "0                               One Direction  2015   \n",
       "1                               One Direction  2015   \n",
       "2                               One Direction  2015   \n",
       "3                               One Direction  2015   \n",
       "4                               One Direction  2015   \n",
       "..                                        ...   ...   \n",
       "226        Steve Aoki, Louis Tomlinson, Attom  2017   \n",
       "227  Steve Aoki, Louis Tomlinson, Two Friends  2017   \n",
       "228        Steve Aoki, Louis Tomlinson, Shaan  2017   \n",
       "229        Steve Aoki, Louis Tomlinson, TJH87  2017   \n",
       "230               Steve Aoki, Louis Tomlinson  2016   \n",
       "\n",
       "                              Canción Duración  Duración_segundos  \\\n",
       "0                           Hey Angel    04:00                240   \n",
       "1                        Drag Me Down    03:12                192   \n",
       "2                             Perfect    03:50                230   \n",
       "3                            Infinity    04:09                249   \n",
       "4                      End of the Day    03:14                194   \n",
       "..                                ...      ...                ...   \n",
       "226        Just Hold On - Attom Remix    04:03                243   \n",
       "227  Just Hold On - Two Friends Remix    03:50                230   \n",
       "228        Just Hold On - Shaan Remix    02:40                160   \n",
       "229        Just Hold On - TJH87 Remix    04:56                296   \n",
       "230                      Just Hold On    03:18                198   \n",
       "\n",
       "             Etapa  Popularidad    Tipo                              Álbum  \n",
       "0    One Direction           57   Álbum  Made In The A.M. (Deluxe Edition)  \n",
       "1    One Direction           80   Álbum  Made In The A.M. (Deluxe Edition)  \n",
       "2    One Direction           79   Álbum  Made In The A.M. (Deluxe Edition)  \n",
       "3    One Direction           62   Álbum  Made In The A.M. (Deluxe Edition)  \n",
       "4    One Direction           59   Álbum  Made In The A.M. (Deluxe Edition)  \n",
       "..             ...          ...     ...                                ...  \n",
       "226        Solista           21  Single             Just Hold On (Remixes)  \n",
       "227        Solista           23  Single             Just Hold On (Remixes)  \n",
       "228        Solista           18  Single             Just Hold On (Remixes)  \n",
       "229        Solista           19  Single             Just Hold On (Remixes)  \n",
       "230        Solista           56  Single                       Just Hold On  \n",
       "\n",
       "[231 rows x 9 columns]"
      ]
     },
     "execution_count": 180,
     "metadata": {},
     "output_type": "execute_result"
    }
   ],
   "source": [
    "df_concat[\"Año\"] = pd.to_datetime(df_concat[\"Año\"], format='%Y')\n",
    "df_concat['Año'] = df_concat['Año'].dt.year\n",
    "df_concat"
   ]
  },
  {
   "cell_type": "code",
   "execution_count": 181,
   "metadata": {},
   "outputs": [
    {
     "name": "stdout",
     "output_type": "stream",
     "text": [
      "<class 'pandas.core.frame.DataFrame'>\n",
      "RangeIndex: 231 entries, 0 to 230\n",
      "Data columns (total 9 columns):\n",
      " #   Column             Non-Null Count  Dtype \n",
      "---  ------             --------------  ----- \n",
      " 0   Artistas           231 non-null    object\n",
      " 1   Año                231 non-null    int32 \n",
      " 2   Canción            231 non-null    object\n",
      " 3   Duración           231 non-null    object\n",
      " 4   Duración_segundos  231 non-null    int32 \n",
      " 5   Etapa              231 non-null    object\n",
      " 6   Popularidad        231 non-null    int64 \n",
      " 7   Tipo               231 non-null    object\n",
      " 8   Álbum              231 non-null    object\n",
      "dtypes: int32(2), int64(1), object(6)\n",
      "memory usage: 14.6+ KB\n"
     ]
    }
   ],
   "source": [
    "df_concat.info()"
   ]
  },
  {
   "cell_type": "code",
   "execution_count": 182,
   "metadata": {},
   "outputs": [
    {
     "data": {
      "text/html": [
       "<div>\n",
       "<style scoped>\n",
       "    .dataframe tbody tr th:only-of-type {\n",
       "        vertical-align: middle;\n",
       "    }\n",
       "\n",
       "    .dataframe tbody tr th {\n",
       "        vertical-align: top;\n",
       "    }\n",
       "\n",
       "    .dataframe thead th {\n",
       "        text-align: right;\n",
       "    }\n",
       "</style>\n",
       "<table border=\"1\" class=\"dataframe\">\n",
       "  <thead>\n",
       "    <tr style=\"text-align: right;\">\n",
       "      <th></th>\n",
       "      <th>Año</th>\n",
       "      <th>Duración_segundos</th>\n",
       "      <th>Popularidad</th>\n",
       "    </tr>\n",
       "  </thead>\n",
       "  <tbody>\n",
       "    <tr>\n",
       "      <th>count</th>\n",
       "      <td>231.000000</td>\n",
       "      <td>231.000000</td>\n",
       "      <td>231.000000</td>\n",
       "    </tr>\n",
       "    <tr>\n",
       "      <th>mean</th>\n",
       "      <td>2016.311688</td>\n",
       "      <td>201.450216</td>\n",
       "      <td>45.722944</td>\n",
       "    </tr>\n",
       "    <tr>\n",
       "      <th>std</th>\n",
       "      <td>4.704096</td>\n",
       "      <td>53.406203</td>\n",
       "      <td>17.051873</td>\n",
       "    </tr>\n",
       "    <tr>\n",
       "      <th>min</th>\n",
       "      <td>2010.000000</td>\n",
       "      <td>4.000000</td>\n",
       "      <td>0.000000</td>\n",
       "    </tr>\n",
       "    <tr>\n",
       "      <th>25%</th>\n",
       "      <td>2012.000000</td>\n",
       "      <td>181.000000</td>\n",
       "      <td>33.500000</td>\n",
       "    </tr>\n",
       "    <tr>\n",
       "      <th>50%</th>\n",
       "      <td>2015.000000</td>\n",
       "      <td>202.000000</td>\n",
       "      <td>50.000000</td>\n",
       "    </tr>\n",
       "    <tr>\n",
       "      <th>75%</th>\n",
       "      <td>2020.000000</td>\n",
       "      <td>226.000000</td>\n",
       "      <td>57.000000</td>\n",
       "    </tr>\n",
       "    <tr>\n",
       "      <th>max</th>\n",
       "      <td>2024.000000</td>\n",
       "      <td>509.000000</td>\n",
       "      <td>87.000000</td>\n",
       "    </tr>\n",
       "  </tbody>\n",
       "</table>\n",
       "</div>"
      ],
      "text/plain": [
       "               Año  Duración_segundos  Popularidad\n",
       "count   231.000000         231.000000   231.000000\n",
       "mean   2016.311688         201.450216    45.722944\n",
       "std       4.704096          53.406203    17.051873\n",
       "min    2010.000000           4.000000     0.000000\n",
       "25%    2012.000000         181.000000    33.500000\n",
       "50%    2015.000000         202.000000    50.000000\n",
       "75%    2020.000000         226.000000    57.000000\n",
       "max    2024.000000         509.000000    87.000000"
      ]
     },
     "execution_count": 182,
     "metadata": {},
     "output_type": "execute_result"
    }
   ],
   "source": [
    "df_concat.describe()"
   ]
  },
  {
   "cell_type": "markdown",
   "metadata": {},
   "source": [
    "# Top de canciones más populares en su etapa como integrante de \"One Direction\" y como \"Solista\"\n",
    "\n",
    "- Gráficos de Barras: Comparar la popularidad y la duración de las canciones entre las etapas \"One Direction\" y \"Solista\".\n",
    "- Histogramas: Visualizar la distribución de la popularidad y la duración de las canciones.\n",
    "- Diagramas de Caja: Comparar la variabilidad de la popularidad y la duración entre las etapas."
   ]
  },
  {
   "cell_type": "code",
   "execution_count": 183,
   "metadata": {},
   "outputs": [
    {
     "data": {
      "text/html": [
       "<div>\n",
       "<style scoped>\n",
       "    .dataframe tbody tr th:only-of-type {\n",
       "        vertical-align: middle;\n",
       "    }\n",
       "\n",
       "    .dataframe tbody tr th {\n",
       "        vertical-align: top;\n",
       "    }\n",
       "\n",
       "    .dataframe thead th {\n",
       "        text-align: right;\n",
       "    }\n",
       "</style>\n",
       "<table border=\"1\" class=\"dataframe\">\n",
       "  <thead>\n",
       "    <tr style=\"text-align: right;\">\n",
       "      <th></th>\n",
       "      <th>Artistas</th>\n",
       "      <th>Año</th>\n",
       "      <th>Canción</th>\n",
       "      <th>Duración</th>\n",
       "      <th>Duración_segundos</th>\n",
       "      <th>Etapa</th>\n",
       "      <th>Popularidad</th>\n",
       "      <th>Tipo</th>\n",
       "      <th>Álbum</th>\n",
       "    </tr>\n",
       "  </thead>\n",
       "  <tbody>\n",
       "    <tr>\n",
       "      <th>0</th>\n",
       "      <td>One Direction</td>\n",
       "      <td>2014</td>\n",
       "      <td>Night Changes</td>\n",
       "      <td>03:46</td>\n",
       "      <td>226</td>\n",
       "      <td>One Direction</td>\n",
       "      <td>87</td>\n",
       "      <td>Álbum</td>\n",
       "      <td>FOUR (Deluxe)</td>\n",
       "    </tr>\n",
       "    <tr>\n",
       "      <th>1</th>\n",
       "      <td>One Direction</td>\n",
       "      <td>2012</td>\n",
       "      <td>What Makes You Beautiful</td>\n",
       "      <td>03:19</td>\n",
       "      <td>199</td>\n",
       "      <td>One Direction</td>\n",
       "      <td>84</td>\n",
       "      <td>Álbum</td>\n",
       "      <td>Up All Night</td>\n",
       "    </tr>\n",
       "    <tr>\n",
       "      <th>2</th>\n",
       "      <td>One Direction</td>\n",
       "      <td>2013</td>\n",
       "      <td>Story of My Life</td>\n",
       "      <td>04:05</td>\n",
       "      <td>245</td>\n",
       "      <td>One Direction</td>\n",
       "      <td>83</td>\n",
       "      <td>Álbum</td>\n",
       "      <td>Midnight Memories (Deluxe)</td>\n",
       "    </tr>\n",
       "    <tr>\n",
       "      <th>3</th>\n",
       "      <td>One Direction</td>\n",
       "      <td>2015</td>\n",
       "      <td>Drag Me Down</td>\n",
       "      <td>03:12</td>\n",
       "      <td>192</td>\n",
       "      <td>One Direction</td>\n",
       "      <td>80</td>\n",
       "      <td>Álbum</td>\n",
       "      <td>Made In The A.M. (Deluxe Edition)</td>\n",
       "    </tr>\n",
       "    <tr>\n",
       "      <th>4</th>\n",
       "      <td>One Direction</td>\n",
       "      <td>2015</td>\n",
       "      <td>Perfect</td>\n",
       "      <td>03:50</td>\n",
       "      <td>230</td>\n",
       "      <td>One Direction</td>\n",
       "      <td>79</td>\n",
       "      <td>Álbum</td>\n",
       "      <td>Made In The A.M. (Deluxe Edition)</td>\n",
       "    </tr>\n",
       "  </tbody>\n",
       "</table>\n",
       "</div>"
      ],
      "text/plain": [
       "        Artistas   Año                   Canción Duración  Duración_segundos  \\\n",
       "0  One Direction  2014             Night Changes    03:46                226   \n",
       "1  One Direction  2012  What Makes You Beautiful    03:19                199   \n",
       "2  One Direction  2013          Story of My Life    04:05                245   \n",
       "3  One Direction  2015              Drag Me Down    03:12                192   \n",
       "4  One Direction  2015                   Perfect    03:50                230   \n",
       "\n",
       "           Etapa  Popularidad   Tipo                              Álbum  \n",
       "0  One Direction           87  Álbum                      FOUR (Deluxe)  \n",
       "1  One Direction           84  Álbum                       Up All Night  \n",
       "2  One Direction           83  Álbum         Midnight Memories (Deluxe)  \n",
       "3  One Direction           80  Álbum  Made In The A.M. (Deluxe Edition)  \n",
       "4  One Direction           79  Álbum  Made In The A.M. (Deluxe Edition)  "
      ]
     },
     "execution_count": 183,
     "metadata": {},
     "output_type": "execute_result"
    }
   ],
   "source": [
    "canciones_LT = df_concat[df_concat[\"Etapa\"] == \"Solista\"]\n",
    "canciones_OD = df_concat[df_concat[\"Etapa\"] == \"One Direction\"]\n",
    "\n",
    "top_10_canciones_OD = canciones_OD.sort_values(\"Popularidad\", ascending=False).head(10)\n",
    "top_10_canciones_LT = canciones_LT.sort_values(\"Popularidad\", ascending=False).head(10)\n",
    "top_canciones = pd.concat([top_10_canciones_OD, top_10_canciones_LT], ignore_index=True)\n",
    "top_canciones.head()\n"
   ]
  },
  {
   "cell_type": "code",
   "execution_count": 184,
   "metadata": {},
   "outputs": [
    {
     "data": {
      "application/vnd.plotly.v1+json": {
       "config": {
        "plotlyServerURL": "https://plot.ly"
       },
       "data": [
        {
         "alignmentgroup": "True",
         "customdata": [
          [
           "FOUR (Deluxe)",
           2014,
           "Álbum"
          ],
          [
           "Up All Night",
           2012,
           "Álbum"
          ],
          [
           "Midnight Memories (Deluxe)",
           2013,
           "Álbum"
          ],
          [
           "Made In The A.M. (Deluxe Edition)",
           2015,
           "Álbum"
          ],
          [
           "Made In The A.M. (Deluxe Edition)",
           2015,
           "Álbum"
          ],
          [
           "FOUR (Deluxe)",
           2014,
           "Álbum"
          ],
          [
           "FOUR (Deluxe)",
           2014,
           "Álbum"
          ],
          [
           "Midnight Memories (Deluxe)",
           2013,
           "Álbum"
          ],
          [
           "Midnight Memories (Deluxe)",
           2013,
           "Álbum"
          ],
          [
           "Midnight Memories (Deluxe)",
           2013,
           "Álbum"
          ]
         ],
         "hovertemplate": "Etapa=One Direction<br>Canción=%{x}<br>Popularidad=%{text}<br>Álbum=%{customdata[0]}<br>Año=%{customdata[1]}<br>Tipo=%{customdata[2]}<extra></extra>",
         "legendgroup": "One Direction",
         "marker": {
          "color": "blue",
          "pattern": {
           "shape": ""
          }
         },
         "name": "One Direction",
         "offsetgroup": "One Direction",
         "orientation": "v",
         "showlegend": true,
         "text": [
          87,
          84,
          83,
          80,
          79,
          77,
          76,
          76,
          74,
          74
         ],
         "textposition": "auto",
         "type": "bar",
         "x": [
          "Night Changes",
          "What Makes You Beautiful",
          "Story of My Life",
          "Drag Me Down",
          "Perfect",
          "Steal My Girl",
          "18",
          "Right Now",
          "Best Song Ever",
          "You & I"
         ],
         "xaxis": "x",
         "y": [
          87,
          84,
          83,
          80,
          79,
          77,
          76,
          76,
          74,
          74
         ],
         "yaxis": "y"
        },
        {
         "alignmentgroup": "True",
         "customdata": [
          [
           "Back to You (feat. Bebe Rexha & Digital Farm Animals)",
           2017,
           "Single"
          ],
          [
           "Faith In The Future (Deluxe)",
           2022,
           "Álbum"
          ],
          [
           "Miss You",
           2017,
           "Single"
          ],
          [
           "Walls",
           2020,
           "Álbum"
          ],
          [
           "Faith In The Future (Deluxe)",
           2022,
           "Álbum"
          ],
          [
           "Just Hold On",
           2016,
           "Single"
          ],
          [
           "Faith In The Future (Deluxe)",
           2022,
           "Álbum"
          ],
          [
           "Faith In The Future (Deluxe)",
           2022,
           "Álbum"
          ],
          [
           "Faith In The Future (Deluxe)",
           2022,
           "Álbum"
          ],
          [
           "Faith In The Future (Deluxe)",
           2022,
           "Álbum"
          ]
         ],
         "hovertemplate": "Etapa=Solista<br>Canción=%{x}<br>Popularidad=%{text}<br>Álbum=%{customdata[0]}<br>Año=%{customdata[1]}<br>Tipo=%{customdata[2]}<extra></extra>",
         "legendgroup": "Solista",
         "marker": {
          "color": "red",
          "pattern": {
           "shape": ""
          }
         },
         "name": "Solista",
         "offsetgroup": "Solista",
         "orientation": "v",
         "showlegend": true,
         "text": [
          63,
          59,
          57,
          57,
          57,
          56,
          56,
          56,
          56,
          55
         ],
         "textposition": "auto",
         "type": "bar",
         "x": [
          "Back to You (feat. Bebe Rexha & Digital Farm Animals)",
          "Written All Over Your Face",
          "Miss You",
          "Always You",
          "Out Of My System",
          "Just Hold On",
          "Holding On To Heartache",
          "Silver Tongues",
          "Bigger Than Me",
          "Chicago"
         ],
         "xaxis": "x",
         "y": [
          63,
          59,
          57,
          57,
          57,
          56,
          56,
          56,
          56,
          55
         ],
         "yaxis": "y"
        }
       ],
       "layout": {
        "barmode": "relative",
        "height": 600,
        "legend": {
         "title": {
          "text": "Etapa"
         },
         "tracegroupgap": 0
        },
        "margin": {
         "b": 200,
         "l": 50,
         "r": 50,
         "t": 100
        },
        "template": {
         "data": {
          "bar": [
           {
            "error_x": {
             "color": "#f2f5fa"
            },
            "error_y": {
             "color": "#f2f5fa"
            },
            "marker": {
             "line": {
              "color": "rgb(17,17,17)",
              "width": 0.5
             },
             "pattern": {
              "fillmode": "overlay",
              "size": 10,
              "solidity": 0.2
             }
            },
            "type": "bar"
           }
          ],
          "barpolar": [
           {
            "marker": {
             "line": {
              "color": "rgb(17,17,17)",
              "width": 0.5
             },
             "pattern": {
              "fillmode": "overlay",
              "size": 10,
              "solidity": 0.2
             }
            },
            "type": "barpolar"
           }
          ],
          "carpet": [
           {
            "aaxis": {
             "endlinecolor": "#A2B1C6",
             "gridcolor": "#506784",
             "linecolor": "#506784",
             "minorgridcolor": "#506784",
             "startlinecolor": "#A2B1C6"
            },
            "baxis": {
             "endlinecolor": "#A2B1C6",
             "gridcolor": "#506784",
             "linecolor": "#506784",
             "minorgridcolor": "#506784",
             "startlinecolor": "#A2B1C6"
            },
            "type": "carpet"
           }
          ],
          "choropleth": [
           {
            "colorbar": {
             "outlinewidth": 0,
             "ticks": ""
            },
            "type": "choropleth"
           }
          ],
          "contour": [
           {
            "colorbar": {
             "outlinewidth": 0,
             "ticks": ""
            },
            "colorscale": [
             [
              0,
              "#0d0887"
             ],
             [
              0.1111111111111111,
              "#46039f"
             ],
             [
              0.2222222222222222,
              "#7201a8"
             ],
             [
              0.3333333333333333,
              "#9c179e"
             ],
             [
              0.4444444444444444,
              "#bd3786"
             ],
             [
              0.5555555555555556,
              "#d8576b"
             ],
             [
              0.6666666666666666,
              "#ed7953"
             ],
             [
              0.7777777777777778,
              "#fb9f3a"
             ],
             [
              0.8888888888888888,
              "#fdca26"
             ],
             [
              1,
              "#f0f921"
             ]
            ],
            "type": "contour"
           }
          ],
          "contourcarpet": [
           {
            "colorbar": {
             "outlinewidth": 0,
             "ticks": ""
            },
            "type": "contourcarpet"
           }
          ],
          "heatmap": [
           {
            "colorbar": {
             "outlinewidth": 0,
             "ticks": ""
            },
            "colorscale": [
             [
              0,
              "#0d0887"
             ],
             [
              0.1111111111111111,
              "#46039f"
             ],
             [
              0.2222222222222222,
              "#7201a8"
             ],
             [
              0.3333333333333333,
              "#9c179e"
             ],
             [
              0.4444444444444444,
              "#bd3786"
             ],
             [
              0.5555555555555556,
              "#d8576b"
             ],
             [
              0.6666666666666666,
              "#ed7953"
             ],
             [
              0.7777777777777778,
              "#fb9f3a"
             ],
             [
              0.8888888888888888,
              "#fdca26"
             ],
             [
              1,
              "#f0f921"
             ]
            ],
            "type": "heatmap"
           }
          ],
          "heatmapgl": [
           {
            "colorbar": {
             "outlinewidth": 0,
             "ticks": ""
            },
            "colorscale": [
             [
              0,
              "#0d0887"
             ],
             [
              0.1111111111111111,
              "#46039f"
             ],
             [
              0.2222222222222222,
              "#7201a8"
             ],
             [
              0.3333333333333333,
              "#9c179e"
             ],
             [
              0.4444444444444444,
              "#bd3786"
             ],
             [
              0.5555555555555556,
              "#d8576b"
             ],
             [
              0.6666666666666666,
              "#ed7953"
             ],
             [
              0.7777777777777778,
              "#fb9f3a"
             ],
             [
              0.8888888888888888,
              "#fdca26"
             ],
             [
              1,
              "#f0f921"
             ]
            ],
            "type": "heatmapgl"
           }
          ],
          "histogram": [
           {
            "marker": {
             "pattern": {
              "fillmode": "overlay",
              "size": 10,
              "solidity": 0.2
             }
            },
            "type": "histogram"
           }
          ],
          "histogram2d": [
           {
            "colorbar": {
             "outlinewidth": 0,
             "ticks": ""
            },
            "colorscale": [
             [
              0,
              "#0d0887"
             ],
             [
              0.1111111111111111,
              "#46039f"
             ],
             [
              0.2222222222222222,
              "#7201a8"
             ],
             [
              0.3333333333333333,
              "#9c179e"
             ],
             [
              0.4444444444444444,
              "#bd3786"
             ],
             [
              0.5555555555555556,
              "#d8576b"
             ],
             [
              0.6666666666666666,
              "#ed7953"
             ],
             [
              0.7777777777777778,
              "#fb9f3a"
             ],
             [
              0.8888888888888888,
              "#fdca26"
             ],
             [
              1,
              "#f0f921"
             ]
            ],
            "type": "histogram2d"
           }
          ],
          "histogram2dcontour": [
           {
            "colorbar": {
             "outlinewidth": 0,
             "ticks": ""
            },
            "colorscale": [
             [
              0,
              "#0d0887"
             ],
             [
              0.1111111111111111,
              "#46039f"
             ],
             [
              0.2222222222222222,
              "#7201a8"
             ],
             [
              0.3333333333333333,
              "#9c179e"
             ],
             [
              0.4444444444444444,
              "#bd3786"
             ],
             [
              0.5555555555555556,
              "#d8576b"
             ],
             [
              0.6666666666666666,
              "#ed7953"
             ],
             [
              0.7777777777777778,
              "#fb9f3a"
             ],
             [
              0.8888888888888888,
              "#fdca26"
             ],
             [
              1,
              "#f0f921"
             ]
            ],
            "type": "histogram2dcontour"
           }
          ],
          "mesh3d": [
           {
            "colorbar": {
             "outlinewidth": 0,
             "ticks": ""
            },
            "type": "mesh3d"
           }
          ],
          "parcoords": [
           {
            "line": {
             "colorbar": {
              "outlinewidth": 0,
              "ticks": ""
             }
            },
            "type": "parcoords"
           }
          ],
          "pie": [
           {
            "automargin": true,
            "type": "pie"
           }
          ],
          "scatter": [
           {
            "marker": {
             "line": {
              "color": "#283442"
             }
            },
            "type": "scatter"
           }
          ],
          "scatter3d": [
           {
            "line": {
             "colorbar": {
              "outlinewidth": 0,
              "ticks": ""
             }
            },
            "marker": {
             "colorbar": {
              "outlinewidth": 0,
              "ticks": ""
             }
            },
            "type": "scatter3d"
           }
          ],
          "scattercarpet": [
           {
            "marker": {
             "colorbar": {
              "outlinewidth": 0,
              "ticks": ""
             }
            },
            "type": "scattercarpet"
           }
          ],
          "scattergeo": [
           {
            "marker": {
             "colorbar": {
              "outlinewidth": 0,
              "ticks": ""
             }
            },
            "type": "scattergeo"
           }
          ],
          "scattergl": [
           {
            "marker": {
             "line": {
              "color": "#283442"
             }
            },
            "type": "scattergl"
           }
          ],
          "scattermapbox": [
           {
            "marker": {
             "colorbar": {
              "outlinewidth": 0,
              "ticks": ""
             }
            },
            "type": "scattermapbox"
           }
          ],
          "scatterpolar": [
           {
            "marker": {
             "colorbar": {
              "outlinewidth": 0,
              "ticks": ""
             }
            },
            "type": "scatterpolar"
           }
          ],
          "scatterpolargl": [
           {
            "marker": {
             "colorbar": {
              "outlinewidth": 0,
              "ticks": ""
             }
            },
            "type": "scatterpolargl"
           }
          ],
          "scatterternary": [
           {
            "marker": {
             "colorbar": {
              "outlinewidth": 0,
              "ticks": ""
             }
            },
            "type": "scatterternary"
           }
          ],
          "surface": [
           {
            "colorbar": {
             "outlinewidth": 0,
             "ticks": ""
            },
            "colorscale": [
             [
              0,
              "#0d0887"
             ],
             [
              0.1111111111111111,
              "#46039f"
             ],
             [
              0.2222222222222222,
              "#7201a8"
             ],
             [
              0.3333333333333333,
              "#9c179e"
             ],
             [
              0.4444444444444444,
              "#bd3786"
             ],
             [
              0.5555555555555556,
              "#d8576b"
             ],
             [
              0.6666666666666666,
              "#ed7953"
             ],
             [
              0.7777777777777778,
              "#fb9f3a"
             ],
             [
              0.8888888888888888,
              "#fdca26"
             ],
             [
              1,
              "#f0f921"
             ]
            ],
            "type": "surface"
           }
          ],
          "table": [
           {
            "cells": {
             "fill": {
              "color": "#506784"
             },
             "line": {
              "color": "rgb(17,17,17)"
             }
            },
            "header": {
             "fill": {
              "color": "#2a3f5f"
             },
             "line": {
              "color": "rgb(17,17,17)"
             }
            },
            "type": "table"
           }
          ]
         },
         "layout": {
          "annotationdefaults": {
           "arrowcolor": "#f2f5fa",
           "arrowhead": 0,
           "arrowwidth": 1
          },
          "autotypenumbers": "strict",
          "coloraxis": {
           "colorbar": {
            "outlinewidth": 0,
            "ticks": ""
           }
          },
          "colorscale": {
           "diverging": [
            [
             0,
             "#8e0152"
            ],
            [
             0.1,
             "#c51b7d"
            ],
            [
             0.2,
             "#de77ae"
            ],
            [
             0.3,
             "#f1b6da"
            ],
            [
             0.4,
             "#fde0ef"
            ],
            [
             0.5,
             "#f7f7f7"
            ],
            [
             0.6,
             "#e6f5d0"
            ],
            [
             0.7,
             "#b8e186"
            ],
            [
             0.8,
             "#7fbc41"
            ],
            [
             0.9,
             "#4d9221"
            ],
            [
             1,
             "#276419"
            ]
           ],
           "sequential": [
            [
             0,
             "#0d0887"
            ],
            [
             0.1111111111111111,
             "#46039f"
            ],
            [
             0.2222222222222222,
             "#7201a8"
            ],
            [
             0.3333333333333333,
             "#9c179e"
            ],
            [
             0.4444444444444444,
             "#bd3786"
            ],
            [
             0.5555555555555556,
             "#d8576b"
            ],
            [
             0.6666666666666666,
             "#ed7953"
            ],
            [
             0.7777777777777778,
             "#fb9f3a"
            ],
            [
             0.8888888888888888,
             "#fdca26"
            ],
            [
             1,
             "#f0f921"
            ]
           ],
           "sequentialminus": [
            [
             0,
             "#0d0887"
            ],
            [
             0.1111111111111111,
             "#46039f"
            ],
            [
             0.2222222222222222,
             "#7201a8"
            ],
            [
             0.3333333333333333,
             "#9c179e"
            ],
            [
             0.4444444444444444,
             "#bd3786"
            ],
            [
             0.5555555555555556,
             "#d8576b"
            ],
            [
             0.6666666666666666,
             "#ed7953"
            ],
            [
             0.7777777777777778,
             "#fb9f3a"
            ],
            [
             0.8888888888888888,
             "#fdca26"
            ],
            [
             1,
             "#f0f921"
            ]
           ]
          },
          "colorway": [
           "#636efa",
           "#EF553B",
           "#00cc96",
           "#ab63fa",
           "#FFA15A",
           "#19d3f3",
           "#FF6692",
           "#B6E880",
           "#FF97FF",
           "#FECB52"
          ],
          "font": {
           "color": "#f2f5fa"
          },
          "geo": {
           "bgcolor": "rgb(17,17,17)",
           "lakecolor": "rgb(17,17,17)",
           "landcolor": "rgb(17,17,17)",
           "showlakes": true,
           "showland": true,
           "subunitcolor": "#506784"
          },
          "hoverlabel": {
           "align": "left"
          },
          "hovermode": "closest",
          "mapbox": {
           "style": "dark"
          },
          "paper_bgcolor": "rgb(17,17,17)",
          "plot_bgcolor": "rgb(17,17,17)",
          "polar": {
           "angularaxis": {
            "gridcolor": "#506784",
            "linecolor": "#506784",
            "ticks": ""
           },
           "bgcolor": "rgb(17,17,17)",
           "radialaxis": {
            "gridcolor": "#506784",
            "linecolor": "#506784",
            "ticks": ""
           }
          },
          "scene": {
           "xaxis": {
            "backgroundcolor": "rgb(17,17,17)",
            "gridcolor": "#506784",
            "gridwidth": 2,
            "linecolor": "#506784",
            "showbackground": true,
            "ticks": "",
            "zerolinecolor": "#C8D4E3"
           },
           "yaxis": {
            "backgroundcolor": "rgb(17,17,17)",
            "gridcolor": "#506784",
            "gridwidth": 2,
            "linecolor": "#506784",
            "showbackground": true,
            "ticks": "",
            "zerolinecolor": "#C8D4E3"
           },
           "zaxis": {
            "backgroundcolor": "rgb(17,17,17)",
            "gridcolor": "#506784",
            "gridwidth": 2,
            "linecolor": "#506784",
            "showbackground": true,
            "ticks": "",
            "zerolinecolor": "#C8D4E3"
           }
          },
          "shapedefaults": {
           "line": {
            "color": "#f2f5fa"
           }
          },
          "sliderdefaults": {
           "bgcolor": "#C8D4E3",
           "bordercolor": "rgb(17,17,17)",
           "borderwidth": 1,
           "tickwidth": 0
          },
          "ternary": {
           "aaxis": {
            "gridcolor": "#506784",
            "linecolor": "#506784",
            "ticks": ""
           },
           "baxis": {
            "gridcolor": "#506784",
            "linecolor": "#506784",
            "ticks": ""
           },
           "bgcolor": "rgb(17,17,17)",
           "caxis": {
            "gridcolor": "#506784",
            "linecolor": "#506784",
            "ticks": ""
           }
          },
          "title": {
           "x": 0.05
          },
          "updatemenudefaults": {
           "bgcolor": "#506784",
           "borderwidth": 0
          },
          "xaxis": {
           "automargin": true,
           "gridcolor": "#283442",
           "linecolor": "#506784",
           "ticks": "",
           "title": {
            "standoff": 15
           },
           "zerolinecolor": "#283442",
           "zerolinewidth": 2
          },
          "yaxis": {
           "automargin": true,
           "gridcolor": "#283442",
           "linecolor": "#506784",
           "ticks": "",
           "title": {
            "standoff": 15
           },
           "zerolinecolor": "#283442",
           "zerolinewidth": 2
          }
         }
        },
        "title": {
         "font": {
          "color": "white",
          "size": 25
         },
         "text": "Canciones más populares: One Direction vs Solista",
         "x": 0.5,
         "xanchor": "center",
         "y": 0.9,
         "yanchor": "top"
        },
        "xaxis": {
         "anchor": "y",
         "domain": [
          0,
          1
         ],
         "tickfont": {
          "size": 12
         },
         "title": {
          "font": {
           "size": 14
          },
          "text": "Canción"
         }
        },
        "yaxis": {
         "anchor": "x",
         "domain": [
          0,
          1
         ],
         "tickfont": {
          "size": 12
         },
         "title": {
          "font": {
           "size": 14
          },
          "text": "Duración en segundos"
         }
        }
       }
      }
     },
     "metadata": {},
     "output_type": "display_data"
    }
   ],
   "source": [
    "color = {\"Solista\" : \"red\", \"One Direction\" : \"blue\"}\n",
    "\n",
    "fig = px.bar(top_canciones, x=\"Canción\", y=\"Popularidad\", text=\"Popularidad\", color=\"Etapa\", color_discrete_map=color, hover_data={'Álbum':True, 'Año':True, 'Tipo':True, 'Álbum' : True},title='Canciones más populares: One Direction vs Solista',\n",
    "             template='plotly_dark')\n",
    "\n",
    "fig.update_layout(title = {'text' : 'Canciones más populares: One Direction vs Solista','y':0.9, 'x':0.5, 'xanchor' : 'center', 'yanchor' : 'top', 'font':dict(size=25, color='white')}, height = 600, margin=dict(l=50, r=50, t=100, b=200), yaxis=dict(title='Duración en segundos', titlefont_size=14, tickfont_size=12),\n",
    "    xaxis=dict(title='Canción', titlefont_size=14, tickfont_size=12))\n",
    "\n",
    "\n",
    "fig.show()"
   ]
  },
  {
   "cell_type": "code",
   "execution_count": 185,
   "metadata": {},
   "outputs": [
    {
     "data": {
      "text/html": [
       "<div>\n",
       "<style scoped>\n",
       "    .dataframe tbody tr th:only-of-type {\n",
       "        vertical-align: middle;\n",
       "    }\n",
       "\n",
       "    .dataframe tbody tr th {\n",
       "        vertical-align: top;\n",
       "    }\n",
       "\n",
       "    .dataframe thead th {\n",
       "        text-align: right;\n",
       "    }\n",
       "</style>\n",
       "<table border=\"1\" class=\"dataframe\">\n",
       "  <thead>\n",
       "    <tr style=\"text-align: right;\">\n",
       "      <th></th>\n",
       "      <th>Artistas</th>\n",
       "      <th>Año</th>\n",
       "      <th>Canción</th>\n",
       "      <th>Duración</th>\n",
       "      <th>Duración_segundos</th>\n",
       "      <th>Etapa</th>\n",
       "      <th>Popularidad</th>\n",
       "      <th>Tipo</th>\n",
       "      <th>Álbum</th>\n",
       "    </tr>\n",
       "  </thead>\n",
       "  <tbody>\n",
       "    <tr>\n",
       "      <th>136</th>\n",
       "      <td>Louis Tomlinson</td>\n",
       "      <td>2024</td>\n",
       "      <td>All This Time / She Is Beauty We Are World Cla...</td>\n",
       "      <td>08:29</td>\n",
       "      <td>509</td>\n",
       "      <td>Solista</td>\n",
       "      <td>46</td>\n",
       "      <td>Álbum</td>\n",
       "      <td>LIVE</td>\n",
       "    </tr>\n",
       "    <tr>\n",
       "      <th>100</th>\n",
       "      <td>One Direction, Steve Smart, WestFunk</td>\n",
       "      <td>2010</td>\n",
       "      <td>Gotta Be You - Steve Smart &amp; Westfunk Remix</td>\n",
       "      <td>06:17</td>\n",
       "      <td>377</td>\n",
       "      <td>One Direction</td>\n",
       "      <td>22</td>\n",
       "      <td>Single</td>\n",
       "      <td>Remixes - EP</td>\n",
       "    </tr>\n",
       "    <tr>\n",
       "      <th>140</th>\n",
       "      <td>Louis Tomlinson</td>\n",
       "      <td>2024</td>\n",
       "      <td>Saturdays - Live From Paris, 14 October 2023</td>\n",
       "      <td>05:56</td>\n",
       "      <td>356</td>\n",
       "      <td>Solista</td>\n",
       "      <td>43</td>\n",
       "      <td>Álbum</td>\n",
       "      <td>LIVE</td>\n",
       "    </tr>\n",
       "    <tr>\n",
       "      <th>102</th>\n",
       "      <td>One Direction, Dave Audé</td>\n",
       "      <td>2010</td>\n",
       "      <td>Live While We're Young - Dave Aude Remix</td>\n",
       "      <td>05:40</td>\n",
       "      <td>340</td>\n",
       "      <td>One Direction</td>\n",
       "      <td>24</td>\n",
       "      <td>Single</td>\n",
       "      <td>Remixes - EP</td>\n",
       "    </tr>\n",
       "    <tr>\n",
       "      <th>134</th>\n",
       "      <td>Louis Tomlinson</td>\n",
       "      <td>2024</td>\n",
       "      <td>Fearless - Live From Rio, 27 May 2022</td>\n",
       "      <td>05:37</td>\n",
       "      <td>337</td>\n",
       "      <td>Solista</td>\n",
       "      <td>44</td>\n",
       "      <td>Álbum</td>\n",
       "      <td>LIVE</td>\n",
       "    </tr>\n",
       "  </tbody>\n",
       "</table>\n",
       "</div>"
      ],
      "text/plain": [
       "                                 Artistas   Año  \\\n",
       "136                       Louis Tomlinson  2024   \n",
       "100  One Direction, Steve Smart, WestFunk  2010   \n",
       "140                       Louis Tomlinson  2024   \n",
       "102              One Direction, Dave Audé  2010   \n",
       "134                       Louis Tomlinson  2024   \n",
       "\n",
       "                                               Canción Duración  \\\n",
       "136  All This Time / She Is Beauty We Are World Cla...    08:29   \n",
       "100        Gotta Be You - Steve Smart & Westfunk Remix    06:17   \n",
       "140       Saturdays - Live From Paris, 14 October 2023    05:56   \n",
       "102           Live While We're Young - Dave Aude Remix    05:40   \n",
       "134              Fearless - Live From Rio, 27 May 2022    05:37   \n",
       "\n",
       "     Duración_segundos          Etapa  Popularidad    Tipo         Álbum  \n",
       "136                509        Solista           46   Álbum          LIVE  \n",
       "100                377  One Direction           22  Single  Remixes - EP  \n",
       "140                356        Solista           43   Álbum          LIVE  \n",
       "102                340  One Direction           24  Single  Remixes - EP  \n",
       "134                337        Solista           44   Álbum          LIVE  "
      ]
     },
     "execution_count": 185,
     "metadata": {},
     "output_type": "execute_result"
    }
   ],
   "source": [
    "duracion = df_concat.sort_values(\"Duración\",ascending=False).head(10)\n",
    "duracion.head()"
   ]
  },
  {
   "cell_type": "code",
   "execution_count": 186,
   "metadata": {},
   "outputs": [
    {
     "data": {
      "application/vnd.plotly.v1+json": {
       "config": {
        "plotlyServerURL": "https://plot.ly"
       },
       "data": [
        {
         "alignmentgroup": "True",
         "customdata": [
          [
           "LIVE",
           2024,
           "Álbum"
          ],
          [
           "LIVE",
           2024,
           "Álbum"
          ],
          [
           "LIVE",
           2024,
           "Álbum"
          ],
          [
           "Just Hold On (Remixes)",
           2017,
           "Single"
          ],
          [
           "Faith In The Future (Bonus Edition)",
           2023,
           "Álbum"
          ]
         ],
         "hovertemplate": "Etapa=Solista<br>Canción=%{x}<br>Duración_segundos=%{y}<br>Duración=%{text}<br>Álbum=%{customdata[0]}<br>Año=%{customdata[1]}<br>Tipo=%{customdata[2]}<extra></extra>",
         "legendgroup": "Solista",
         "marker": {
          "color": "red",
          "pattern": {
           "shape": ""
          }
         },
         "name": "Solista",
         "offsetgroup": "Solista",
         "orientation": "v",
         "showlegend": true,
         "text": [
          "08:29",
          "05:56",
          "05:37",
          "04:56",
          "04:42"
         ],
         "textposition": "auto",
         "type": "bar",
         "x": [
          "All This Time / She Is Beauty We Are World Class - Live From Munich, 22 October 2023",
          "Saturdays - Live From Paris, 14 October 2023",
          "Fearless - Live From Rio, 27 May 2022",
          "Just Hold On - TJH87 Remix",
          "Change"
         ],
         "xaxis": "x",
         "y": [
          509,
          356,
          337,
          296,
          282
         ],
         "yaxis": "y"
        },
        {
         "alignmentgroup": "True",
         "customdata": [
          [
           "Remixes - EP",
           2010,
           "Single"
          ],
          [
           "Remixes - EP",
           2010,
           "Single"
          ],
          [
           "Remixes - EP",
           2010,
           "Single"
          ],
          [
           "Remixes - EP",
           2010,
           "Single"
          ],
          [
           "Best Song Ever (From THIS IS US)",
           2013,
           "Single"
          ]
         ],
         "hovertemplate": "Etapa=One Direction<br>Canción=%{x}<br>Duración_segundos=%{y}<br>Duración=%{text}<br>Álbum=%{customdata[0]}<br>Año=%{customdata[1]}<br>Tipo=%{customdata[2]}<extra></extra>",
         "legendgroup": "One Direction",
         "marker": {
          "color": "blue",
          "pattern": {
           "shape": ""
          }
         },
         "name": "One Direction",
         "offsetgroup": "One Direction",
         "orientation": "v",
         "showlegend": true,
         "text": [
          "06:17",
          "05:40",
          "05:20",
          "04:41",
          "04:27"
         ],
         "textposition": "auto",
         "type": "bar",
         "x": [
          "Gotta Be You - Steve Smart & Westfunk Remix",
          "Live While We're Young - Dave Aude Remix",
          "Steal My Girl - Big Payno & Afterhrs Pool Party Remix",
          "Steal My Girl - 88 Ninety's 'Raiders of the Lost Art' Remix",
          "Kiss You - Live Version From The Motion Picture \"One Direction: This Is Us\""
         ],
         "xaxis": "x",
         "y": [
          377,
          340,
          320,
          281,
          267
         ],
         "yaxis": "y"
        }
       ],
       "layout": {
        "barmode": "relative",
        "height": 600,
        "legend": {
         "title": {
          "text": "Etapa"
         },
         "tracegroupgap": 0
        },
        "margin": {
         "b": 200,
         "l": 50,
         "r": 50,
         "t": 100
        },
        "template": {
         "data": {
          "bar": [
           {
            "error_x": {
             "color": "#f2f5fa"
            },
            "error_y": {
             "color": "#f2f5fa"
            },
            "marker": {
             "line": {
              "color": "rgb(17,17,17)",
              "width": 0.5
             },
             "pattern": {
              "fillmode": "overlay",
              "size": 10,
              "solidity": 0.2
             }
            },
            "type": "bar"
           }
          ],
          "barpolar": [
           {
            "marker": {
             "line": {
              "color": "rgb(17,17,17)",
              "width": 0.5
             },
             "pattern": {
              "fillmode": "overlay",
              "size": 10,
              "solidity": 0.2
             }
            },
            "type": "barpolar"
           }
          ],
          "carpet": [
           {
            "aaxis": {
             "endlinecolor": "#A2B1C6",
             "gridcolor": "#506784",
             "linecolor": "#506784",
             "minorgridcolor": "#506784",
             "startlinecolor": "#A2B1C6"
            },
            "baxis": {
             "endlinecolor": "#A2B1C6",
             "gridcolor": "#506784",
             "linecolor": "#506784",
             "minorgridcolor": "#506784",
             "startlinecolor": "#A2B1C6"
            },
            "type": "carpet"
           }
          ],
          "choropleth": [
           {
            "colorbar": {
             "outlinewidth": 0,
             "ticks": ""
            },
            "type": "choropleth"
           }
          ],
          "contour": [
           {
            "colorbar": {
             "outlinewidth": 0,
             "ticks": ""
            },
            "colorscale": [
             [
              0,
              "#0d0887"
             ],
             [
              0.1111111111111111,
              "#46039f"
             ],
             [
              0.2222222222222222,
              "#7201a8"
             ],
             [
              0.3333333333333333,
              "#9c179e"
             ],
             [
              0.4444444444444444,
              "#bd3786"
             ],
             [
              0.5555555555555556,
              "#d8576b"
             ],
             [
              0.6666666666666666,
              "#ed7953"
             ],
             [
              0.7777777777777778,
              "#fb9f3a"
             ],
             [
              0.8888888888888888,
              "#fdca26"
             ],
             [
              1,
              "#f0f921"
             ]
            ],
            "type": "contour"
           }
          ],
          "contourcarpet": [
           {
            "colorbar": {
             "outlinewidth": 0,
             "ticks": ""
            },
            "type": "contourcarpet"
           }
          ],
          "heatmap": [
           {
            "colorbar": {
             "outlinewidth": 0,
             "ticks": ""
            },
            "colorscale": [
             [
              0,
              "#0d0887"
             ],
             [
              0.1111111111111111,
              "#46039f"
             ],
             [
              0.2222222222222222,
              "#7201a8"
             ],
             [
              0.3333333333333333,
              "#9c179e"
             ],
             [
              0.4444444444444444,
              "#bd3786"
             ],
             [
              0.5555555555555556,
              "#d8576b"
             ],
             [
              0.6666666666666666,
              "#ed7953"
             ],
             [
              0.7777777777777778,
              "#fb9f3a"
             ],
             [
              0.8888888888888888,
              "#fdca26"
             ],
             [
              1,
              "#f0f921"
             ]
            ],
            "type": "heatmap"
           }
          ],
          "heatmapgl": [
           {
            "colorbar": {
             "outlinewidth": 0,
             "ticks": ""
            },
            "colorscale": [
             [
              0,
              "#0d0887"
             ],
             [
              0.1111111111111111,
              "#46039f"
             ],
             [
              0.2222222222222222,
              "#7201a8"
             ],
             [
              0.3333333333333333,
              "#9c179e"
             ],
             [
              0.4444444444444444,
              "#bd3786"
             ],
             [
              0.5555555555555556,
              "#d8576b"
             ],
             [
              0.6666666666666666,
              "#ed7953"
             ],
             [
              0.7777777777777778,
              "#fb9f3a"
             ],
             [
              0.8888888888888888,
              "#fdca26"
             ],
             [
              1,
              "#f0f921"
             ]
            ],
            "type": "heatmapgl"
           }
          ],
          "histogram": [
           {
            "marker": {
             "pattern": {
              "fillmode": "overlay",
              "size": 10,
              "solidity": 0.2
             }
            },
            "type": "histogram"
           }
          ],
          "histogram2d": [
           {
            "colorbar": {
             "outlinewidth": 0,
             "ticks": ""
            },
            "colorscale": [
             [
              0,
              "#0d0887"
             ],
             [
              0.1111111111111111,
              "#46039f"
             ],
             [
              0.2222222222222222,
              "#7201a8"
             ],
             [
              0.3333333333333333,
              "#9c179e"
             ],
             [
              0.4444444444444444,
              "#bd3786"
             ],
             [
              0.5555555555555556,
              "#d8576b"
             ],
             [
              0.6666666666666666,
              "#ed7953"
             ],
             [
              0.7777777777777778,
              "#fb9f3a"
             ],
             [
              0.8888888888888888,
              "#fdca26"
             ],
             [
              1,
              "#f0f921"
             ]
            ],
            "type": "histogram2d"
           }
          ],
          "histogram2dcontour": [
           {
            "colorbar": {
             "outlinewidth": 0,
             "ticks": ""
            },
            "colorscale": [
             [
              0,
              "#0d0887"
             ],
             [
              0.1111111111111111,
              "#46039f"
             ],
             [
              0.2222222222222222,
              "#7201a8"
             ],
             [
              0.3333333333333333,
              "#9c179e"
             ],
             [
              0.4444444444444444,
              "#bd3786"
             ],
             [
              0.5555555555555556,
              "#d8576b"
             ],
             [
              0.6666666666666666,
              "#ed7953"
             ],
             [
              0.7777777777777778,
              "#fb9f3a"
             ],
             [
              0.8888888888888888,
              "#fdca26"
             ],
             [
              1,
              "#f0f921"
             ]
            ],
            "type": "histogram2dcontour"
           }
          ],
          "mesh3d": [
           {
            "colorbar": {
             "outlinewidth": 0,
             "ticks": ""
            },
            "type": "mesh3d"
           }
          ],
          "parcoords": [
           {
            "line": {
             "colorbar": {
              "outlinewidth": 0,
              "ticks": ""
             }
            },
            "type": "parcoords"
           }
          ],
          "pie": [
           {
            "automargin": true,
            "type": "pie"
           }
          ],
          "scatter": [
           {
            "marker": {
             "line": {
              "color": "#283442"
             }
            },
            "type": "scatter"
           }
          ],
          "scatter3d": [
           {
            "line": {
             "colorbar": {
              "outlinewidth": 0,
              "ticks": ""
             }
            },
            "marker": {
             "colorbar": {
              "outlinewidth": 0,
              "ticks": ""
             }
            },
            "type": "scatter3d"
           }
          ],
          "scattercarpet": [
           {
            "marker": {
             "colorbar": {
              "outlinewidth": 0,
              "ticks": ""
             }
            },
            "type": "scattercarpet"
           }
          ],
          "scattergeo": [
           {
            "marker": {
             "colorbar": {
              "outlinewidth": 0,
              "ticks": ""
             }
            },
            "type": "scattergeo"
           }
          ],
          "scattergl": [
           {
            "marker": {
             "line": {
              "color": "#283442"
             }
            },
            "type": "scattergl"
           }
          ],
          "scattermapbox": [
           {
            "marker": {
             "colorbar": {
              "outlinewidth": 0,
              "ticks": ""
             }
            },
            "type": "scattermapbox"
           }
          ],
          "scatterpolar": [
           {
            "marker": {
             "colorbar": {
              "outlinewidth": 0,
              "ticks": ""
             }
            },
            "type": "scatterpolar"
           }
          ],
          "scatterpolargl": [
           {
            "marker": {
             "colorbar": {
              "outlinewidth": 0,
              "ticks": ""
             }
            },
            "type": "scatterpolargl"
           }
          ],
          "scatterternary": [
           {
            "marker": {
             "colorbar": {
              "outlinewidth": 0,
              "ticks": ""
             }
            },
            "type": "scatterternary"
           }
          ],
          "surface": [
           {
            "colorbar": {
             "outlinewidth": 0,
             "ticks": ""
            },
            "colorscale": [
             [
              0,
              "#0d0887"
             ],
             [
              0.1111111111111111,
              "#46039f"
             ],
             [
              0.2222222222222222,
              "#7201a8"
             ],
             [
              0.3333333333333333,
              "#9c179e"
             ],
             [
              0.4444444444444444,
              "#bd3786"
             ],
             [
              0.5555555555555556,
              "#d8576b"
             ],
             [
              0.6666666666666666,
              "#ed7953"
             ],
             [
              0.7777777777777778,
              "#fb9f3a"
             ],
             [
              0.8888888888888888,
              "#fdca26"
             ],
             [
              1,
              "#f0f921"
             ]
            ],
            "type": "surface"
           }
          ],
          "table": [
           {
            "cells": {
             "fill": {
              "color": "#506784"
             },
             "line": {
              "color": "rgb(17,17,17)"
             }
            },
            "header": {
             "fill": {
              "color": "#2a3f5f"
             },
             "line": {
              "color": "rgb(17,17,17)"
             }
            },
            "type": "table"
           }
          ]
         },
         "layout": {
          "annotationdefaults": {
           "arrowcolor": "#f2f5fa",
           "arrowhead": 0,
           "arrowwidth": 1
          },
          "autotypenumbers": "strict",
          "coloraxis": {
           "colorbar": {
            "outlinewidth": 0,
            "ticks": ""
           }
          },
          "colorscale": {
           "diverging": [
            [
             0,
             "#8e0152"
            ],
            [
             0.1,
             "#c51b7d"
            ],
            [
             0.2,
             "#de77ae"
            ],
            [
             0.3,
             "#f1b6da"
            ],
            [
             0.4,
             "#fde0ef"
            ],
            [
             0.5,
             "#f7f7f7"
            ],
            [
             0.6,
             "#e6f5d0"
            ],
            [
             0.7,
             "#b8e186"
            ],
            [
             0.8,
             "#7fbc41"
            ],
            [
             0.9,
             "#4d9221"
            ],
            [
             1,
             "#276419"
            ]
           ],
           "sequential": [
            [
             0,
             "#0d0887"
            ],
            [
             0.1111111111111111,
             "#46039f"
            ],
            [
             0.2222222222222222,
             "#7201a8"
            ],
            [
             0.3333333333333333,
             "#9c179e"
            ],
            [
             0.4444444444444444,
             "#bd3786"
            ],
            [
             0.5555555555555556,
             "#d8576b"
            ],
            [
             0.6666666666666666,
             "#ed7953"
            ],
            [
             0.7777777777777778,
             "#fb9f3a"
            ],
            [
             0.8888888888888888,
             "#fdca26"
            ],
            [
             1,
             "#f0f921"
            ]
           ],
           "sequentialminus": [
            [
             0,
             "#0d0887"
            ],
            [
             0.1111111111111111,
             "#46039f"
            ],
            [
             0.2222222222222222,
             "#7201a8"
            ],
            [
             0.3333333333333333,
             "#9c179e"
            ],
            [
             0.4444444444444444,
             "#bd3786"
            ],
            [
             0.5555555555555556,
             "#d8576b"
            ],
            [
             0.6666666666666666,
             "#ed7953"
            ],
            [
             0.7777777777777778,
             "#fb9f3a"
            ],
            [
             0.8888888888888888,
             "#fdca26"
            ],
            [
             1,
             "#f0f921"
            ]
           ]
          },
          "colorway": [
           "#636efa",
           "#EF553B",
           "#00cc96",
           "#ab63fa",
           "#FFA15A",
           "#19d3f3",
           "#FF6692",
           "#B6E880",
           "#FF97FF",
           "#FECB52"
          ],
          "font": {
           "color": "#f2f5fa"
          },
          "geo": {
           "bgcolor": "rgb(17,17,17)",
           "lakecolor": "rgb(17,17,17)",
           "landcolor": "rgb(17,17,17)",
           "showlakes": true,
           "showland": true,
           "subunitcolor": "#506784"
          },
          "hoverlabel": {
           "align": "left"
          },
          "hovermode": "closest",
          "mapbox": {
           "style": "dark"
          },
          "paper_bgcolor": "rgb(17,17,17)",
          "plot_bgcolor": "rgb(17,17,17)",
          "polar": {
           "angularaxis": {
            "gridcolor": "#506784",
            "linecolor": "#506784",
            "ticks": ""
           },
           "bgcolor": "rgb(17,17,17)",
           "radialaxis": {
            "gridcolor": "#506784",
            "linecolor": "#506784",
            "ticks": ""
           }
          },
          "scene": {
           "xaxis": {
            "backgroundcolor": "rgb(17,17,17)",
            "gridcolor": "#506784",
            "gridwidth": 2,
            "linecolor": "#506784",
            "showbackground": true,
            "ticks": "",
            "zerolinecolor": "#C8D4E3"
           },
           "yaxis": {
            "backgroundcolor": "rgb(17,17,17)",
            "gridcolor": "#506784",
            "gridwidth": 2,
            "linecolor": "#506784",
            "showbackground": true,
            "ticks": "",
            "zerolinecolor": "#C8D4E3"
           },
           "zaxis": {
            "backgroundcolor": "rgb(17,17,17)",
            "gridcolor": "#506784",
            "gridwidth": 2,
            "linecolor": "#506784",
            "showbackground": true,
            "ticks": "",
            "zerolinecolor": "#C8D4E3"
           }
          },
          "shapedefaults": {
           "line": {
            "color": "#f2f5fa"
           }
          },
          "sliderdefaults": {
           "bgcolor": "#C8D4E3",
           "bordercolor": "rgb(17,17,17)",
           "borderwidth": 1,
           "tickwidth": 0
          },
          "ternary": {
           "aaxis": {
            "gridcolor": "#506784",
            "linecolor": "#506784",
            "ticks": ""
           },
           "baxis": {
            "gridcolor": "#506784",
            "linecolor": "#506784",
            "ticks": ""
           },
           "bgcolor": "rgb(17,17,17)",
           "caxis": {
            "gridcolor": "#506784",
            "linecolor": "#506784",
            "ticks": ""
           }
          },
          "title": {
           "x": 0.05
          },
          "updatemenudefaults": {
           "bgcolor": "#506784",
           "borderwidth": 0
          },
          "xaxis": {
           "automargin": true,
           "gridcolor": "#283442",
           "linecolor": "#506784",
           "ticks": "",
           "title": {
            "standoff": 15
           },
           "zerolinecolor": "#283442",
           "zerolinewidth": 2
          },
          "yaxis": {
           "automargin": true,
           "gridcolor": "#283442",
           "linecolor": "#506784",
           "ticks": "",
           "title": {
            "standoff": 15
           },
           "zerolinecolor": "#283442",
           "zerolinewidth": 2
          }
         }
        },
        "title": {
         "font": {
          "color": "white",
          "size": 25
         },
         "text": "Canciones con más Duración: One Direction vs Solista",
         "x": 0.5,
         "xanchor": "center",
         "y": 0.9,
         "yanchor": "top"
        },
        "xaxis": {
         "anchor": "y",
         "domain": [
          0,
          1
         ],
         "tickfont": {
          "size": 12
         },
         "title": {
          "font": {
           "size": 14
          },
          "text": "Canción"
         }
        },
        "yaxis": {
         "anchor": "x",
         "domain": [
          0,
          1
         ],
         "tickfont": {
          "size": 12
         },
         "title": {
          "font": {
           "size": 14
          },
          "text": "Duración en segundos"
         }
        }
       }
      }
     },
     "metadata": {},
     "output_type": "display_data"
    }
   ],
   "source": [
    "color = {\"Solista\" : \"red\", \"One Direction\" : \"blue\"}\n",
    "fig = px.bar(duracion, x=\"Canción\", y=\"Duración_segundos\", text=\"Duración\",color=\"Etapa\", color_discrete_map=color, hover_data={'Álbum':True, 'Año':True, 'Tipo':True, 'Álbum' : True},title='Canciones con más diración: One Direction vs Solista',\n",
    "             template='plotly_dark')\n",
    "\n",
    "\n",
    "fig.update_layout(title = {'text' : 'Canciones con más Duración: One Direction vs Solista','y':0.9, 'x':0.5, 'xanchor' : 'center', 'yanchor' : 'top', 'font':dict(size=25, color='white')}, height = 600, margin=dict(l=50, r=50, t=100, b=200), yaxis=dict(title='Duración en segundos', titlefont_size=14, tickfont_size=12),\n",
    "    xaxis=dict(title='Canción', titlefont_size=14, tickfont_size=12))\n",
    "\n",
    "\n",
    "fig"
   ]
  },
  {
   "cell_type": "code",
   "execution_count": 187,
   "metadata": {},
   "outputs": [
    {
     "data": {
      "application/vnd.plotly.v1+json": {
       "config": {
        "plotlyServerURL": "https://plot.ly"
       },
       "data": [
        {
         "alignmentgroup": "True",
         "bingroup": "x",
         "hovertemplate": "Etapa=One Direction<br>Popularidad Promedio=%{x}<br>count=%{y}<extra></extra>",
         "legendgroup": "One Direction",
         "marker": {
          "color": "blue",
          "pattern": {
           "shape": ""
          }
         },
         "name": "One Direction",
         "nbinsx": 25,
         "offsetgroup": "One Direction",
         "orientation": "v",
         "showlegend": true,
         "type": "histogram",
         "x": [
          57,
          80,
          79,
          62,
          59,
          62,
          54,
          57,
          65,
          62,
          61,
          56,
          70,
          59,
          61,
          58,
          60,
          77,
          61,
          63,
          76,
          60,
          63,
          87,
          67,
          63,
          54,
          66,
          56,
          55,
          53,
          54,
          56,
          74,
          83,
          61,
          64,
          74,
          58,
          71,
          61,
          76,
          56,
          59,
          54,
          56,
          56,
          55,
          55,
          53,
          60,
          71,
          70,
          70,
          58,
          61,
          56,
          60,
          54,
          59,
          60,
          54,
          71,
          54,
          58,
          54,
          56,
          57,
          54,
          59,
          54,
          84,
          60,
          71,
          61,
          61,
          57,
          54,
          56,
          55,
          53,
          53,
          52,
          54,
          55,
          58,
          50,
          55,
          55,
          33,
          33,
          50,
          37,
          39,
          25,
          25,
          33,
          62,
          24,
          24,
          22,
          20,
          24,
          25,
          22,
          22,
          23,
          33,
          26,
          26,
          23,
          32,
          30,
          34,
          38,
          26,
          45,
          56,
          32,
          28,
          30,
          29,
          30,
          50,
          44,
          35,
          49,
          42
         ],
         "xaxis": "x",
         "yaxis": "y"
        },
        {
         "alignmentgroup": "True",
         "bingroup": "x",
         "hovertemplate": "Etapa=Solista<br>Popularidad Promedio=%{x}<br>count=%{y}<extra></extra>",
         "legendgroup": "Solista",
         "marker": {
          "color": "red",
          "pattern": {
           "shape": ""
          }
         },
         "name": "Solista",
         "nbinsx": 25,
         "offsetgroup": "Solista",
         "orientation": "v",
         "showlegend": true,
         "type": "histogram",
         "x": [
          47,
          45,
          44,
          46,
          44,
          45,
          44,
          43,
          46,
          43,
          44,
          44,
          43,
          44,
          36,
          36,
          35,
          36,
          36,
          37,
          37,
          35,
          35,
          36,
          36,
          34,
          35,
          36,
          37,
          34,
          50,
          50,
          41,
          53,
          59,
          56,
          54,
          51,
          55,
          53,
          57,
          51,
          51,
          56,
          50,
          49,
          53,
          56,
          50,
          53,
          54,
          54,
          51,
          50,
          52,
          52,
          57,
          49,
          48,
          54,
          51,
          0,
          16,
          16,
          15,
          15,
          15,
          15,
          15,
          15,
          14,
          15,
          16,
          17,
          23,
          14,
          13,
          19,
          13,
          29,
          11,
          21,
          36,
          34,
          30,
          35,
          36,
          39,
          44,
          27,
          57,
          48,
          32,
          63,
          30,
          19,
          24,
          17,
          21,
          23,
          18,
          19,
          56
         ],
         "xaxis": "x",
         "yaxis": "y"
        }
       ],
       "layout": {
        "bargap": 0.2,
        "bargroupgap": 0.05,
        "barmode": "group",
        "height": 600,
        "legend": {
         "title": {
          "text": "Etapa"
         },
         "tracegroupgap": 0
        },
        "margin": {
         "b": 200,
         "l": 50,
         "r": 50,
         "t": 100
        },
        "template": {
         "data": {
          "bar": [
           {
            "error_x": {
             "color": "#f2f5fa"
            },
            "error_y": {
             "color": "#f2f5fa"
            },
            "marker": {
             "line": {
              "color": "rgb(17,17,17)",
              "width": 0.5
             },
             "pattern": {
              "fillmode": "overlay",
              "size": 10,
              "solidity": 0.2
             }
            },
            "type": "bar"
           }
          ],
          "barpolar": [
           {
            "marker": {
             "line": {
              "color": "rgb(17,17,17)",
              "width": 0.5
             },
             "pattern": {
              "fillmode": "overlay",
              "size": 10,
              "solidity": 0.2
             }
            },
            "type": "barpolar"
           }
          ],
          "carpet": [
           {
            "aaxis": {
             "endlinecolor": "#A2B1C6",
             "gridcolor": "#506784",
             "linecolor": "#506784",
             "minorgridcolor": "#506784",
             "startlinecolor": "#A2B1C6"
            },
            "baxis": {
             "endlinecolor": "#A2B1C6",
             "gridcolor": "#506784",
             "linecolor": "#506784",
             "minorgridcolor": "#506784",
             "startlinecolor": "#A2B1C6"
            },
            "type": "carpet"
           }
          ],
          "choropleth": [
           {
            "colorbar": {
             "outlinewidth": 0,
             "ticks": ""
            },
            "type": "choropleth"
           }
          ],
          "contour": [
           {
            "colorbar": {
             "outlinewidth": 0,
             "ticks": ""
            },
            "colorscale": [
             [
              0,
              "#0d0887"
             ],
             [
              0.1111111111111111,
              "#46039f"
             ],
             [
              0.2222222222222222,
              "#7201a8"
             ],
             [
              0.3333333333333333,
              "#9c179e"
             ],
             [
              0.4444444444444444,
              "#bd3786"
             ],
             [
              0.5555555555555556,
              "#d8576b"
             ],
             [
              0.6666666666666666,
              "#ed7953"
             ],
             [
              0.7777777777777778,
              "#fb9f3a"
             ],
             [
              0.8888888888888888,
              "#fdca26"
             ],
             [
              1,
              "#f0f921"
             ]
            ],
            "type": "contour"
           }
          ],
          "contourcarpet": [
           {
            "colorbar": {
             "outlinewidth": 0,
             "ticks": ""
            },
            "type": "contourcarpet"
           }
          ],
          "heatmap": [
           {
            "colorbar": {
             "outlinewidth": 0,
             "ticks": ""
            },
            "colorscale": [
             [
              0,
              "#0d0887"
             ],
             [
              0.1111111111111111,
              "#46039f"
             ],
             [
              0.2222222222222222,
              "#7201a8"
             ],
             [
              0.3333333333333333,
              "#9c179e"
             ],
             [
              0.4444444444444444,
              "#bd3786"
             ],
             [
              0.5555555555555556,
              "#d8576b"
             ],
             [
              0.6666666666666666,
              "#ed7953"
             ],
             [
              0.7777777777777778,
              "#fb9f3a"
             ],
             [
              0.8888888888888888,
              "#fdca26"
             ],
             [
              1,
              "#f0f921"
             ]
            ],
            "type": "heatmap"
           }
          ],
          "heatmapgl": [
           {
            "colorbar": {
             "outlinewidth": 0,
             "ticks": ""
            },
            "colorscale": [
             [
              0,
              "#0d0887"
             ],
             [
              0.1111111111111111,
              "#46039f"
             ],
             [
              0.2222222222222222,
              "#7201a8"
             ],
             [
              0.3333333333333333,
              "#9c179e"
             ],
             [
              0.4444444444444444,
              "#bd3786"
             ],
             [
              0.5555555555555556,
              "#d8576b"
             ],
             [
              0.6666666666666666,
              "#ed7953"
             ],
             [
              0.7777777777777778,
              "#fb9f3a"
             ],
             [
              0.8888888888888888,
              "#fdca26"
             ],
             [
              1,
              "#f0f921"
             ]
            ],
            "type": "heatmapgl"
           }
          ],
          "histogram": [
           {
            "marker": {
             "pattern": {
              "fillmode": "overlay",
              "size": 10,
              "solidity": 0.2
             }
            },
            "type": "histogram"
           }
          ],
          "histogram2d": [
           {
            "colorbar": {
             "outlinewidth": 0,
             "ticks": ""
            },
            "colorscale": [
             [
              0,
              "#0d0887"
             ],
             [
              0.1111111111111111,
              "#46039f"
             ],
             [
              0.2222222222222222,
              "#7201a8"
             ],
             [
              0.3333333333333333,
              "#9c179e"
             ],
             [
              0.4444444444444444,
              "#bd3786"
             ],
             [
              0.5555555555555556,
              "#d8576b"
             ],
             [
              0.6666666666666666,
              "#ed7953"
             ],
             [
              0.7777777777777778,
              "#fb9f3a"
             ],
             [
              0.8888888888888888,
              "#fdca26"
             ],
             [
              1,
              "#f0f921"
             ]
            ],
            "type": "histogram2d"
           }
          ],
          "histogram2dcontour": [
           {
            "colorbar": {
             "outlinewidth": 0,
             "ticks": ""
            },
            "colorscale": [
             [
              0,
              "#0d0887"
             ],
             [
              0.1111111111111111,
              "#46039f"
             ],
             [
              0.2222222222222222,
              "#7201a8"
             ],
             [
              0.3333333333333333,
              "#9c179e"
             ],
             [
              0.4444444444444444,
              "#bd3786"
             ],
             [
              0.5555555555555556,
              "#d8576b"
             ],
             [
              0.6666666666666666,
              "#ed7953"
             ],
             [
              0.7777777777777778,
              "#fb9f3a"
             ],
             [
              0.8888888888888888,
              "#fdca26"
             ],
             [
              1,
              "#f0f921"
             ]
            ],
            "type": "histogram2dcontour"
           }
          ],
          "mesh3d": [
           {
            "colorbar": {
             "outlinewidth": 0,
             "ticks": ""
            },
            "type": "mesh3d"
           }
          ],
          "parcoords": [
           {
            "line": {
             "colorbar": {
              "outlinewidth": 0,
              "ticks": ""
             }
            },
            "type": "parcoords"
           }
          ],
          "pie": [
           {
            "automargin": true,
            "type": "pie"
           }
          ],
          "scatter": [
           {
            "marker": {
             "line": {
              "color": "#283442"
             }
            },
            "type": "scatter"
           }
          ],
          "scatter3d": [
           {
            "line": {
             "colorbar": {
              "outlinewidth": 0,
              "ticks": ""
             }
            },
            "marker": {
             "colorbar": {
              "outlinewidth": 0,
              "ticks": ""
             }
            },
            "type": "scatter3d"
           }
          ],
          "scattercarpet": [
           {
            "marker": {
             "colorbar": {
              "outlinewidth": 0,
              "ticks": ""
             }
            },
            "type": "scattercarpet"
           }
          ],
          "scattergeo": [
           {
            "marker": {
             "colorbar": {
              "outlinewidth": 0,
              "ticks": ""
             }
            },
            "type": "scattergeo"
           }
          ],
          "scattergl": [
           {
            "marker": {
             "line": {
              "color": "#283442"
             }
            },
            "type": "scattergl"
           }
          ],
          "scattermapbox": [
           {
            "marker": {
             "colorbar": {
              "outlinewidth": 0,
              "ticks": ""
             }
            },
            "type": "scattermapbox"
           }
          ],
          "scatterpolar": [
           {
            "marker": {
             "colorbar": {
              "outlinewidth": 0,
              "ticks": ""
             }
            },
            "type": "scatterpolar"
           }
          ],
          "scatterpolargl": [
           {
            "marker": {
             "colorbar": {
              "outlinewidth": 0,
              "ticks": ""
             }
            },
            "type": "scatterpolargl"
           }
          ],
          "scatterternary": [
           {
            "marker": {
             "colorbar": {
              "outlinewidth": 0,
              "ticks": ""
             }
            },
            "type": "scatterternary"
           }
          ],
          "surface": [
           {
            "colorbar": {
             "outlinewidth": 0,
             "ticks": ""
            },
            "colorscale": [
             [
              0,
              "#0d0887"
             ],
             [
              0.1111111111111111,
              "#46039f"
             ],
             [
              0.2222222222222222,
              "#7201a8"
             ],
             [
              0.3333333333333333,
              "#9c179e"
             ],
             [
              0.4444444444444444,
              "#bd3786"
             ],
             [
              0.5555555555555556,
              "#d8576b"
             ],
             [
              0.6666666666666666,
              "#ed7953"
             ],
             [
              0.7777777777777778,
              "#fb9f3a"
             ],
             [
              0.8888888888888888,
              "#fdca26"
             ],
             [
              1,
              "#f0f921"
             ]
            ],
            "type": "surface"
           }
          ],
          "table": [
           {
            "cells": {
             "fill": {
              "color": "#506784"
             },
             "line": {
              "color": "rgb(17,17,17)"
             }
            },
            "header": {
             "fill": {
              "color": "#2a3f5f"
             },
             "line": {
              "color": "rgb(17,17,17)"
             }
            },
            "type": "table"
           }
          ]
         },
         "layout": {
          "annotationdefaults": {
           "arrowcolor": "#f2f5fa",
           "arrowhead": 0,
           "arrowwidth": 1
          },
          "autotypenumbers": "strict",
          "coloraxis": {
           "colorbar": {
            "outlinewidth": 0,
            "ticks": ""
           }
          },
          "colorscale": {
           "diverging": [
            [
             0,
             "#8e0152"
            ],
            [
             0.1,
             "#c51b7d"
            ],
            [
             0.2,
             "#de77ae"
            ],
            [
             0.3,
             "#f1b6da"
            ],
            [
             0.4,
             "#fde0ef"
            ],
            [
             0.5,
             "#f7f7f7"
            ],
            [
             0.6,
             "#e6f5d0"
            ],
            [
             0.7,
             "#b8e186"
            ],
            [
             0.8,
             "#7fbc41"
            ],
            [
             0.9,
             "#4d9221"
            ],
            [
             1,
             "#276419"
            ]
           ],
           "sequential": [
            [
             0,
             "#0d0887"
            ],
            [
             0.1111111111111111,
             "#46039f"
            ],
            [
             0.2222222222222222,
             "#7201a8"
            ],
            [
             0.3333333333333333,
             "#9c179e"
            ],
            [
             0.4444444444444444,
             "#bd3786"
            ],
            [
             0.5555555555555556,
             "#d8576b"
            ],
            [
             0.6666666666666666,
             "#ed7953"
            ],
            [
             0.7777777777777778,
             "#fb9f3a"
            ],
            [
             0.8888888888888888,
             "#fdca26"
            ],
            [
             1,
             "#f0f921"
            ]
           ],
           "sequentialminus": [
            [
             0,
             "#0d0887"
            ],
            [
             0.1111111111111111,
             "#46039f"
            ],
            [
             0.2222222222222222,
             "#7201a8"
            ],
            [
             0.3333333333333333,
             "#9c179e"
            ],
            [
             0.4444444444444444,
             "#bd3786"
            ],
            [
             0.5555555555555556,
             "#d8576b"
            ],
            [
             0.6666666666666666,
             "#ed7953"
            ],
            [
             0.7777777777777778,
             "#fb9f3a"
            ],
            [
             0.8888888888888888,
             "#fdca26"
            ],
            [
             1,
             "#f0f921"
            ]
           ]
          },
          "colorway": [
           "#636efa",
           "#EF553B",
           "#00cc96",
           "#ab63fa",
           "#FFA15A",
           "#19d3f3",
           "#FF6692",
           "#B6E880",
           "#FF97FF",
           "#FECB52"
          ],
          "font": {
           "color": "#f2f5fa"
          },
          "geo": {
           "bgcolor": "rgb(17,17,17)",
           "lakecolor": "rgb(17,17,17)",
           "landcolor": "rgb(17,17,17)",
           "showlakes": true,
           "showland": true,
           "subunitcolor": "#506784"
          },
          "hoverlabel": {
           "align": "left"
          },
          "hovermode": "closest",
          "mapbox": {
           "style": "dark"
          },
          "paper_bgcolor": "rgb(17,17,17)",
          "plot_bgcolor": "rgb(17,17,17)",
          "polar": {
           "angularaxis": {
            "gridcolor": "#506784",
            "linecolor": "#506784",
            "ticks": ""
           },
           "bgcolor": "rgb(17,17,17)",
           "radialaxis": {
            "gridcolor": "#506784",
            "linecolor": "#506784",
            "ticks": ""
           }
          },
          "scene": {
           "xaxis": {
            "backgroundcolor": "rgb(17,17,17)",
            "gridcolor": "#506784",
            "gridwidth": 2,
            "linecolor": "#506784",
            "showbackground": true,
            "ticks": "",
            "zerolinecolor": "#C8D4E3"
           },
           "yaxis": {
            "backgroundcolor": "rgb(17,17,17)",
            "gridcolor": "#506784",
            "gridwidth": 2,
            "linecolor": "#506784",
            "showbackground": true,
            "ticks": "",
            "zerolinecolor": "#C8D4E3"
           },
           "zaxis": {
            "backgroundcolor": "rgb(17,17,17)",
            "gridcolor": "#506784",
            "gridwidth": 2,
            "linecolor": "#506784",
            "showbackground": true,
            "ticks": "",
            "zerolinecolor": "#C8D4E3"
           }
          },
          "shapedefaults": {
           "line": {
            "color": "#f2f5fa"
           }
          },
          "sliderdefaults": {
           "bgcolor": "#C8D4E3",
           "bordercolor": "rgb(17,17,17)",
           "borderwidth": 1,
           "tickwidth": 0
          },
          "ternary": {
           "aaxis": {
            "gridcolor": "#506784",
            "linecolor": "#506784",
            "ticks": ""
           },
           "baxis": {
            "gridcolor": "#506784",
            "linecolor": "#506784",
            "ticks": ""
           },
           "bgcolor": "rgb(17,17,17)",
           "caxis": {
            "gridcolor": "#506784",
            "linecolor": "#506784",
            "ticks": ""
           }
          },
          "title": {
           "x": 0.05
          },
          "updatemenudefaults": {
           "bgcolor": "#506784",
           "borderwidth": 0
          },
          "xaxis": {
           "automargin": true,
           "gridcolor": "#283442",
           "linecolor": "#506784",
           "ticks": "",
           "title": {
            "standoff": 15
           },
           "zerolinecolor": "#283442",
           "zerolinewidth": 2
          },
          "yaxis": {
           "automargin": true,
           "gridcolor": "#283442",
           "linecolor": "#506784",
           "ticks": "",
           "title": {
            "standoff": 15
           },
           "zerolinecolor": "#283442",
           "zerolinewidth": 2
          }
         }
        },
        "title": {
         "font": {
          "color": "white",
          "size": 25
         },
         "text": "Distribución de la Popularidad de las Canciones",
         "x": 0.5,
         "xanchor": "center",
         "y": 0.9,
         "yanchor": "top"
        },
        "xaxis": {
         "anchor": "y",
         "domain": [
          0,
          1
         ],
         "tickfont": {
          "size": 12
         },
         "title": {
          "font": {
           "size": 14
          },
          "text": "Canción"
         }
        },
        "yaxis": {
         "anchor": "x",
         "domain": [
          0,
          1
         ],
         "tickfont": {
          "size": 12
         },
         "title": {
          "font": {
           "size": 14
          },
          "text": "Duración en segundos"
         }
        }
       }
      }
     },
     "metadata": {},
     "output_type": "display_data"
    }
   ],
   "source": [
    "color = {\"Solista\" : \"red\", \"One Direction\" : \"blue\"}\n",
    "popularidad_duracion_canciones = px.histogram(df_concat, x='Popularidad', nbins=25,\n",
    "                               title='Distribución de la Popularidad de las Canciones',\n",
    "                               labels={'Popularidad': 'Popularidad Promedio'}, color=\"Etapa\" ,color_discrete_map=color, template=\"plotly_dark\")\n",
    "popularidad_duracion_canciones.update_layout(barmode=\"group\",bargap=0.2, bargroupgap=0.05, title = {'text' : 'Distribución de la Popularidad de las Canciones','y':0.9, 'x':0.5, 'xanchor' : 'center', 'yanchor' : 'top', 'font':dict(size=25, color='white')}, height = 600, margin=dict(l=50, r=50, t=100, b=200), yaxis=dict(title='Duración en segundos', titlefont_size=14, tickfont_size=12),\n",
    "    xaxis=dict(title='Canción', titlefont_size=14, tickfont_size=12))\n",
    "# popularidad_duracion_canciones.update_traces(opacity=0.7)\n",
    "popularidad_duracion_canciones"
   ]
  },
  {
   "cell_type": "code",
   "execution_count": 188,
   "metadata": {},
   "outputs": [
    {
     "data": {
      "text/html": [
       "<div>\n",
       "<style scoped>\n",
       "    .dataframe tbody tr th:only-of-type {\n",
       "        vertical-align: middle;\n",
       "    }\n",
       "\n",
       "    .dataframe tbody tr th {\n",
       "        vertical-align: top;\n",
       "    }\n",
       "\n",
       "    .dataframe thead th {\n",
       "        text-align: right;\n",
       "    }\n",
       "</style>\n",
       "<table border=\"1\" class=\"dataframe\">\n",
       "  <thead>\n",
       "    <tr style=\"text-align: right;\">\n",
       "      <th></th>\n",
       "      <th>Canción</th>\n",
       "      <th>Popularidad</th>\n",
       "      <th>Duración_segundos</th>\n",
       "    </tr>\n",
       "  </thead>\n",
       "  <tbody>\n",
       "    <tr>\n",
       "      <th>0</th>\n",
       "      <td>All This Time</td>\n",
       "      <td>45.0</td>\n",
       "      <td>175.0</td>\n",
       "    </tr>\n",
       "    <tr>\n",
       "      <th>1</th>\n",
       "      <td>All This Time / She Is Beauty We Are World Cla...</td>\n",
       "      <td>46.0</td>\n",
       "      <td>509.0</td>\n",
       "    </tr>\n",
       "    <tr>\n",
       "      <th>2</th>\n",
       "      <td>Always You</td>\n",
       "      <td>57.0</td>\n",
       "      <td>187.0</td>\n",
       "    </tr>\n",
       "    <tr>\n",
       "      <th>3</th>\n",
       "      <td>Always You - Track By Track</td>\n",
       "      <td>15.0</td>\n",
       "      <td>81.0</td>\n",
       "    </tr>\n",
       "    <tr>\n",
       "      <th>4</th>\n",
       "      <td>Angels Fly</td>\n",
       "      <td>44.5</td>\n",
       "      <td>217.0</td>\n",
       "    </tr>\n",
       "    <tr>\n",
       "      <th>...</th>\n",
       "      <td>...</td>\n",
       "      <td>...</td>\n",
       "      <td>...</td>\n",
       "    </tr>\n",
       "    <tr>\n",
       "      <th>71</th>\n",
       "      <td>We Made It</td>\n",
       "      <td>43.0</td>\n",
       "      <td>201.0</td>\n",
       "    </tr>\n",
       "    <tr>\n",
       "      <th>72</th>\n",
       "      <td>We Made It - Live From Manila, 16 July 2022</td>\n",
       "      <td>44.0</td>\n",
       "      <td>209.0</td>\n",
       "    </tr>\n",
       "    <tr>\n",
       "      <th>73</th>\n",
       "      <td>We Made It - Track By Track</td>\n",
       "      <td>15.0</td>\n",
       "      <td>53.0</td>\n",
       "    </tr>\n",
       "    <tr>\n",
       "      <th>74</th>\n",
       "      <td>Written All Over Your Face</td>\n",
       "      <td>47.5</td>\n",
       "      <td>160.0</td>\n",
       "    </tr>\n",
       "    <tr>\n",
       "      <th>75</th>\n",
       "      <td>Written All Over Your Face - Live From Budapes...</td>\n",
       "      <td>44.0</td>\n",
       "      <td>168.0</td>\n",
       "    </tr>\n",
       "  </tbody>\n",
       "</table>\n",
       "<p>76 rows × 3 columns</p>\n",
       "</div>"
      ],
      "text/plain": [
       "                                              Canción  Popularidad  \\\n",
       "0                                       All This Time         45.0   \n",
       "1   All This Time / She Is Beauty We Are World Cla...         46.0   \n",
       "2                                          Always You         57.0   \n",
       "3                         Always You - Track By Track         15.0   \n",
       "4                                          Angels Fly         44.5   \n",
       "..                                                ...          ...   \n",
       "71                                         We Made It         43.0   \n",
       "72        We Made It - Live From Manila, 16 July 2022         44.0   \n",
       "73                        We Made It - Track By Track         15.0   \n",
       "74                         Written All Over Your Face         47.5   \n",
       "75  Written All Over Your Face - Live From Budapes...         44.0   \n",
       "\n",
       "    Duración_segundos  \n",
       "0               175.0  \n",
       "1               509.0  \n",
       "2               187.0  \n",
       "3                81.0  \n",
       "4               217.0  \n",
       "..                ...  \n",
       "71              201.0  \n",
       "72              209.0  \n",
       "73               53.0  \n",
       "74              160.0  \n",
       "75              168.0  \n",
       "\n",
       "[76 rows x 3 columns]"
      ]
     },
     "execution_count": 188,
     "metadata": {},
     "output_type": "execute_result"
    }
   ],
   "source": [
    "canciones_LT = df_concat[df_concat[\"Etapa\"] == \"Solista\"]\n",
    "\n",
    "popularidad_duracion_canciones_lt = canciones_LT.groupby(\"Canción\").agg({\n",
    "    'Popularidad': 'mean',\n",
    "    'Duración_segundos': 'mean'\n",
    "}).reset_index()\n",
    "\n",
    "popularidad_duracion_canciones_lt"
   ]
  },
  {
   "cell_type": "code",
   "execution_count": 189,
   "metadata": {},
   "outputs": [
    {
     "data": {
      "application/vnd.plotly.v1+json": {
       "config": {
        "plotlyServerURL": "https://plot.ly"
       },
       "data": [
        {
         "alignmentgroup": "True",
         "bingroup": "x",
         "hovertemplate": "Popularidad Promedio=%{x}<br>count=%{y}<extra></extra>",
         "legendgroup": "",
         "marker": {
          "color": "red",
          "pattern": {
           "shape": ""
          }
         },
         "name": "",
         "nbinsx": 10,
         "offsetgroup": "",
         "orientation": "v",
         "showlegend": false,
         "type": "histogram",
         "x": [
          45,
          46,
          57,
          15,
          44.5,
          63,
          32,
          24.833333333333332,
          29,
          44,
          50,
          46,
          45,
          42,
          43,
          54,
          16,
          54,
          34,
          30,
          16,
          43.5,
          41,
          45,
          49,
          44,
          14,
          52,
          15,
          43,
          50,
          46.5,
          46,
          0,
          56,
          21,
          17,
          24,
          19,
          18,
          30,
          19,
          23,
          48,
          44.5,
          16,
          45,
          57,
          27,
          51,
          17,
          31.25,
          44,
          48,
          15,
          43.5,
          43,
          42,
          38.333333333333336,
          44,
          42,
          44.5,
          47,
          50,
          15,
          49,
          39,
          15,
          44,
          43,
          15,
          43,
          44,
          15,
          47.5,
          44
         ],
         "xaxis": "x",
         "yaxis": "y"
        }
       ],
       "layout": {
        "barmode": "relative",
        "height": 600,
        "legend": {
         "tracegroupgap": 0
        },
        "margin": {
         "b": 200,
         "l": 50,
         "r": 50,
         "t": 100
        },
        "template": {
         "data": {
          "bar": [
           {
            "error_x": {
             "color": "#f2f5fa"
            },
            "error_y": {
             "color": "#f2f5fa"
            },
            "marker": {
             "line": {
              "color": "rgb(17,17,17)",
              "width": 0.5
             },
             "pattern": {
              "fillmode": "overlay",
              "size": 10,
              "solidity": 0.2
             }
            },
            "type": "bar"
           }
          ],
          "barpolar": [
           {
            "marker": {
             "line": {
              "color": "rgb(17,17,17)",
              "width": 0.5
             },
             "pattern": {
              "fillmode": "overlay",
              "size": 10,
              "solidity": 0.2
             }
            },
            "type": "barpolar"
           }
          ],
          "carpet": [
           {
            "aaxis": {
             "endlinecolor": "#A2B1C6",
             "gridcolor": "#506784",
             "linecolor": "#506784",
             "minorgridcolor": "#506784",
             "startlinecolor": "#A2B1C6"
            },
            "baxis": {
             "endlinecolor": "#A2B1C6",
             "gridcolor": "#506784",
             "linecolor": "#506784",
             "minorgridcolor": "#506784",
             "startlinecolor": "#A2B1C6"
            },
            "type": "carpet"
           }
          ],
          "choropleth": [
           {
            "colorbar": {
             "outlinewidth": 0,
             "ticks": ""
            },
            "type": "choropleth"
           }
          ],
          "contour": [
           {
            "colorbar": {
             "outlinewidth": 0,
             "ticks": ""
            },
            "colorscale": [
             [
              0,
              "#0d0887"
             ],
             [
              0.1111111111111111,
              "#46039f"
             ],
             [
              0.2222222222222222,
              "#7201a8"
             ],
             [
              0.3333333333333333,
              "#9c179e"
             ],
             [
              0.4444444444444444,
              "#bd3786"
             ],
             [
              0.5555555555555556,
              "#d8576b"
             ],
             [
              0.6666666666666666,
              "#ed7953"
             ],
             [
              0.7777777777777778,
              "#fb9f3a"
             ],
             [
              0.8888888888888888,
              "#fdca26"
             ],
             [
              1,
              "#f0f921"
             ]
            ],
            "type": "contour"
           }
          ],
          "contourcarpet": [
           {
            "colorbar": {
             "outlinewidth": 0,
             "ticks": ""
            },
            "type": "contourcarpet"
           }
          ],
          "heatmap": [
           {
            "colorbar": {
             "outlinewidth": 0,
             "ticks": ""
            },
            "colorscale": [
             [
              0,
              "#0d0887"
             ],
             [
              0.1111111111111111,
              "#46039f"
             ],
             [
              0.2222222222222222,
              "#7201a8"
             ],
             [
              0.3333333333333333,
              "#9c179e"
             ],
             [
              0.4444444444444444,
              "#bd3786"
             ],
             [
              0.5555555555555556,
              "#d8576b"
             ],
             [
              0.6666666666666666,
              "#ed7953"
             ],
             [
              0.7777777777777778,
              "#fb9f3a"
             ],
             [
              0.8888888888888888,
              "#fdca26"
             ],
             [
              1,
              "#f0f921"
             ]
            ],
            "type": "heatmap"
           }
          ],
          "heatmapgl": [
           {
            "colorbar": {
             "outlinewidth": 0,
             "ticks": ""
            },
            "colorscale": [
             [
              0,
              "#0d0887"
             ],
             [
              0.1111111111111111,
              "#46039f"
             ],
             [
              0.2222222222222222,
              "#7201a8"
             ],
             [
              0.3333333333333333,
              "#9c179e"
             ],
             [
              0.4444444444444444,
              "#bd3786"
             ],
             [
              0.5555555555555556,
              "#d8576b"
             ],
             [
              0.6666666666666666,
              "#ed7953"
             ],
             [
              0.7777777777777778,
              "#fb9f3a"
             ],
             [
              0.8888888888888888,
              "#fdca26"
             ],
             [
              1,
              "#f0f921"
             ]
            ],
            "type": "heatmapgl"
           }
          ],
          "histogram": [
           {
            "marker": {
             "pattern": {
              "fillmode": "overlay",
              "size": 10,
              "solidity": 0.2
             }
            },
            "type": "histogram"
           }
          ],
          "histogram2d": [
           {
            "colorbar": {
             "outlinewidth": 0,
             "ticks": ""
            },
            "colorscale": [
             [
              0,
              "#0d0887"
             ],
             [
              0.1111111111111111,
              "#46039f"
             ],
             [
              0.2222222222222222,
              "#7201a8"
             ],
             [
              0.3333333333333333,
              "#9c179e"
             ],
             [
              0.4444444444444444,
              "#bd3786"
             ],
             [
              0.5555555555555556,
              "#d8576b"
             ],
             [
              0.6666666666666666,
              "#ed7953"
             ],
             [
              0.7777777777777778,
              "#fb9f3a"
             ],
             [
              0.8888888888888888,
              "#fdca26"
             ],
             [
              1,
              "#f0f921"
             ]
            ],
            "type": "histogram2d"
           }
          ],
          "histogram2dcontour": [
           {
            "colorbar": {
             "outlinewidth": 0,
             "ticks": ""
            },
            "colorscale": [
             [
              0,
              "#0d0887"
             ],
             [
              0.1111111111111111,
              "#46039f"
             ],
             [
              0.2222222222222222,
              "#7201a8"
             ],
             [
              0.3333333333333333,
              "#9c179e"
             ],
             [
              0.4444444444444444,
              "#bd3786"
             ],
             [
              0.5555555555555556,
              "#d8576b"
             ],
             [
              0.6666666666666666,
              "#ed7953"
             ],
             [
              0.7777777777777778,
              "#fb9f3a"
             ],
             [
              0.8888888888888888,
              "#fdca26"
             ],
             [
              1,
              "#f0f921"
             ]
            ],
            "type": "histogram2dcontour"
           }
          ],
          "mesh3d": [
           {
            "colorbar": {
             "outlinewidth": 0,
             "ticks": ""
            },
            "type": "mesh3d"
           }
          ],
          "parcoords": [
           {
            "line": {
             "colorbar": {
              "outlinewidth": 0,
              "ticks": ""
             }
            },
            "type": "parcoords"
           }
          ],
          "pie": [
           {
            "automargin": true,
            "type": "pie"
           }
          ],
          "scatter": [
           {
            "marker": {
             "line": {
              "color": "#283442"
             }
            },
            "type": "scatter"
           }
          ],
          "scatter3d": [
           {
            "line": {
             "colorbar": {
              "outlinewidth": 0,
              "ticks": ""
             }
            },
            "marker": {
             "colorbar": {
              "outlinewidth": 0,
              "ticks": ""
             }
            },
            "type": "scatter3d"
           }
          ],
          "scattercarpet": [
           {
            "marker": {
             "colorbar": {
              "outlinewidth": 0,
              "ticks": ""
             }
            },
            "type": "scattercarpet"
           }
          ],
          "scattergeo": [
           {
            "marker": {
             "colorbar": {
              "outlinewidth": 0,
              "ticks": ""
             }
            },
            "type": "scattergeo"
           }
          ],
          "scattergl": [
           {
            "marker": {
             "line": {
              "color": "#283442"
             }
            },
            "type": "scattergl"
           }
          ],
          "scattermapbox": [
           {
            "marker": {
             "colorbar": {
              "outlinewidth": 0,
              "ticks": ""
             }
            },
            "type": "scattermapbox"
           }
          ],
          "scatterpolar": [
           {
            "marker": {
             "colorbar": {
              "outlinewidth": 0,
              "ticks": ""
             }
            },
            "type": "scatterpolar"
           }
          ],
          "scatterpolargl": [
           {
            "marker": {
             "colorbar": {
              "outlinewidth": 0,
              "ticks": ""
             }
            },
            "type": "scatterpolargl"
           }
          ],
          "scatterternary": [
           {
            "marker": {
             "colorbar": {
              "outlinewidth": 0,
              "ticks": ""
             }
            },
            "type": "scatterternary"
           }
          ],
          "surface": [
           {
            "colorbar": {
             "outlinewidth": 0,
             "ticks": ""
            },
            "colorscale": [
             [
              0,
              "#0d0887"
             ],
             [
              0.1111111111111111,
              "#46039f"
             ],
             [
              0.2222222222222222,
              "#7201a8"
             ],
             [
              0.3333333333333333,
              "#9c179e"
             ],
             [
              0.4444444444444444,
              "#bd3786"
             ],
             [
              0.5555555555555556,
              "#d8576b"
             ],
             [
              0.6666666666666666,
              "#ed7953"
             ],
             [
              0.7777777777777778,
              "#fb9f3a"
             ],
             [
              0.8888888888888888,
              "#fdca26"
             ],
             [
              1,
              "#f0f921"
             ]
            ],
            "type": "surface"
           }
          ],
          "table": [
           {
            "cells": {
             "fill": {
              "color": "#506784"
             },
             "line": {
              "color": "rgb(17,17,17)"
             }
            },
            "header": {
             "fill": {
              "color": "#2a3f5f"
             },
             "line": {
              "color": "rgb(17,17,17)"
             }
            },
            "type": "table"
           }
          ]
         },
         "layout": {
          "annotationdefaults": {
           "arrowcolor": "#f2f5fa",
           "arrowhead": 0,
           "arrowwidth": 1
          },
          "autotypenumbers": "strict",
          "coloraxis": {
           "colorbar": {
            "outlinewidth": 0,
            "ticks": ""
           }
          },
          "colorscale": {
           "diverging": [
            [
             0,
             "#8e0152"
            ],
            [
             0.1,
             "#c51b7d"
            ],
            [
             0.2,
             "#de77ae"
            ],
            [
             0.3,
             "#f1b6da"
            ],
            [
             0.4,
             "#fde0ef"
            ],
            [
             0.5,
             "#f7f7f7"
            ],
            [
             0.6,
             "#e6f5d0"
            ],
            [
             0.7,
             "#b8e186"
            ],
            [
             0.8,
             "#7fbc41"
            ],
            [
             0.9,
             "#4d9221"
            ],
            [
             1,
             "#276419"
            ]
           ],
           "sequential": [
            [
             0,
             "#0d0887"
            ],
            [
             0.1111111111111111,
             "#46039f"
            ],
            [
             0.2222222222222222,
             "#7201a8"
            ],
            [
             0.3333333333333333,
             "#9c179e"
            ],
            [
             0.4444444444444444,
             "#bd3786"
            ],
            [
             0.5555555555555556,
             "#d8576b"
            ],
            [
             0.6666666666666666,
             "#ed7953"
            ],
            [
             0.7777777777777778,
             "#fb9f3a"
            ],
            [
             0.8888888888888888,
             "#fdca26"
            ],
            [
             1,
             "#f0f921"
            ]
           ],
           "sequentialminus": [
            [
             0,
             "#0d0887"
            ],
            [
             0.1111111111111111,
             "#46039f"
            ],
            [
             0.2222222222222222,
             "#7201a8"
            ],
            [
             0.3333333333333333,
             "#9c179e"
            ],
            [
             0.4444444444444444,
             "#bd3786"
            ],
            [
             0.5555555555555556,
             "#d8576b"
            ],
            [
             0.6666666666666666,
             "#ed7953"
            ],
            [
             0.7777777777777778,
             "#fb9f3a"
            ],
            [
             0.8888888888888888,
             "#fdca26"
            ],
            [
             1,
             "#f0f921"
            ]
           ]
          },
          "colorway": [
           "#636efa",
           "#EF553B",
           "#00cc96",
           "#ab63fa",
           "#FFA15A",
           "#19d3f3",
           "#FF6692",
           "#B6E880",
           "#FF97FF",
           "#FECB52"
          ],
          "font": {
           "color": "#f2f5fa"
          },
          "geo": {
           "bgcolor": "rgb(17,17,17)",
           "lakecolor": "rgb(17,17,17)",
           "landcolor": "rgb(17,17,17)",
           "showlakes": true,
           "showland": true,
           "subunitcolor": "#506784"
          },
          "hoverlabel": {
           "align": "left"
          },
          "hovermode": "closest",
          "mapbox": {
           "style": "dark"
          },
          "paper_bgcolor": "rgb(17,17,17)",
          "plot_bgcolor": "rgb(17,17,17)",
          "polar": {
           "angularaxis": {
            "gridcolor": "#506784",
            "linecolor": "#506784",
            "ticks": ""
           },
           "bgcolor": "rgb(17,17,17)",
           "radialaxis": {
            "gridcolor": "#506784",
            "linecolor": "#506784",
            "ticks": ""
           }
          },
          "scene": {
           "xaxis": {
            "backgroundcolor": "rgb(17,17,17)",
            "gridcolor": "#506784",
            "gridwidth": 2,
            "linecolor": "#506784",
            "showbackground": true,
            "ticks": "",
            "zerolinecolor": "#C8D4E3"
           },
           "yaxis": {
            "backgroundcolor": "rgb(17,17,17)",
            "gridcolor": "#506784",
            "gridwidth": 2,
            "linecolor": "#506784",
            "showbackground": true,
            "ticks": "",
            "zerolinecolor": "#C8D4E3"
           },
           "zaxis": {
            "backgroundcolor": "rgb(17,17,17)",
            "gridcolor": "#506784",
            "gridwidth": 2,
            "linecolor": "#506784",
            "showbackground": true,
            "ticks": "",
            "zerolinecolor": "#C8D4E3"
           }
          },
          "shapedefaults": {
           "line": {
            "color": "#f2f5fa"
           }
          },
          "sliderdefaults": {
           "bgcolor": "#C8D4E3",
           "bordercolor": "rgb(17,17,17)",
           "borderwidth": 1,
           "tickwidth": 0
          },
          "ternary": {
           "aaxis": {
            "gridcolor": "#506784",
            "linecolor": "#506784",
            "ticks": ""
           },
           "baxis": {
            "gridcolor": "#506784",
            "linecolor": "#506784",
            "ticks": ""
           },
           "bgcolor": "rgb(17,17,17)",
           "caxis": {
            "gridcolor": "#506784",
            "linecolor": "#506784",
            "ticks": ""
           }
          },
          "title": {
           "x": 0.05
          },
          "updatemenudefaults": {
           "bgcolor": "#506784",
           "borderwidth": 0
          },
          "xaxis": {
           "automargin": true,
           "gridcolor": "#283442",
           "linecolor": "#506784",
           "ticks": "",
           "title": {
            "standoff": 15
           },
           "zerolinecolor": "#283442",
           "zerolinewidth": 2
          },
          "yaxis": {
           "automargin": true,
           "gridcolor": "#283442",
           "linecolor": "#506784",
           "ticks": "",
           "title": {
            "standoff": 15
           },
           "zerolinecolor": "#283442",
           "zerolinewidth": 2
          }
         }
        },
        "title": {
         "font": {
          "color": "white",
          "size": 25
         },
         "text": "Distribución de la Popularidad de las Canciones como Solista",
         "x": 0.5,
         "xanchor": "center",
         "y": 0.9,
         "yanchor": "top"
        },
        "xaxis": {
         "anchor": "y",
         "domain": [
          0,
          1
         ],
         "tickfont": {
          "size": 12
         },
         "title": {
          "font": {
           "size": 14
          },
          "text": "Canción"
         }
        },
        "yaxis": {
         "anchor": "x",
         "domain": [
          0,
          1
         ],
         "tickfont": {
          "size": 12
         },
         "title": {
          "font": {
           "size": 14
          },
          "text": "Duración en segundos"
         }
        }
       }
      }
     },
     "metadata": {},
     "output_type": "display_data"
    }
   ],
   "source": [
    "fig_popularidad = px.histogram(popularidad_duracion_canciones_lt, x='Popularidad', nbins=10,\n",
    "                               title='Distribución de la Popularidad de las Canciones como Solista',\n",
    "                               labels={'Popularidad': 'Popularidad Promedio'}, color_discrete_sequence=['red'], template=\"plotly_dark\")\n",
    "fig_popularidad.update_layout(title = {'text' : 'Distribución de la Popularidad de las Canciones como Solista','y':0.9, 'x':0.5, 'xanchor' : 'center', 'yanchor' : 'top', 'font':dict(size=25, color='white')}, height = 600, margin=dict(l=50, r=50, t=100, b=200), yaxis=dict(title='Duración en segundos', titlefont_size=14, tickfont_size=12),\n",
    "    xaxis=dict(title='Canción', titlefont_size=14, tickfont_size=12))\n",
    "\n",
    "\n",
    "fig_popularidad.show()"
   ]
  },
  {
   "cell_type": "code",
   "execution_count": 190,
   "metadata": {},
   "outputs": [
    {
     "data": {
      "text/html": [
       "<div>\n",
       "<style scoped>\n",
       "    .dataframe tbody tr th:only-of-type {\n",
       "        vertical-align: middle;\n",
       "    }\n",
       "\n",
       "    .dataframe tbody tr th {\n",
       "        vertical-align: top;\n",
       "    }\n",
       "\n",
       "    .dataframe thead th {\n",
       "        text-align: right;\n",
       "    }\n",
       "</style>\n",
       "<table border=\"1\" class=\"dataframe\">\n",
       "  <thead>\n",
       "    <tr style=\"text-align: right;\">\n",
       "      <th></th>\n",
       "      <th>Canción</th>\n",
       "      <th>Popularidad</th>\n",
       "      <th>Duración_segundos</th>\n",
       "    </tr>\n",
       "  </thead>\n",
       "  <tbody>\n",
       "    <tr>\n",
       "      <th>0</th>\n",
       "      <td>18</td>\n",
       "      <td>76.0</td>\n",
       "      <td>248.0</td>\n",
       "    </tr>\n",
       "    <tr>\n",
       "      <th>1</th>\n",
       "      <td>A.M.</td>\n",
       "      <td>60.0</td>\n",
       "      <td>209.0</td>\n",
       "    </tr>\n",
       "    <tr>\n",
       "      <th>2</th>\n",
       "      <td>Act My Age</td>\n",
       "      <td>56.0</td>\n",
       "      <td>198.0</td>\n",
       "    </tr>\n",
       "    <tr>\n",
       "      <th>3</th>\n",
       "      <td>Alive</td>\n",
       "      <td>53.0</td>\n",
       "      <td>161.0</td>\n",
       "    </tr>\n",
       "    <tr>\n",
       "      <th>4</th>\n",
       "      <td>Another World</td>\n",
       "      <td>50.0</td>\n",
       "      <td>203.0</td>\n",
       "    </tr>\n",
       "  </tbody>\n",
       "</table>\n",
       "</div>"
      ],
      "text/plain": [
       "         Canción  Popularidad  Duración_segundos\n",
       "0             18         76.0              248.0\n",
       "1           A.M.         60.0              209.0\n",
       "2     Act My Age         56.0              198.0\n",
       "3          Alive         53.0              161.0\n",
       "4  Another World         50.0              203.0"
      ]
     },
     "execution_count": 190,
     "metadata": {},
     "output_type": "execute_result"
    }
   ],
   "source": [
    "canciones_OD = df_concat[df_concat[\"Etapa\"] == \"One Direction\"]\n",
    "popularidad_duracion_canciones_od = canciones_OD.groupby(\"Canción\").agg({\n",
    "    'Popularidad': 'mean',\n",
    "    'Duración_segundos': 'mean'\n",
    "}).reset_index()\n",
    "popularidad_duracion_canciones_od.head()"
   ]
  },
  {
   "cell_type": "code",
   "execution_count": 191,
   "metadata": {},
   "outputs": [
    {
     "data": {
      "application/vnd.plotly.v1+json": {
       "config": {
        "plotlyServerURL": "https://plot.ly"
       },
       "data": [
        {
         "alignmentgroup": "True",
         "bingroup": "x",
         "hovertemplate": "Popularidad Promedio=%{x}<br>count=%{y}<extra></extra>",
         "legendgroup": "",
         "marker": {
          "color": "blue",
          "pattern": {
           "shape": ""
          }
         },
         "name": "",
         "nbinsx": 15,
         "offsetgroup": "",
         "orientation": "v",
         "showlegend": false,
         "type": "histogram",
         "x": [
          76,
          60,
          56,
          53,
          50,
          54,
          56.5,
          24,
          29,
          22,
          56,
          58,
          37,
          54,
          55,
          56,
          61,
          55,
          58,
          80,
          30,
          59,
          53,
          63,
          63,
          60,
          60,
          28,
          20,
          22,
          60,
          61,
          56,
          57,
          70,
          56,
          55,
          55,
          30,
          56,
          57,
          59,
          62,
          53,
          62,
          54,
          70,
          33,
          22,
          61,
          56,
          70,
          56,
          71,
          24,
          25,
          54,
          61,
          54,
          59,
          48.5,
          58,
          61,
          30,
          55,
          57,
          87,
          32,
          49,
          67,
          56,
          65,
          54,
          71,
          50,
          62,
          24,
          24,
          60,
          79,
          34,
          42,
          61,
          76,
          60,
          50,
          53,
          52,
          58,
          54,
          54,
          55,
          77,
          26,
          44,
          23,
          35,
          57,
          66,
          54,
          83,
          33,
          71,
          54,
          56,
          54,
          59,
          71,
          59,
          54,
          61,
          29,
          61,
          84,
          32,
          62,
          63,
          55,
          58,
          74,
          26,
          26,
          45,
          38
         ],
         "xaxis": "x",
         "yaxis": "y"
        }
       ],
       "layout": {
        "barmode": "relative",
        "height": 600,
        "legend": {
         "tracegroupgap": 0
        },
        "margin": {
         "b": 200,
         "l": 50,
         "r": 50,
         "t": 100
        },
        "template": {
         "data": {
          "bar": [
           {
            "error_x": {
             "color": "#f2f5fa"
            },
            "error_y": {
             "color": "#f2f5fa"
            },
            "marker": {
             "line": {
              "color": "rgb(17,17,17)",
              "width": 0.5
             },
             "pattern": {
              "fillmode": "overlay",
              "size": 10,
              "solidity": 0.2
             }
            },
            "type": "bar"
           }
          ],
          "barpolar": [
           {
            "marker": {
             "line": {
              "color": "rgb(17,17,17)",
              "width": 0.5
             },
             "pattern": {
              "fillmode": "overlay",
              "size": 10,
              "solidity": 0.2
             }
            },
            "type": "barpolar"
           }
          ],
          "carpet": [
           {
            "aaxis": {
             "endlinecolor": "#A2B1C6",
             "gridcolor": "#506784",
             "linecolor": "#506784",
             "minorgridcolor": "#506784",
             "startlinecolor": "#A2B1C6"
            },
            "baxis": {
             "endlinecolor": "#A2B1C6",
             "gridcolor": "#506784",
             "linecolor": "#506784",
             "minorgridcolor": "#506784",
             "startlinecolor": "#A2B1C6"
            },
            "type": "carpet"
           }
          ],
          "choropleth": [
           {
            "colorbar": {
             "outlinewidth": 0,
             "ticks": ""
            },
            "type": "choropleth"
           }
          ],
          "contour": [
           {
            "colorbar": {
             "outlinewidth": 0,
             "ticks": ""
            },
            "colorscale": [
             [
              0,
              "#0d0887"
             ],
             [
              0.1111111111111111,
              "#46039f"
             ],
             [
              0.2222222222222222,
              "#7201a8"
             ],
             [
              0.3333333333333333,
              "#9c179e"
             ],
             [
              0.4444444444444444,
              "#bd3786"
             ],
             [
              0.5555555555555556,
              "#d8576b"
             ],
             [
              0.6666666666666666,
              "#ed7953"
             ],
             [
              0.7777777777777778,
              "#fb9f3a"
             ],
             [
              0.8888888888888888,
              "#fdca26"
             ],
             [
              1,
              "#f0f921"
             ]
            ],
            "type": "contour"
           }
          ],
          "contourcarpet": [
           {
            "colorbar": {
             "outlinewidth": 0,
             "ticks": ""
            },
            "type": "contourcarpet"
           }
          ],
          "heatmap": [
           {
            "colorbar": {
             "outlinewidth": 0,
             "ticks": ""
            },
            "colorscale": [
             [
              0,
              "#0d0887"
             ],
             [
              0.1111111111111111,
              "#46039f"
             ],
             [
              0.2222222222222222,
              "#7201a8"
             ],
             [
              0.3333333333333333,
              "#9c179e"
             ],
             [
              0.4444444444444444,
              "#bd3786"
             ],
             [
              0.5555555555555556,
              "#d8576b"
             ],
             [
              0.6666666666666666,
              "#ed7953"
             ],
             [
              0.7777777777777778,
              "#fb9f3a"
             ],
             [
              0.8888888888888888,
              "#fdca26"
             ],
             [
              1,
              "#f0f921"
             ]
            ],
            "type": "heatmap"
           }
          ],
          "heatmapgl": [
           {
            "colorbar": {
             "outlinewidth": 0,
             "ticks": ""
            },
            "colorscale": [
             [
              0,
              "#0d0887"
             ],
             [
              0.1111111111111111,
              "#46039f"
             ],
             [
              0.2222222222222222,
              "#7201a8"
             ],
             [
              0.3333333333333333,
              "#9c179e"
             ],
             [
              0.4444444444444444,
              "#bd3786"
             ],
             [
              0.5555555555555556,
              "#d8576b"
             ],
             [
              0.6666666666666666,
              "#ed7953"
             ],
             [
              0.7777777777777778,
              "#fb9f3a"
             ],
             [
              0.8888888888888888,
              "#fdca26"
             ],
             [
              1,
              "#f0f921"
             ]
            ],
            "type": "heatmapgl"
           }
          ],
          "histogram": [
           {
            "marker": {
             "pattern": {
              "fillmode": "overlay",
              "size": 10,
              "solidity": 0.2
             }
            },
            "type": "histogram"
           }
          ],
          "histogram2d": [
           {
            "colorbar": {
             "outlinewidth": 0,
             "ticks": ""
            },
            "colorscale": [
             [
              0,
              "#0d0887"
             ],
             [
              0.1111111111111111,
              "#46039f"
             ],
             [
              0.2222222222222222,
              "#7201a8"
             ],
             [
              0.3333333333333333,
              "#9c179e"
             ],
             [
              0.4444444444444444,
              "#bd3786"
             ],
             [
              0.5555555555555556,
              "#d8576b"
             ],
             [
              0.6666666666666666,
              "#ed7953"
             ],
             [
              0.7777777777777778,
              "#fb9f3a"
             ],
             [
              0.8888888888888888,
              "#fdca26"
             ],
             [
              1,
              "#f0f921"
             ]
            ],
            "type": "histogram2d"
           }
          ],
          "histogram2dcontour": [
           {
            "colorbar": {
             "outlinewidth": 0,
             "ticks": ""
            },
            "colorscale": [
             [
              0,
              "#0d0887"
             ],
             [
              0.1111111111111111,
              "#46039f"
             ],
             [
              0.2222222222222222,
              "#7201a8"
             ],
             [
              0.3333333333333333,
              "#9c179e"
             ],
             [
              0.4444444444444444,
              "#bd3786"
             ],
             [
              0.5555555555555556,
              "#d8576b"
             ],
             [
              0.6666666666666666,
              "#ed7953"
             ],
             [
              0.7777777777777778,
              "#fb9f3a"
             ],
             [
              0.8888888888888888,
              "#fdca26"
             ],
             [
              1,
              "#f0f921"
             ]
            ],
            "type": "histogram2dcontour"
           }
          ],
          "mesh3d": [
           {
            "colorbar": {
             "outlinewidth": 0,
             "ticks": ""
            },
            "type": "mesh3d"
           }
          ],
          "parcoords": [
           {
            "line": {
             "colorbar": {
              "outlinewidth": 0,
              "ticks": ""
             }
            },
            "type": "parcoords"
           }
          ],
          "pie": [
           {
            "automargin": true,
            "type": "pie"
           }
          ],
          "scatter": [
           {
            "marker": {
             "line": {
              "color": "#283442"
             }
            },
            "type": "scatter"
           }
          ],
          "scatter3d": [
           {
            "line": {
             "colorbar": {
              "outlinewidth": 0,
              "ticks": ""
             }
            },
            "marker": {
             "colorbar": {
              "outlinewidth": 0,
              "ticks": ""
             }
            },
            "type": "scatter3d"
           }
          ],
          "scattercarpet": [
           {
            "marker": {
             "colorbar": {
              "outlinewidth": 0,
              "ticks": ""
             }
            },
            "type": "scattercarpet"
           }
          ],
          "scattergeo": [
           {
            "marker": {
             "colorbar": {
              "outlinewidth": 0,
              "ticks": ""
             }
            },
            "type": "scattergeo"
           }
          ],
          "scattergl": [
           {
            "marker": {
             "line": {
              "color": "#283442"
             }
            },
            "type": "scattergl"
           }
          ],
          "scattermapbox": [
           {
            "marker": {
             "colorbar": {
              "outlinewidth": 0,
              "ticks": ""
             }
            },
            "type": "scattermapbox"
           }
          ],
          "scatterpolar": [
           {
            "marker": {
             "colorbar": {
              "outlinewidth": 0,
              "ticks": ""
             }
            },
            "type": "scatterpolar"
           }
          ],
          "scatterpolargl": [
           {
            "marker": {
             "colorbar": {
              "outlinewidth": 0,
              "ticks": ""
             }
            },
            "type": "scatterpolargl"
           }
          ],
          "scatterternary": [
           {
            "marker": {
             "colorbar": {
              "outlinewidth": 0,
              "ticks": ""
             }
            },
            "type": "scatterternary"
           }
          ],
          "surface": [
           {
            "colorbar": {
             "outlinewidth": 0,
             "ticks": ""
            },
            "colorscale": [
             [
              0,
              "#0d0887"
             ],
             [
              0.1111111111111111,
              "#46039f"
             ],
             [
              0.2222222222222222,
              "#7201a8"
             ],
             [
              0.3333333333333333,
              "#9c179e"
             ],
             [
              0.4444444444444444,
              "#bd3786"
             ],
             [
              0.5555555555555556,
              "#d8576b"
             ],
             [
              0.6666666666666666,
              "#ed7953"
             ],
             [
              0.7777777777777778,
              "#fb9f3a"
             ],
             [
              0.8888888888888888,
              "#fdca26"
             ],
             [
              1,
              "#f0f921"
             ]
            ],
            "type": "surface"
           }
          ],
          "table": [
           {
            "cells": {
             "fill": {
              "color": "#506784"
             },
             "line": {
              "color": "rgb(17,17,17)"
             }
            },
            "header": {
             "fill": {
              "color": "#2a3f5f"
             },
             "line": {
              "color": "rgb(17,17,17)"
             }
            },
            "type": "table"
           }
          ]
         },
         "layout": {
          "annotationdefaults": {
           "arrowcolor": "#f2f5fa",
           "arrowhead": 0,
           "arrowwidth": 1
          },
          "autotypenumbers": "strict",
          "coloraxis": {
           "colorbar": {
            "outlinewidth": 0,
            "ticks": ""
           }
          },
          "colorscale": {
           "diverging": [
            [
             0,
             "#8e0152"
            ],
            [
             0.1,
             "#c51b7d"
            ],
            [
             0.2,
             "#de77ae"
            ],
            [
             0.3,
             "#f1b6da"
            ],
            [
             0.4,
             "#fde0ef"
            ],
            [
             0.5,
             "#f7f7f7"
            ],
            [
             0.6,
             "#e6f5d0"
            ],
            [
             0.7,
             "#b8e186"
            ],
            [
             0.8,
             "#7fbc41"
            ],
            [
             0.9,
             "#4d9221"
            ],
            [
             1,
             "#276419"
            ]
           ],
           "sequential": [
            [
             0,
             "#0d0887"
            ],
            [
             0.1111111111111111,
             "#46039f"
            ],
            [
             0.2222222222222222,
             "#7201a8"
            ],
            [
             0.3333333333333333,
             "#9c179e"
            ],
            [
             0.4444444444444444,
             "#bd3786"
            ],
            [
             0.5555555555555556,
             "#d8576b"
            ],
            [
             0.6666666666666666,
             "#ed7953"
            ],
            [
             0.7777777777777778,
             "#fb9f3a"
            ],
            [
             0.8888888888888888,
             "#fdca26"
            ],
            [
             1,
             "#f0f921"
            ]
           ],
           "sequentialminus": [
            [
             0,
             "#0d0887"
            ],
            [
             0.1111111111111111,
             "#46039f"
            ],
            [
             0.2222222222222222,
             "#7201a8"
            ],
            [
             0.3333333333333333,
             "#9c179e"
            ],
            [
             0.4444444444444444,
             "#bd3786"
            ],
            [
             0.5555555555555556,
             "#d8576b"
            ],
            [
             0.6666666666666666,
             "#ed7953"
            ],
            [
             0.7777777777777778,
             "#fb9f3a"
            ],
            [
             0.8888888888888888,
             "#fdca26"
            ],
            [
             1,
             "#f0f921"
            ]
           ]
          },
          "colorway": [
           "#636efa",
           "#EF553B",
           "#00cc96",
           "#ab63fa",
           "#FFA15A",
           "#19d3f3",
           "#FF6692",
           "#B6E880",
           "#FF97FF",
           "#FECB52"
          ],
          "font": {
           "color": "#f2f5fa"
          },
          "geo": {
           "bgcolor": "rgb(17,17,17)",
           "lakecolor": "rgb(17,17,17)",
           "landcolor": "rgb(17,17,17)",
           "showlakes": true,
           "showland": true,
           "subunitcolor": "#506784"
          },
          "hoverlabel": {
           "align": "left"
          },
          "hovermode": "closest",
          "mapbox": {
           "style": "dark"
          },
          "paper_bgcolor": "rgb(17,17,17)",
          "plot_bgcolor": "rgb(17,17,17)",
          "polar": {
           "angularaxis": {
            "gridcolor": "#506784",
            "linecolor": "#506784",
            "ticks": ""
           },
           "bgcolor": "rgb(17,17,17)",
           "radialaxis": {
            "gridcolor": "#506784",
            "linecolor": "#506784",
            "ticks": ""
           }
          },
          "scene": {
           "xaxis": {
            "backgroundcolor": "rgb(17,17,17)",
            "gridcolor": "#506784",
            "gridwidth": 2,
            "linecolor": "#506784",
            "showbackground": true,
            "ticks": "",
            "zerolinecolor": "#C8D4E3"
           },
           "yaxis": {
            "backgroundcolor": "rgb(17,17,17)",
            "gridcolor": "#506784",
            "gridwidth": 2,
            "linecolor": "#506784",
            "showbackground": true,
            "ticks": "",
            "zerolinecolor": "#C8D4E3"
           },
           "zaxis": {
            "backgroundcolor": "rgb(17,17,17)",
            "gridcolor": "#506784",
            "gridwidth": 2,
            "linecolor": "#506784",
            "showbackground": true,
            "ticks": "",
            "zerolinecolor": "#C8D4E3"
           }
          },
          "shapedefaults": {
           "line": {
            "color": "#f2f5fa"
           }
          },
          "sliderdefaults": {
           "bgcolor": "#C8D4E3",
           "bordercolor": "rgb(17,17,17)",
           "borderwidth": 1,
           "tickwidth": 0
          },
          "ternary": {
           "aaxis": {
            "gridcolor": "#506784",
            "linecolor": "#506784",
            "ticks": ""
           },
           "baxis": {
            "gridcolor": "#506784",
            "linecolor": "#506784",
            "ticks": ""
           },
           "bgcolor": "rgb(17,17,17)",
           "caxis": {
            "gridcolor": "#506784",
            "linecolor": "#506784",
            "ticks": ""
           }
          },
          "title": {
           "x": 0.05
          },
          "updatemenudefaults": {
           "bgcolor": "#506784",
           "borderwidth": 0
          },
          "xaxis": {
           "automargin": true,
           "gridcolor": "#283442",
           "linecolor": "#506784",
           "ticks": "",
           "title": {
            "standoff": 15
           },
           "zerolinecolor": "#283442",
           "zerolinewidth": 2
          },
          "yaxis": {
           "automargin": true,
           "gridcolor": "#283442",
           "linecolor": "#506784",
           "ticks": "",
           "title": {
            "standoff": 15
           },
           "zerolinecolor": "#283442",
           "zerolinewidth": 2
          }
         }
        },
        "title": {
         "font": {
          "color": "white",
          "size": 25
         },
         "text": "Distribución de la Popularidad de las Canciones como One Direction",
         "x": 0.5,
         "xanchor": "center",
         "y": 0.9,
         "yanchor": "top"
        },
        "xaxis": {
         "anchor": "y",
         "domain": [
          0,
          1
         ],
         "tickfont": {
          "size": 12
         },
         "title": {
          "font": {
           "size": 14
          },
          "text": "Canción"
         }
        },
        "yaxis": {
         "anchor": "x",
         "domain": [
          0,
          1
         ],
         "tickfont": {
          "size": 12
         },
         "title": {
          "font": {
           "size": 14
          },
          "text": "Duración en segundos"
         }
        }
       }
      }
     },
     "metadata": {},
     "output_type": "display_data"
    }
   ],
   "source": [
    "fig_popularidad_od = px.histogram(popularidad_duracion_canciones_od, x='Popularidad', nbins=15,\n",
    "                               title='Distribución de la Popularidad de las Canciones como One Direction',\n",
    "                               labels={'Popularidad': 'Popularidad Promedio'}, color_discrete_sequence=['blue'], template=\"plotly_dark\")\n",
    "fig_popularidad_od.update_layout(title = {'text' : 'Distribución de la Popularidad de las Canciones como One Direction','y':0.9, 'x':0.5, 'xanchor' : 'center', 'yanchor' : 'top', 'font':dict(size=25, color='white')}, height = 600, margin=dict(l=50, r=50, t=100, b=200), yaxis=dict(title='Duración en segundos', titlefont_size=14, tickfont_size=12),\n",
    "    xaxis=dict(title='Canción', titlefont_size=14, tickfont_size=12))\n",
    "\n",
    "fig_popularidad_od"
   ]
  },
  {
   "cell_type": "markdown",
   "metadata": {},
   "source": [
    "# Analisis de tendencia\n",
    "\n",
    "- Tendencias Temporales: Analizar las tendencias temporales en la popularidad y la duración de las canciones a lo largo del tiempo.\n",
    "\n",
    "- Evolución por Álbum: Examinar cómo ha evolucionado la popularidad de las canciones en cada álbum."
   ]
  },
  {
   "cell_type": "code",
   "execution_count": 192,
   "metadata": {},
   "outputs": [
    {
     "data": {
      "text/html": [
       "<div>\n",
       "<style scoped>\n",
       "    .dataframe tbody tr th:only-of-type {\n",
       "        vertical-align: middle;\n",
       "    }\n",
       "\n",
       "    .dataframe tbody tr th {\n",
       "        vertical-align: top;\n",
       "    }\n",
       "\n",
       "    .dataframe thead th {\n",
       "        text-align: right;\n",
       "    }\n",
       "</style>\n",
       "<table border=\"1\" class=\"dataframe\">\n",
       "  <thead>\n",
       "    <tr style=\"text-align: right;\">\n",
       "      <th></th>\n",
       "      <th>Año</th>\n",
       "      <th>Popularidad</th>\n",
       "      <th>Duración_segundos</th>\n",
       "    </tr>\n",
       "  </thead>\n",
       "  <tbody>\n",
       "    <tr>\n",
       "      <th>0</th>\n",
       "      <td>2010</td>\n",
       "      <td>32.000000</td>\n",
       "      <td>233.750000</td>\n",
       "    </tr>\n",
       "    <tr>\n",
       "      <th>1</th>\n",
       "      <td>2012</td>\n",
       "      <td>58.789474</td>\n",
       "      <td>201.657895</td>\n",
       "    </tr>\n",
       "    <tr>\n",
       "      <th>2</th>\n",
       "      <td>2013</td>\n",
       "      <td>54.320000</td>\n",
       "      <td>196.240000</td>\n",
       "    </tr>\n",
       "    <tr>\n",
       "      <th>3</th>\n",
       "      <td>2014</td>\n",
       "      <td>58.200000</td>\n",
       "      <td>216.150000</td>\n",
       "    </tr>\n",
       "    <tr>\n",
       "      <th>4</th>\n",
       "      <td>2015</td>\n",
       "      <td>62.470588</td>\n",
       "      <td>206.235294</td>\n",
       "    </tr>\n",
       "  </tbody>\n",
       "</table>\n",
       "</div>"
      ],
      "text/plain": [
       "    Año  Popularidad  Duración_segundos\n",
       "0  2010    32.000000         233.750000\n",
       "1  2012    58.789474         201.657895\n",
       "2  2013    54.320000         196.240000\n",
       "3  2014    58.200000         216.150000\n",
       "4  2015    62.470588         206.235294"
      ]
     },
     "execution_count": 192,
     "metadata": {},
     "output_type": "execute_result"
    }
   ],
   "source": [
    "tendencias_time = df_concat.groupby(\"Año\").agg({\n",
    "    'Popularidad': 'mean',\n",
    "    'Duración_segundos': 'mean'\n",
    "}).reset_index()\n",
    "\n",
    "tendencias_time.head()"
   ]
  },
  {
   "cell_type": "code",
   "execution_count": 193,
   "metadata": {},
   "outputs": [
    {
     "data": {
      "image/png": "[encoded data removed]",
      "text/plain": [
       "<Figure size 1200x600 with 2 Axes>"
      ]
     },
     "metadata": {},
     "output_type": "display_data"
    }
   ],
   "source": [
    "fig, ax1 = plt.subplots(figsize=(12, 6))\n",
    "\n",
    "# Gráfico de línea para la popularidad\n",
    "ax1.set_xlabel('Año')\n",
    "ax1.set_ylabel('Popularidad Promedio', color='blue')\n",
    "ax1.plot(tendencias_time['Año'], tendencias_time['Popularidad'], color='blue', label='Popularidad Promedio')\n",
    "ax1.tick_params(axis='y', labelcolor='blue')\n",
    "\n",
    "# Crear un segundo eje y para la duración\n",
    "ax2 = ax1.twinx()\n",
    "ax2.set_ylabel('Duración Promedio (segundos)', color='green')\n",
    "ax2.plot(tendencias_time['Año'], tendencias_time['Duración_segundos'], color='green', label='Duración Promedio (segundos)')\n",
    "ax2.tick_params(axis='y', labelcolor='green')\n",
    "\n",
    "# Añadir títulos y leyendas\n",
    "fig.suptitle('Tendencias Temporales en la Popularidad y Duración de las Canciones')\n",
    "fig.tight_layout()\n",
    "fig.legend(loc='upper left', bbox_to_anchor=(0.1, 0.9))\n",
    "\n",
    "plt.show()"
   ]
  },
  {
   "cell_type": "code",
   "execution_count": 194,
   "metadata": {},
   "outputs": [
    {
     "data": {
      "text/html": [
       "<div>\n",
       "<style scoped>\n",
       "    .dataframe tbody tr th:only-of-type {\n",
       "        vertical-align: middle;\n",
       "    }\n",
       "\n",
       "    .dataframe tbody tr th {\n",
       "        vertical-align: top;\n",
       "    }\n",
       "\n",
       "    .dataframe thead th {\n",
       "        text-align: right;\n",
       "    }\n",
       "</style>\n",
       "<table border=\"1\" class=\"dataframe\">\n",
       "  <thead>\n",
       "    <tr style=\"text-align: right;\">\n",
       "      <th></th>\n",
       "      <th>Año</th>\n",
       "      <th>Popularidad</th>\n",
       "      <th>Duración_segundos</th>\n",
       "    </tr>\n",
       "  </thead>\n",
       "  <tbody>\n",
       "    <tr>\n",
       "      <th>0</th>\n",
       "      <td>2016</td>\n",
       "      <td>56.000000</td>\n",
       "      <td>198.000000</td>\n",
       "    </tr>\n",
       "    <tr>\n",
       "      <th>1</th>\n",
       "      <td>2017</td>\n",
       "      <td>30.615385</td>\n",
       "      <td>211.615385</td>\n",
       "    </tr>\n",
       "    <tr>\n",
       "      <th>2</th>\n",
       "      <td>2019</td>\n",
       "      <td>36.333333</td>\n",
       "      <td>210.666667</td>\n",
       "    </tr>\n",
       "    <tr>\n",
       "      <th>3</th>\n",
       "      <td>2020</td>\n",
       "      <td>32.500000</td>\n",
       "      <td>131.653846</td>\n",
       "    </tr>\n",
       "    <tr>\n",
       "      <th>4</th>\n",
       "      <td>2022</td>\n",
       "      <td>41.541667</td>\n",
       "      <td>195.125000</td>\n",
       "    </tr>\n",
       "    <tr>\n",
       "      <th>5</th>\n",
       "      <td>2023</td>\n",
       "      <td>37.473684</td>\n",
       "      <td>195.789474</td>\n",
       "    </tr>\n",
       "    <tr>\n",
       "      <th>6</th>\n",
       "      <td>2024</td>\n",
       "      <td>44.428571</td>\n",
       "      <td>253.785714</td>\n",
       "    </tr>\n",
       "  </tbody>\n",
       "</table>\n",
       "</div>"
      ],
      "text/plain": [
       "    Año  Popularidad  Duración_segundos\n",
       "0  2016    56.000000         198.000000\n",
       "1  2017    30.615385         211.615385\n",
       "2  2019    36.333333         210.666667\n",
       "3  2020    32.500000         131.653846\n",
       "4  2022    41.541667         195.125000\n",
       "5  2023    37.473684         195.789474\n",
       "6  2024    44.428571         253.785714"
      ]
     },
     "execution_count": 194,
     "metadata": {},
     "output_type": "execute_result"
    }
   ],
   "source": [
    "canciones_LT = df_concat[df_concat[\"Etapa\"] == \"Solista\"]\n",
    "tendencias_lt = canciones_LT.groupby(\"Año\").agg({\n",
    "    'Popularidad': 'mean',\n",
    "    'Duración_segundos': 'mean'\n",
    "}).reset_index()\n",
    "\n",
    "tendencias_lt"
   ]
  },
  {
   "cell_type": "code",
   "execution_count": 195,
   "metadata": {},
   "outputs": [
    {
     "data": {
      "image/png": "[encoded data removed]",
      "text/plain": [
       "<Figure size 1200x600 with 2 Axes>"
      ]
     },
     "metadata": {},
     "output_type": "display_data"
    }
   ],
   "source": [
    "fig, ax1 = plt.subplots(figsize=(12, 6))\n",
    "\n",
    "# Gráfico de línea para la popularidad\n",
    "ax1.set_xlabel('Año')\n",
    "ax1.set_ylabel('Popularidad Promedio', color='blue')\n",
    "ax1.plot(tendencias_lt['Año'], tendencias_lt['Popularidad'], color='blue', label='Popularidad Promedio')\n",
    "ax1.tick_params(axis='y', labelcolor='blue')\n",
    "\n",
    "# Crear un segundo eje y para la duración\n",
    "ax2 = ax1.twinx()\n",
    "ax2.set_ylabel('Duración Promedio (segundos)', color='green')\n",
    "ax2.plot(tendencias_lt['Año'], tendencias_lt['Duración_segundos'], color='green', label='Duración Promedio (segundos)')\n",
    "ax2.tick_params(axis='y', labelcolor='green')\n",
    "\n",
    "# Añadir títulos y leyendas\n",
    "fig.suptitle('Tendencias Temporales en la Popularidad y Duración de las Canciones')\n",
    "fig.tight_layout()\n",
    "fig.legend(loc='upper left', bbox_to_anchor=(0.1, 0.9))\n",
    "\n",
    "plt.show()"
   ]
  },
  {
   "cell_type": "code",
   "execution_count": 196,
   "metadata": {},
   "outputs": [
    {
     "data": {
      "text/html": [
       "<div>\n",
       "<style scoped>\n",
       "    .dataframe tbody tr th:only-of-type {\n",
       "        vertical-align: middle;\n",
       "    }\n",
       "\n",
       "    .dataframe tbody tr th {\n",
       "        vertical-align: top;\n",
       "    }\n",
       "\n",
       "    .dataframe thead th {\n",
       "        text-align: right;\n",
       "    }\n",
       "</style>\n",
       "<table border=\"1\" class=\"dataframe\">\n",
       "  <thead>\n",
       "    <tr style=\"text-align: right;\">\n",
       "      <th></th>\n",
       "      <th>Año</th>\n",
       "      <th>Popularidad</th>\n",
       "      <th>Duración_segundos</th>\n",
       "    </tr>\n",
       "  </thead>\n",
       "  <tbody>\n",
       "    <tr>\n",
       "      <th>0</th>\n",
       "      <td>2010</td>\n",
       "      <td>32.000000</td>\n",
       "      <td>233.750000</td>\n",
       "    </tr>\n",
       "    <tr>\n",
       "      <th>1</th>\n",
       "      <td>2012</td>\n",
       "      <td>58.789474</td>\n",
       "      <td>201.657895</td>\n",
       "    </tr>\n",
       "    <tr>\n",
       "      <th>2</th>\n",
       "      <td>2013</td>\n",
       "      <td>54.320000</td>\n",
       "      <td>196.240000</td>\n",
       "    </tr>\n",
       "    <tr>\n",
       "      <th>3</th>\n",
       "      <td>2014</td>\n",
       "      <td>58.200000</td>\n",
       "      <td>216.150000</td>\n",
       "    </tr>\n",
       "    <tr>\n",
       "      <th>4</th>\n",
       "      <td>2015</td>\n",
       "      <td>62.470588</td>\n",
       "      <td>206.235294</td>\n",
       "    </tr>\n",
       "  </tbody>\n",
       "</table>\n",
       "</div>"
      ],
      "text/plain": [
       "    Año  Popularidad  Duración_segundos\n",
       "0  2010    32.000000         233.750000\n",
       "1  2012    58.789474         201.657895\n",
       "2  2013    54.320000         196.240000\n",
       "3  2014    58.200000         216.150000\n",
       "4  2015    62.470588         206.235294"
      ]
     },
     "execution_count": 196,
     "metadata": {},
     "output_type": "execute_result"
    }
   ],
   "source": [
    "canciones_OD = df_concat[df_concat[\"Etapa\"] == \"One Direction\"]\n",
    "tendencias_OD = canciones_OD.groupby(\"Año\").agg({\n",
    "    'Popularidad': 'mean',\n",
    "    'Duración_segundos': 'mean'\n",
    "}).reset_index()\n",
    "\n",
    "tendencias_OD"
   ]
  },
  {
   "cell_type": "code",
   "execution_count": 197,
   "metadata": {},
   "outputs": [
    {
     "data": {
      "image/png": "[encoded data removed]",
      "text/plain": [
       "<Figure size 1200x600 with 2 Axes>"
      ]
     },
     "metadata": {},
     "output_type": "display_data"
    }
   ],
   "source": [
    "fig, ax1 = plt.subplots(figsize=(12, 6))\n",
    "\n",
    "# Gráfico de línea para la popularidad\n",
    "ax1.set_xlabel('Año')\n",
    "ax1.set_ylabel('Popularidad Promedio', color='blue')\n",
    "ax1.plot(tendencias_OD['Año'], tendencias_OD['Popularidad'], color='blue', label='Popularidad Promedio')\n",
    "ax1.tick_params(axis='y', labelcolor='blue')\n",
    "\n",
    "# Crear un segundo eje y para la duración\n",
    "ax2 = ax1.twinx()\n",
    "ax2.set_ylabel('Duración Promedio (segundos)', color='green')\n",
    "ax2.plot(tendencias_OD['Año'], tendencias_OD['Duración_segundos'], color='green', label='Duración Promedio (segundos)')\n",
    "ax2.tick_params(axis='y', labelcolor='green')\n",
    "\n",
    "# Añadir títulos y leyendas\n",
    "fig.suptitle('Tendencias Temporales en la Popularidad y Duración de las Canciones')\n",
    "fig.tight_layout()\n",
    "fig.legend(loc='upper left', bbox_to_anchor=(0.1, 0.9))\n",
    "\n",
    "plt.show()"
   ]
  },
  {
   "cell_type": "code",
   "execution_count": 198,
   "metadata": {},
   "outputs": [
    {
     "data": {
      "text/html": [
       "<div>\n",
       "<style scoped>\n",
       "    .dataframe tbody tr th:only-of-type {\n",
       "        vertical-align: middle;\n",
       "    }\n",
       "\n",
       "    .dataframe tbody tr th {\n",
       "        vertical-align: top;\n",
       "    }\n",
       "\n",
       "    .dataframe thead th {\n",
       "        text-align: right;\n",
       "    }\n",
       "</style>\n",
       "<table border=\"1\" class=\"dataframe\">\n",
       "  <thead>\n",
       "    <tr style=\"text-align: right;\">\n",
       "      <th></th>\n",
       "      <th>Álbum</th>\n",
       "      <th>Popularidad</th>\n",
       "      <th>Año</th>\n",
       "      <th>Etapa</th>\n",
       "    </tr>\n",
       "  </thead>\n",
       "  <tbody>\n",
       "    <tr>\n",
       "      <th>0</th>\n",
       "      <td>Acoustic - EP</td>\n",
       "      <td>44.0</td>\n",
       "      <td>2010</td>\n",
       "      <td>One Direction</td>\n",
       "    </tr>\n",
       "    <tr>\n",
       "      <th>1</th>\n",
       "      <td>Back to You (feat. Bebe Rexha &amp; Digital Farm A...</td>\n",
       "      <td>47.5</td>\n",
       "      <td>2017</td>\n",
       "      <td>Solista</td>\n",
       "    </tr>\n",
       "    <tr>\n",
       "      <th>2</th>\n",
       "      <td>Best Song Ever (From THIS IS US)</td>\n",
       "      <td>30.5</td>\n",
       "      <td>2013</td>\n",
       "      <td>One Direction</td>\n",
       "    </tr>\n",
       "    <tr>\n",
       "      <th>3</th>\n",
       "      <td>Bigger Than Me</td>\n",
       "      <td>21.0</td>\n",
       "      <td>2022</td>\n",
       "      <td>Solista</td>\n",
       "    </tr>\n",
       "    <tr>\n",
       "      <th>4</th>\n",
       "      <td>Bigger Than Me (Live from Milan)</td>\n",
       "      <td>20.0</td>\n",
       "      <td>2022</td>\n",
       "      <td>Solista</td>\n",
       "    </tr>\n",
       "  </tbody>\n",
       "</table>\n",
       "</div>"
      ],
      "text/plain": [
       "                                               Álbum  Popularidad   Año  \\\n",
       "0                                      Acoustic - EP         44.0  2010   \n",
       "1  Back to You (feat. Bebe Rexha & Digital Farm A...         47.5  2017   \n",
       "2                   Best Song Ever (From THIS IS US)         30.5  2013   \n",
       "3                                     Bigger Than Me         21.0  2022   \n",
       "4                   Bigger Than Me (Live from Milan)         20.0  2022   \n",
       "\n",
       "           Etapa  \n",
       "0  One Direction  \n",
       "1        Solista  \n",
       "2  One Direction  \n",
       "3        Solista  \n",
       "4        Solista  "
      ]
     },
     "execution_count": 198,
     "metadata": {},
     "output_type": "execute_result"
    }
   ],
   "source": [
    "popularidad_album = df_concat.groupby(\"Álbum\").agg({\n",
    "    \"Popularidad\" : \"mean\",\n",
    "    \"Año\" : \"first\",\n",
    "    \"Etapa\" : \"first\"\n",
    "}).reset_index()\n",
    "popularidad_album.head()"
   ]
  },
  {
   "cell_type": "code",
   "execution_count": 199,
   "metadata": {},
   "outputs": [
    {
     "data": {
      "application/vnd.plotly.v1+json": {
       "config": {
        "plotlyServerURL": "https://plot.ly"
       },
       "data": [
        {
         "customdata": [
          [
           "One Direction"
          ],
          [
           "Solista"
          ],
          [
           "One Direction"
          ],
          [
           "Solista"
          ],
          [
           "Solista"
          ],
          [
           "Solista"
          ],
          [
           "One Direction"
          ],
          [
           "Solista"
          ],
          [
           "Solista"
          ],
          [
           "Solista"
          ],
          [
           "Solista"
          ],
          [
           "Solista"
          ],
          [
           "Solista"
          ],
          [
           "Solista"
          ],
          [
           "One Direction"
          ],
          [
           "One Direction"
          ],
          [
           "One Direction"
          ],
          [
           "One Direction"
          ],
          [
           "Solista"
          ],
          [
           "Solista"
          ],
          [
           "One Direction"
          ],
          [
           "Solista"
          ],
          [
           "One Direction"
          ],
          [
           "One Direction"
          ],
          [
           "Solista"
          ],
          [
           "One Direction"
          ],
          [
           "Solista"
          ],
          [
           "Solista"
          ],
          [
           "One Direction"
          ],
          [
           "Solista"
          ],
          [
           "Solista"
          ],
          [
           "Solista"
          ]
         ],
         "hovertemplate": "Álbum=%{x}<br>Popularidad Promedio=%{y}<br>Etapa=%{customdata[0]}<extra></extra>",
         "legendgroup": "",
         "line": {
          "color": "#636efa",
          "dash": "solid"
         },
         "marker": {
          "size": 10,
          "symbol": "circle"
         },
         "mode": "lines+markers",
         "name": "",
         "orientation": "v",
         "showlegend": false,
         "type": "scatter",
         "x": [
          "Acoustic - EP",
          "Back to You (feat. Bebe Rexha & Digital Farm Animals)",
          "Best Song Ever (From THIS IS US)",
          "Bigger Than Me",
          "Bigger Than Me (Live from Milan)",
          "Don't Let It Break Your Heart",
          "FOUR (Deluxe)",
          "Faith In The Future (Bonus Edition)",
          "Faith In The Future (Deluxe)",
          "Just Hold On",
          "Just Hold On (Remixes)",
          "Just Like You",
          "Kill My Mind",
          "LIVE",
          "Live - EP",
          "Made In The A.M. (Deluxe Edition)",
          "Midnight Memories",
          "Midnight Memories (Deluxe)",
          "Miss You",
          "Miss You (Luca Schreiner Remix)",
          "One Way Or Another (Teenage Kicks)",
          "Out Of My System",
          "Rarities - EP",
          "Remixes - EP",
          "Silver Tongues",
          "Take Me Home (Expanded Edition)",
          "Two of Us",
          "Two of Us (Acoustic)",
          "Up All Night",
          "Walls",
          "Walls: Track By Track",
          "We Made It"
         ],
         "xaxis": "x",
         "y": [
          44,
          47.5,
          30.5,
          21,
          20,
          32,
          63.1875,
          37.473684210526315,
          53.375,
          56,
          21.375,
          48,
          36,
          44.42857142857143,
          29.8,
          62.470588235294116,
          38.25,
          62.55555555555556,
          57,
          27,
          36.666666666666664,
          16,
          41.25,
          25.857142857142858,
          16.666666666666668,
          59.5,
          44,
          39,
          58,
          50.84615384615385,
          14.153846153846153,
          35
         ],
         "yaxis": "y"
        }
       ],
       "layout": {
        "height": 600,
        "hovermode": "x unified",
        "legend": {
         "tracegroupgap": 0
        },
        "margin": {
         "b": 200,
         "l": 50,
         "r": 50,
         "t": 100
        },
        "template": {
         "data": {
          "bar": [
           {
            "error_x": {
             "color": "#f2f5fa"
            },
            "error_y": {
             "color": "#f2f5fa"
            },
            "marker": {
             "line": {
              "color": "rgb(17,17,17)",
              "width": 0.5
             },
             "pattern": {
              "fillmode": "overlay",
              "size": 10,
              "solidity": 0.2
             }
            },
            "type": "bar"
           }
          ],
          "barpolar": [
           {
            "marker": {
             "line": {
              "color": "rgb(17,17,17)",
              "width": 0.5
             },
             "pattern": {
              "fillmode": "overlay",
              "size": 10,
              "solidity": 0.2
             }
            },
            "type": "barpolar"
           }
          ],
          "carpet": [
           {
            "aaxis": {
             "endlinecolor": "#A2B1C6",
             "gridcolor": "#506784",
             "linecolor": "#506784",
             "minorgridcolor": "#506784",
             "startlinecolor": "#A2B1C6"
            },
            "baxis": {
             "endlinecolor": "#A2B1C6",
             "gridcolor": "#506784",
             "linecolor": "#506784",
             "minorgridcolor": "#506784",
             "startlinecolor": "#A2B1C6"
            },
            "type": "carpet"
           }
          ],
          "choropleth": [
           {
            "colorbar": {
             "outlinewidth": 0,
             "ticks": ""
            },
            "type": "choropleth"
           }
          ],
          "contour": [
           {
            "colorbar": {
             "outlinewidth": 0,
             "ticks": ""
            },
            "colorscale": [
             [
              0,
              "#0d0887"
             ],
             [
              0.1111111111111111,
              "#46039f"
             ],
             [
              0.2222222222222222,
              "#7201a8"
             ],
             [
              0.3333333333333333,
              "#9c179e"
             ],
             [
              0.4444444444444444,
              "#bd3786"
             ],
             [
              0.5555555555555556,
              "#d8576b"
             ],
             [
              0.6666666666666666,
              "#ed7953"
             ],
             [
              0.7777777777777778,
              "#fb9f3a"
             ],
             [
              0.8888888888888888,
              "#fdca26"
             ],
             [
              1,
              "#f0f921"
             ]
            ],
            "type": "contour"
           }
          ],
          "contourcarpet": [
           {
            "colorbar": {
             "outlinewidth": 0,
             "ticks": ""
            },
            "type": "contourcarpet"
           }
          ],
          "heatmap": [
           {
            "colorbar": {
             "outlinewidth": 0,
             "ticks": ""
            },
            "colorscale": [
             [
              0,
              "#0d0887"
             ],
             [
              0.1111111111111111,
              "#46039f"
             ],
             [
              0.2222222222222222,
              "#7201a8"
             ],
             [
              0.3333333333333333,
              "#9c179e"
             ],
             [
              0.4444444444444444,
              "#bd3786"
             ],
             [
              0.5555555555555556,
              "#d8576b"
             ],
             [
              0.6666666666666666,
              "#ed7953"
             ],
             [
              0.7777777777777778,
              "#fb9f3a"
             ],
             [
              0.8888888888888888,
              "#fdca26"
             ],
             [
              1,
              "#f0f921"
             ]
            ],
            "type": "heatmap"
           }
          ],
          "heatmapgl": [
           {
            "colorbar": {
             "outlinewidth": 0,
             "ticks": ""
            },
            "colorscale": [
             [
              0,
              "#0d0887"
             ],
             [
              0.1111111111111111,
              "#46039f"
             ],
             [
              0.2222222222222222,
              "#7201a8"
             ],
             [
              0.3333333333333333,
              "#9c179e"
             ],
             [
              0.4444444444444444,
              "#bd3786"
             ],
             [
              0.5555555555555556,
              "#d8576b"
             ],
             [
              0.6666666666666666,
              "#ed7953"
             ],
             [
              0.7777777777777778,
              "#fb9f3a"
             ],
             [
              0.8888888888888888,
              "#fdca26"
             ],
             [
              1,
              "#f0f921"
             ]
            ],
            "type": "heatmapgl"
           }
          ],
          "histogram": [
           {
            "marker": {
             "pattern": {
              "fillmode": "overlay",
              "size": 10,
              "solidity": 0.2
             }
            },
            "type": "histogram"
           }
          ],
          "histogram2d": [
           {
            "colorbar": {
             "outlinewidth": 0,
             "ticks": ""
            },
            "colorscale": [
             [
              0,
              "#0d0887"
             ],
             [
              0.1111111111111111,
              "#46039f"
             ],
             [
              0.2222222222222222,
              "#7201a8"
             ],
             [
              0.3333333333333333,
              "#9c179e"
             ],
             [
              0.4444444444444444,
              "#bd3786"
             ],
             [
              0.5555555555555556,
              "#d8576b"
             ],
             [
              0.6666666666666666,
              "#ed7953"
             ],
             [
              0.7777777777777778,
              "#fb9f3a"
             ],
             [
              0.8888888888888888,
              "#fdca26"
             ],
             [
              1,
              "#f0f921"
             ]
            ],
            "type": "histogram2d"
           }
          ],
          "histogram2dcontour": [
           {
            "colorbar": {
             "outlinewidth": 0,
             "ticks": ""
            },
            "colorscale": [
             [
              0,
              "#0d0887"
             ],
             [
              0.1111111111111111,
              "#46039f"
             ],
             [
              0.2222222222222222,
              "#7201a8"
             ],
             [
              0.3333333333333333,
              "#9c179e"
             ],
             [
              0.4444444444444444,
              "#bd3786"
             ],
             [
              0.5555555555555556,
              "#d8576b"
             ],
             [
              0.6666666666666666,
              "#ed7953"
             ],
             [
              0.7777777777777778,
              "#fb9f3a"
             ],
             [
              0.8888888888888888,
              "#fdca26"
             ],
             [
              1,
              "#f0f921"
             ]
            ],
            "type": "histogram2dcontour"
           }
          ],
          "mesh3d": [
           {
            "colorbar": {
             "outlinewidth": 0,
             "ticks": ""
            },
            "type": "mesh3d"
           }
          ],
          "parcoords": [
           {
            "line": {
             "colorbar": {
              "outlinewidth": 0,
              "ticks": ""
             }
            },
            "type": "parcoords"
           }
          ],
          "pie": [
           {
            "automargin": true,
            "type": "pie"
           }
          ],
          "scatter": [
           {
            "marker": {
             "line": {
              "color": "#283442"
             }
            },
            "type": "scatter"
           }
          ],
          "scatter3d": [
           {
            "line": {
             "colorbar": {
              "outlinewidth": 0,
              "ticks": ""
             }
            },
            "marker": {
             "colorbar": {
              "outlinewidth": 0,
              "ticks": ""
             }
            },
            "type": "scatter3d"
           }
          ],
          "scattercarpet": [
           {
            "marker": {
             "colorbar": {
              "outlinewidth": 0,
              "ticks": ""
             }
            },
            "type": "scattercarpet"
           }
          ],
          "scattergeo": [
           {
            "marker": {
             "colorbar": {
              "outlinewidth": 0,
              "ticks": ""
             }
            },
            "type": "scattergeo"
           }
          ],
          "scattergl": [
           {
            "marker": {
             "line": {
              "color": "#283442"
             }
            },
            "type": "scattergl"
           }
          ],
          "scattermapbox": [
           {
            "marker": {
             "colorbar": {
              "outlinewidth": 0,
              "ticks": ""
             }
            },
            "type": "scattermapbox"
           }
          ],
          "scatterpolar": [
           {
            "marker": {
             "colorbar": {
              "outlinewidth": 0,
              "ticks": ""
             }
            },
            "type": "scatterpolar"
           }
          ],
          "scatterpolargl": [
           {
            "marker": {
             "colorbar": {
              "outlinewidth": 0,
              "ticks": ""
             }
            },
            "type": "scatterpolargl"
           }
          ],
          "scatterternary": [
           {
            "marker": {
             "colorbar": {
              "outlinewidth": 0,
              "ticks": ""
             }
            },
            "type": "scatterternary"
           }
          ],
          "surface": [
           {
            "colorbar": {
             "outlinewidth": 0,
             "ticks": ""
            },
            "colorscale": [
             [
              0,
              "#0d0887"
             ],
             [
              0.1111111111111111,
              "#46039f"
             ],
             [
              0.2222222222222222,
              "#7201a8"
             ],
             [
              0.3333333333333333,
              "#9c179e"
             ],
             [
              0.4444444444444444,
              "#bd3786"
             ],
             [
              0.5555555555555556,
              "#d8576b"
             ],
             [
              0.6666666666666666,
              "#ed7953"
             ],
             [
              0.7777777777777778,
              "#fb9f3a"
             ],
             [
              0.8888888888888888,
              "#fdca26"
             ],
             [
              1,
              "#f0f921"
             ]
            ],
            "type": "surface"
           }
          ],
          "table": [
           {
            "cells": {
             "fill": {
              "color": "#506784"
             },
             "line": {
              "color": "rgb(17,17,17)"
             }
            },
            "header": {
             "fill": {
              "color": "#2a3f5f"
             },
             "line": {
              "color": "rgb(17,17,17)"
             }
            },
            "type": "table"
           }
          ]
         },
         "layout": {
          "annotationdefaults": {
           "arrowcolor": "#f2f5fa",
           "arrowhead": 0,
           "arrowwidth": 1
          },
          "autotypenumbers": "strict",
          "coloraxis": {
           "colorbar": {
            "outlinewidth": 0,
            "ticks": ""
           }
          },
          "colorscale": {
           "diverging": [
            [
             0,
             "#8e0152"
            ],
            [
             0.1,
             "#c51b7d"
            ],
            [
             0.2,
             "#de77ae"
            ],
            [
             0.3,
             "#f1b6da"
            ],
            [
             0.4,
             "#fde0ef"
            ],
            [
             0.5,
             "#f7f7f7"
            ],
            [
             0.6,
             "#e6f5d0"
            ],
            [
             0.7,
             "#b8e186"
            ],
            [
             0.8,
             "#7fbc41"
            ],
            [
             0.9,
             "#4d9221"
            ],
            [
             1,
             "#276419"
            ]
           ],
           "sequential": [
            [
             0,
             "#0d0887"
            ],
            [
             0.1111111111111111,
             "#46039f"
            ],
            [
             0.2222222222222222,
             "#7201a8"
            ],
            [
             0.3333333333333333,
             "#9c179e"
            ],
            [
             0.4444444444444444,
             "#bd3786"
            ],
            [
             0.5555555555555556,
             "#d8576b"
            ],
            [
             0.6666666666666666,
             "#ed7953"
            ],
            [
             0.7777777777777778,
             "#fb9f3a"
            ],
            [
             0.8888888888888888,
             "#fdca26"
            ],
            [
             1,
             "#f0f921"
            ]
           ],
           "sequentialminus": [
            [
             0,
             "#0d0887"
            ],
            [
             0.1111111111111111,
             "#46039f"
            ],
            [
             0.2222222222222222,
             "#7201a8"
            ],
            [
             0.3333333333333333,
             "#9c179e"
            ],
            [
             0.4444444444444444,
             "#bd3786"
            ],
            [
             0.5555555555555556,
             "#d8576b"
            ],
            [
             0.6666666666666666,
             "#ed7953"
            ],
            [
             0.7777777777777778,
             "#fb9f3a"
            ],
            [
             0.8888888888888888,
             "#fdca26"
            ],
            [
             1,
             "#f0f921"
            ]
           ]
          },
          "colorway": [
           "#636efa",
           "#EF553B",
           "#00cc96",
           "#ab63fa",
           "#FFA15A",
           "#19d3f3",
           "#FF6692",
           "#B6E880",
           "#FF97FF",
           "#FECB52"
          ],
          "font": {
           "color": "#f2f5fa"
          },
          "geo": {
           "bgcolor": "rgb(17,17,17)",
           "lakecolor": "rgb(17,17,17)",
           "landcolor": "rgb(17,17,17)",
           "showlakes": true,
           "showland": true,
           "subunitcolor": "#506784"
          },
          "hoverlabel": {
           "align": "left"
          },
          "hovermode": "closest",
          "mapbox": {
           "style": "dark"
          },
          "paper_bgcolor": "rgb(17,17,17)",
          "plot_bgcolor": "rgb(17,17,17)",
          "polar": {
           "angularaxis": {
            "gridcolor": "#506784",
            "linecolor": "#506784",
            "ticks": ""
           },
           "bgcolor": "rgb(17,17,17)",
           "radialaxis": {
            "gridcolor": "#506784",
            "linecolor": "#506784",
            "ticks": ""
           }
          },
          "scene": {
           "xaxis": {
            "backgroundcolor": "rgb(17,17,17)",
            "gridcolor": "#506784",
            "gridwidth": 2,
            "linecolor": "#506784",
            "showbackground": true,
            "ticks": "",
            "zerolinecolor": "#C8D4E3"
           },
           "yaxis": {
            "backgroundcolor": "rgb(17,17,17)",
            "gridcolor": "#506784",
            "gridwidth": 2,
            "linecolor": "#506784",
            "showbackground": true,
            "ticks": "",
            "zerolinecolor": "#C8D4E3"
           },
           "zaxis": {
            "backgroundcolor": "rgb(17,17,17)",
            "gridcolor": "#506784",
            "gridwidth": 2,
            "linecolor": "#506784",
            "showbackground": true,
            "ticks": "",
            "zerolinecolor": "#C8D4E3"
           }
          },
          "shapedefaults": {
           "line": {
            "color": "#f2f5fa"
           }
          },
          "sliderdefaults": {
           "bgcolor": "#C8D4E3",
           "bordercolor": "rgb(17,17,17)",
           "borderwidth": 1,
           "tickwidth": 0
          },
          "ternary": {
           "aaxis": {
            "gridcolor": "#506784",
            "linecolor": "#506784",
            "ticks": ""
           },
           "baxis": {
            "gridcolor": "#506784",
            "linecolor": "#506784",
            "ticks": ""
           },
           "bgcolor": "rgb(17,17,17)",
           "caxis": {
            "gridcolor": "#506784",
            "linecolor": "#506784",
            "ticks": ""
           }
          },
          "title": {
           "x": 0.05
          },
          "updatemenudefaults": {
           "bgcolor": "#506784",
           "borderwidth": 0
          },
          "xaxis": {
           "automargin": true,
           "gridcolor": "#283442",
           "linecolor": "#506784",
           "ticks": "",
           "title": {
            "standoff": 15
           },
           "zerolinecolor": "#283442",
           "zerolinewidth": 2
          },
          "yaxis": {
           "automargin": true,
           "gridcolor": "#283442",
           "linecolor": "#506784",
           "ticks": "",
           "title": {
            "standoff": 15
           },
           "zerolinecolor": "#283442",
           "zerolinewidth": 2
          }
         }
        },
        "title": {
         "font": {
          "color": "white",
          "size": 25
         },
         "text": "Evolución de la Popularidad por Álbum",
         "x": 0.5,
         "xanchor": "center",
         "y": 0.9,
         "yanchor": "top"
        },
        "xaxis": {
         "anchor": "y",
         "domain": [
          0,
          1
         ],
         "tickfont": {
          "size": 12
         },
         "title": {
          "font": {
           "size": 14
          },
          "text": "Canción"
         }
        },
        "yaxis": {
         "anchor": "x",
         "domain": [
          0,
          1
         ],
         "tickfont": {
          "size": 12
         },
         "title": {
          "font": {
           "size": 14
          },
          "text": "Duración en segundos"
         }
        }
       }
      }
     },
     "metadata": {},
     "output_type": "display_data"
    }
   ],
   "source": [
    "color = {\"Solista\" : \"red\", \"One Direction\" : \"blue\"}\n",
    "\n",
    "\n",
    "fig = px.line(popularidad_album, \n",
    "              x='Álbum', \n",
    "              y='Popularidad', \n",
    "              title='Evolución de la Popularidad por Álbum',\n",
    "              labels={'Popularidad': 'Popularidad Promedio'},\n",
    "              markers=True,  # Añadir puntos para cada álbum\n",
    "              hover_data={\"Etapa\":True},\n",
    "              template='plotly_dark'\n",
    ")\n",
    "\n",
    "fig.update_traces(marker=dict(size=10))\n",
    "\n",
    "# Ajustar el layout para mejor visualización\n",
    "fig.update_layout(\n",
    "    xaxis_title='Álbum',\n",
    "    yaxis_title='Popularidad Promedio',  \n",
    "    hovermode='x unified',  # Mostrar información detallada al pasar el mouse\n",
    "    title = {'text' : 'Evolución de la Popularidad por Álbum','y':0.9, 'x':0.5, 'xanchor' : 'center', 'yanchor' : 'top', 'font':dict(size=25, color='white')}, height = 600, margin=dict(l=50, r=50, t=100, b=200), yaxis=dict(title='Duración en segundos', titlefont_size=14, tickfont_size=12),\n",
    "    xaxis=dict(title='Canción', titlefont_size=14, tickfont_size=12)\n",
    ")\n",
    "\n",
    "fig"
   ]
  },
  {
   "cell_type": "code",
   "execution_count": 200,
   "metadata": {},
   "outputs": [
    {
     "data": {
      "text/html": [
       "<div>\n",
       "<style scoped>\n",
       "    .dataframe tbody tr th:only-of-type {\n",
       "        vertical-align: middle;\n",
       "    }\n",
       "\n",
       "    .dataframe tbody tr th {\n",
       "        vertical-align: top;\n",
       "    }\n",
       "\n",
       "    .dataframe thead th {\n",
       "        text-align: right;\n",
       "    }\n",
       "</style>\n",
       "<table border=\"1\" class=\"dataframe\">\n",
       "  <thead>\n",
       "    <tr style=\"text-align: right;\">\n",
       "      <th></th>\n",
       "      <th>Álbum</th>\n",
       "      <th>Popularidad</th>\n",
       "      <th>Año</th>\n",
       "    </tr>\n",
       "  </thead>\n",
       "  <tbody>\n",
       "    <tr>\n",
       "      <th>0</th>\n",
       "      <td>Back to You (feat. Bebe Rexha &amp; Digital Farm A...</td>\n",
       "      <td>47.500000</td>\n",
       "      <td>2017</td>\n",
       "    </tr>\n",
       "    <tr>\n",
       "      <th>1</th>\n",
       "      <td>Bigger Than Me</td>\n",
       "      <td>21.000000</td>\n",
       "      <td>2022</td>\n",
       "    </tr>\n",
       "    <tr>\n",
       "      <th>2</th>\n",
       "      <td>Bigger Than Me (Live from Milan)</td>\n",
       "      <td>20.000000</td>\n",
       "      <td>2022</td>\n",
       "    </tr>\n",
       "    <tr>\n",
       "      <th>3</th>\n",
       "      <td>Don't Let It Break Your Heart</td>\n",
       "      <td>32.000000</td>\n",
       "      <td>2019</td>\n",
       "    </tr>\n",
       "    <tr>\n",
       "      <th>4</th>\n",
       "      <td>Faith In The Future (Bonus Edition)</td>\n",
       "      <td>37.473684</td>\n",
       "      <td>2023</td>\n",
       "    </tr>\n",
       "  </tbody>\n",
       "</table>\n",
       "</div>"
      ],
      "text/plain": [
       "                                               Álbum  Popularidad   Año\n",
       "0  Back to You (feat. Bebe Rexha & Digital Farm A...    47.500000  2017\n",
       "1                                     Bigger Than Me    21.000000  2022\n",
       "2                   Bigger Than Me (Live from Milan)    20.000000  2022\n",
       "3                      Don't Let It Break Your Heart    32.000000  2019\n",
       "4                Faith In The Future (Bonus Edition)    37.473684  2023"
      ]
     },
     "execution_count": 200,
     "metadata": {},
     "output_type": "execute_result"
    }
   ],
   "source": [
    "canciones_LT = df_concat[df_concat[\"Etapa\"] == \"Solista\"]\n",
    "popularidad_album_lt = canciones_LT.groupby(\"Álbum\").agg({\n",
    "    \"Popularidad\" : \"mean\",\n",
    "    \"Año\" : \"first\"\n",
    "}).reset_index()\n",
    "popularidad_album_lt.head()\n"
   ]
  },
  {
   "cell_type": "code",
   "execution_count": 201,
   "metadata": {},
   "outputs": [
    {
     "data": {
      "application/vnd.plotly.v1+json": {
       "config": {
        "plotlyServerURL": "https://plot.ly"
       },
       "data": [
        {
         "hovertemplate": "Álbum=%{x}<br>Popularidad Promedio=%{y}<extra></extra>",
         "legendgroup": "",
         "line": {
          "color": "red",
          "dash": "solid"
         },
         "marker": {
          "size": 10,
          "symbol": "circle"
         },
         "mode": "lines+markers",
         "name": "",
         "orientation": "v",
         "showlegend": false,
         "type": "scatter",
         "x": [
          "Back to You (feat. Bebe Rexha & Digital Farm Animals)",
          "Bigger Than Me",
          "Bigger Than Me (Live from Milan)",
          "Don't Let It Break Your Heart",
          "Faith In The Future (Bonus Edition)",
          "Faith In The Future (Deluxe)",
          "Just Hold On",
          "Just Hold On (Remixes)",
          "Just Like You",
          "Kill My Mind",
          "LIVE",
          "Miss You",
          "Miss You (Luca Schreiner Remix)",
          "Out Of My System",
          "Silver Tongues",
          "Two of Us",
          "Two of Us (Acoustic)",
          "Walls",
          "Walls: Track By Track",
          "We Made It"
         ],
         "xaxis": "x",
         "y": [
          47.5,
          21,
          20,
          32,
          37.473684210526315,
          53.375,
          56,
          21.375,
          48,
          36,
          44.42857142857143,
          57,
          27,
          16,
          16.666666666666668,
          44,
          39,
          50.84615384615385,
          14.153846153846153,
          35
         ],
         "yaxis": "y"
        }
       ],
       "layout": {
        "height": 600,
        "hovermode": "x unified",
        "legend": {
         "tracegroupgap": 0
        },
        "margin": {
         "b": 200,
         "l": 50,
         "r": 50,
         "t": 100
        },
        "template": {
         "data": {
          "bar": [
           {
            "error_x": {
             "color": "#f2f5fa"
            },
            "error_y": {
             "color": "#f2f5fa"
            },
            "marker": {
             "line": {
              "color": "rgb(17,17,17)",
              "width": 0.5
             },
             "pattern": {
              "fillmode": "overlay",
              "size": 10,
              "solidity": 0.2
             }
            },
            "type": "bar"
           }
          ],
          "barpolar": [
           {
            "marker": {
             "line": {
              "color": "rgb(17,17,17)",
              "width": 0.5
             },
             "pattern": {
              "fillmode": "overlay",
              "size": 10,
              "solidity": 0.2
             }
            },
            "type": "barpolar"
           }
          ],
          "carpet": [
           {
            "aaxis": {
             "endlinecolor": "#A2B1C6",
             "gridcolor": "#506784",
             "linecolor": "#506784",
             "minorgridcolor": "#506784",
             "startlinecolor": "#A2B1C6"
            },
            "baxis": {
             "endlinecolor": "#A2B1C6",
             "gridcolor": "#506784",
             "linecolor": "#506784",
             "minorgridcolor": "#506784",
             "startlinecolor": "#A2B1C6"
            },
            "type": "carpet"
           }
          ],
          "choropleth": [
           {
            "colorbar": {
             "outlinewidth": 0,
             "ticks": ""
            },
            "type": "choropleth"
           }
          ],
          "contour": [
           {
            "colorbar": {
             "outlinewidth": 0,
             "ticks": ""
            },
            "colorscale": [
             [
              0,
              "#0d0887"
             ],
             [
              0.1111111111111111,
              "#46039f"
             ],
             [
              0.2222222222222222,
              "#7201a8"
             ],
             [
              0.3333333333333333,
              "#9c179e"
             ],
             [
              0.4444444444444444,
              "#bd3786"
             ],
             [
              0.5555555555555556,
              "#d8576b"
             ],
             [
              0.6666666666666666,
              "#ed7953"
             ],
             [
              0.7777777777777778,
              "#fb9f3a"
             ],
             [
              0.8888888888888888,
              "#fdca26"
             ],
             [
              1,
              "#f0f921"
             ]
            ],
            "type": "contour"
           }
          ],
          "contourcarpet": [
           {
            "colorbar": {
             "outlinewidth": 0,
             "ticks": ""
            },
            "type": "contourcarpet"
           }
          ],
          "heatmap": [
           {
            "colorbar": {
             "outlinewidth": 0,
             "ticks": ""
            },
            "colorscale": [
             [
              0,
              "#0d0887"
             ],
             [
              0.1111111111111111,
              "#46039f"
             ],
             [
              0.2222222222222222,
              "#7201a8"
             ],
             [
              0.3333333333333333,
              "#9c179e"
             ],
             [
              0.4444444444444444,
              "#bd3786"
             ],
             [
              0.5555555555555556,
              "#d8576b"
             ],
             [
              0.6666666666666666,
              "#ed7953"
             ],
             [
              0.7777777777777778,
              "#fb9f3a"
             ],
             [
              0.8888888888888888,
              "#fdca26"
             ],
             [
              1,
              "#f0f921"
             ]
            ],
            "type": "heatmap"
           }
          ],
          "heatmapgl": [
           {
            "colorbar": {
             "outlinewidth": 0,
             "ticks": ""
            },
            "colorscale": [
             [
              0,
              "#0d0887"
             ],
             [
              0.1111111111111111,
              "#46039f"
             ],
             [
              0.2222222222222222,
              "#7201a8"
             ],
             [
              0.3333333333333333,
              "#9c179e"
             ],
             [
              0.4444444444444444,
              "#bd3786"
             ],
             [
              0.5555555555555556,
              "#d8576b"
             ],
             [
              0.6666666666666666,
              "#ed7953"
             ],
             [
              0.7777777777777778,
              "#fb9f3a"
             ],
             [
              0.8888888888888888,
              "#fdca26"
             ],
             [
              1,
              "#f0f921"
             ]
            ],
            "type": "heatmapgl"
           }
          ],
          "histogram": [
           {
            "marker": {
             "pattern": {
              "fillmode": "overlay",
              "size": 10,
              "solidity": 0.2
             }
            },
            "type": "histogram"
           }
          ],
          "histogram2d": [
           {
            "colorbar": {
             "outlinewidth": 0,
             "ticks": ""
            },
            "colorscale": [
             [
              0,
              "#0d0887"
             ],
             [
              0.1111111111111111,
              "#46039f"
             ],
             [
              0.2222222222222222,
              "#7201a8"
             ],
             [
              0.3333333333333333,
              "#9c179e"
             ],
             [
              0.4444444444444444,
              "#bd3786"
             ],
             [
              0.5555555555555556,
              "#d8576b"
             ],
             [
              0.6666666666666666,
              "#ed7953"
             ],
             [
              0.7777777777777778,
              "#fb9f3a"
             ],
             [
              0.8888888888888888,
              "#fdca26"
             ],
             [
              1,
              "#f0f921"
             ]
            ],
            "type": "histogram2d"
           }
          ],
          "histogram2dcontour": [
           {
            "colorbar": {
             "outlinewidth": 0,
             "ticks": ""
            },
            "colorscale": [
             [
              0,
              "#0d0887"
             ],
             [
              0.1111111111111111,
              "#46039f"
             ],
             [
              0.2222222222222222,
              "#7201a8"
             ],
             [
              0.3333333333333333,
              "#9c179e"
             ],
             [
              0.4444444444444444,
              "#bd3786"
             ],
             [
              0.5555555555555556,
              "#d8576b"
             ],
             [
              0.6666666666666666,
              "#ed7953"
             ],
             [
              0.7777777777777778,
              "#fb9f3a"
             ],
             [
              0.8888888888888888,
              "#fdca26"
             ],
             [
              1,
              "#f0f921"
             ]
            ],
            "type": "histogram2dcontour"
           }
          ],
          "mesh3d": [
           {
            "colorbar": {
             "outlinewidth": 0,
             "ticks": ""
            },
            "type": "mesh3d"
           }
          ],
          "parcoords": [
           {
            "line": {
             "colorbar": {
              "outlinewidth": 0,
              "ticks": ""
             }
            },
            "type": "parcoords"
           }
          ],
          "pie": [
           {
            "automargin": true,
            "type": "pie"
           }
          ],
          "scatter": [
           {
            "marker": {
             "line": {
              "color": "#283442"
             }
            },
            "type": "scatter"
           }
          ],
          "scatter3d": [
           {
            "line": {
             "colorbar": {
              "outlinewidth": 0,
              "ticks": ""
             }
            },
            "marker": {
             "colorbar": {
              "outlinewidth": 0,
              "ticks": ""
             }
            },
            "type": "scatter3d"
           }
          ],
          "scattercarpet": [
           {
            "marker": {
             "colorbar": {
              "outlinewidth": 0,
              "ticks": ""
             }
            },
            "type": "scattercarpet"
           }
          ],
          "scattergeo": [
           {
            "marker": {
             "colorbar": {
              "outlinewidth": 0,
              "ticks": ""
             }
            },
            "type": "scattergeo"
           }
          ],
          "scattergl": [
           {
            "marker": {
             "line": {
              "color": "#283442"
             }
            },
            "type": "scattergl"
           }
          ],
          "scattermapbox": [
           {
            "marker": {
             "colorbar": {
              "outlinewidth": 0,
              "ticks": ""
             }
            },
            "type": "scattermapbox"
           }
          ],
          "scatterpolar": [
           {
            "marker": {
             "colorbar": {
              "outlinewidth": 0,
              "ticks": ""
             }
            },
            "type": "scatterpolar"
           }
          ],
          "scatterpolargl": [
           {
            "marker": {
             "colorbar": {
              "outlinewidth": 0,
              "ticks": ""
             }
            },
            "type": "scatterpolargl"
           }
          ],
          "scatterternary": [
           {
            "marker": {
             "colorbar": {
              "outlinewidth": 0,
              "ticks": ""
             }
            },
            "type": "scatterternary"
           }
          ],
          "surface": [
           {
            "colorbar": {
             "outlinewidth": 0,
             "ticks": ""
            },
            "colorscale": [
             [
              0,
              "#0d0887"
             ],
             [
              0.1111111111111111,
              "#46039f"
             ],
             [
              0.2222222222222222,
              "#7201a8"
             ],
             [
              0.3333333333333333,
              "#9c179e"
             ],
             [
              0.4444444444444444,
              "#bd3786"
             ],
             [
              0.5555555555555556,
              "#d8576b"
             ],
             [
              0.6666666666666666,
              "#ed7953"
             ],
             [
              0.7777777777777778,
              "#fb9f3a"
             ],
             [
              0.8888888888888888,
              "#fdca26"
             ],
             [
              1,
              "#f0f921"
             ]
            ],
            "type": "surface"
           }
          ],
          "table": [
           {
            "cells": {
             "fill": {
              "color": "#506784"
             },
             "line": {
              "color": "rgb(17,17,17)"
             }
            },
            "header": {
             "fill": {
              "color": "#2a3f5f"
             },
             "line": {
              "color": "rgb(17,17,17)"
             }
            },
            "type": "table"
           }
          ]
         },
         "layout": {
          "annotationdefaults": {
           "arrowcolor": "#f2f5fa",
           "arrowhead": 0,
           "arrowwidth": 1
          },
          "autotypenumbers": "strict",
          "coloraxis": {
           "colorbar": {
            "outlinewidth": 0,
            "ticks": ""
           }
          },
          "colorscale": {
           "diverging": [
            [
             0,
             "#8e0152"
            ],
            [
             0.1,
             "#c51b7d"
            ],
            [
             0.2,
             "#de77ae"
            ],
            [
             0.3,
             "#f1b6da"
            ],
            [
             0.4,
             "#fde0ef"
            ],
            [
             0.5,
             "#f7f7f7"
            ],
            [
             0.6,
             "#e6f5d0"
            ],
            [
             0.7,
             "#b8e186"
            ],
            [
             0.8,
             "#7fbc41"
            ],
            [
             0.9,
             "#4d9221"
            ],
            [
             1,
             "#276419"
            ]
           ],
           "sequential": [
            [
             0,
             "#0d0887"
            ],
            [
             0.1111111111111111,
             "#46039f"
            ],
            [
             0.2222222222222222,
             "#7201a8"
            ],
            [
             0.3333333333333333,
             "#9c179e"
            ],
            [
             0.4444444444444444,
             "#bd3786"
            ],
            [
             0.5555555555555556,
             "#d8576b"
            ],
            [
             0.6666666666666666,
             "#ed7953"
            ],
            [
             0.7777777777777778,
             "#fb9f3a"
            ],
            [
             0.8888888888888888,
             "#fdca26"
            ],
            [
             1,
             "#f0f921"
            ]
           ],
           "sequentialminus": [
            [
             0,
             "#0d0887"
            ],
            [
             0.1111111111111111,
             "#46039f"
            ],
            [
             0.2222222222222222,
             "#7201a8"
            ],
            [
             0.3333333333333333,
             "#9c179e"
            ],
            [
             0.4444444444444444,
             "#bd3786"
            ],
            [
             0.5555555555555556,
             "#d8576b"
            ],
            [
             0.6666666666666666,
             "#ed7953"
            ],
            [
             0.7777777777777778,
             "#fb9f3a"
            ],
            [
             0.8888888888888888,
             "#fdca26"
            ],
            [
             1,
             "#f0f921"
            ]
           ]
          },
          "colorway": [
           "#636efa",
           "#EF553B",
           "#00cc96",
           "#ab63fa",
           "#FFA15A",
           "#19d3f3",
           "#FF6692",
           "#B6E880",
           "#FF97FF",
           "#FECB52"
          ],
          "font": {
           "color": "#f2f5fa"
          },
          "geo": {
           "bgcolor": "rgb(17,17,17)",
           "lakecolor": "rgb(17,17,17)",
           "landcolor": "rgb(17,17,17)",
           "showlakes": true,
           "showland": true,
           "subunitcolor": "#506784"
          },
          "hoverlabel": {
           "align": "left"
          },
          "hovermode": "closest",
          "mapbox": {
           "style": "dark"
          },
          "paper_bgcolor": "rgb(17,17,17)",
          "plot_bgcolor": "rgb(17,17,17)",
          "polar": {
           "angularaxis": {
            "gridcolor": "#506784",
            "linecolor": "#506784",
            "ticks": ""
           },
           "bgcolor": "rgb(17,17,17)",
           "radialaxis": {
            "gridcolor": "#506784",
            "linecolor": "#506784",
            "ticks": ""
           }
          },
          "scene": {
           "xaxis": {
            "backgroundcolor": "rgb(17,17,17)",
            "gridcolor": "#506784",
            "gridwidth": 2,
            "linecolor": "#506784",
            "showbackground": true,
            "ticks": "",
            "zerolinecolor": "#C8D4E3"
           },
           "yaxis": {
            "backgroundcolor": "rgb(17,17,17)",
            "gridcolor": "#506784",
            "gridwidth": 2,
            "linecolor": "#506784",
            "showbackground": true,
            "ticks": "",
            "zerolinecolor": "#C8D4E3"
           },
           "zaxis": {
            "backgroundcolor": "rgb(17,17,17)",
            "gridcolor": "#506784",
            "gridwidth": 2,
            "linecolor": "#506784",
            "showbackground": true,
            "ticks": "",
            "zerolinecolor": "#C8D4E3"
           }
          },
          "shapedefaults": {
           "line": {
            "color": "#f2f5fa"
           }
          },
          "sliderdefaults": {
           "bgcolor": "#C8D4E3",
           "bordercolor": "rgb(17,17,17)",
           "borderwidth": 1,
           "tickwidth": 0
          },
          "ternary": {
           "aaxis": {
            "gridcolor": "#506784",
            "linecolor": "#506784",
            "ticks": ""
           },
           "baxis": {
            "gridcolor": "#506784",
            "linecolor": "#506784",
            "ticks": ""
           },
           "bgcolor": "rgb(17,17,17)",
           "caxis": {
            "gridcolor": "#506784",
            "linecolor": "#506784",
            "ticks": ""
           }
          },
          "title": {
           "x": 0.05
          },
          "updatemenudefaults": {
           "bgcolor": "#506784",
           "borderwidth": 0
          },
          "xaxis": {
           "automargin": true,
           "gridcolor": "#283442",
           "linecolor": "#506784",
           "ticks": "",
           "title": {
            "standoff": 15
           },
           "zerolinecolor": "#283442",
           "zerolinewidth": 2
          },
          "yaxis": {
           "automargin": true,
           "gridcolor": "#283442",
           "linecolor": "#506784",
           "ticks": "",
           "title": {
            "standoff": 15
           },
           "zerolinecolor": "#283442",
           "zerolinewidth": 2
          }
         }
        },
        "title": {
         "font": {
          "color": "white",
          "size": 25
         },
         "text": "Evolución de la Popularidad por Álbum como Solista",
         "x": 0.5,
         "xanchor": "center",
         "y": 0.9,
         "yanchor": "top"
        },
        "xaxis": {
         "anchor": "y",
         "domain": [
          0,
          1
         ],
         "tickfont": {
          "size": 12
         },
         "title": {
          "font": {
           "size": 14
          },
          "text": "Canción"
         }
        },
        "yaxis": {
         "anchor": "x",
         "domain": [
          0,
          1
         ],
         "tickfont": {
          "size": 12
         },
         "title": {
          "font": {
           "size": 14
          },
          "text": "Duración en segundos"
         }
        }
       }
      }
     },
     "metadata": {},
     "output_type": "display_data"
    }
   ],
   "source": [
    "fig = px.line(popularidad_album_lt, \n",
    "              x='Álbum', \n",
    "              y='Popularidad', \n",
    "              title='Evolución de la Popularidad por Álbum como Solista',\n",
    "              labels={'Popularidad': 'Popularidad Promedio'},\n",
    "              markers=True,  # Añadir puntos para cada álbum\n",
    "              template='plotly_dark')\n",
    "\n",
    "fig.update_traces(line=dict(color='red'),marker=dict(size=10))\n",
    "\n",
    "# Ajustar el layout para mejor visualización\n",
    "fig.update_layout(\n",
    "    xaxis_title='Álbum',\n",
    "    yaxis_title='Popularidad Promedio',  \n",
    "    hovermode='x unified',  # Mostrar información detallada al pasar el mouse\n",
    "    title = {'text' : 'Evolución de la Popularidad por Álbum como Solista','y':0.9, 'x':0.5, 'xanchor' : 'center', 'yanchor' : 'top', 'font':dict(size=25, color='white')}, height = 600, margin=dict(l=50, r=50, t=100, b=200), yaxis=dict(title='Duración en segundos', titlefont_size=14, tickfont_size=12),\n",
    "    xaxis=dict(title='Canción', titlefont_size=14, tickfont_size=12)\n",
    ")\n",
    "    \n",
    "\n",
    "fig"
   ]
  },
  {
   "cell_type": "code",
   "execution_count": 202,
   "metadata": {},
   "outputs": [
    {
     "data": {
      "text/html": [
       "<div>\n",
       "<style scoped>\n",
       "    .dataframe tbody tr th:only-of-type {\n",
       "        vertical-align: middle;\n",
       "    }\n",
       "\n",
       "    .dataframe tbody tr th {\n",
       "        vertical-align: top;\n",
       "    }\n",
       "\n",
       "    .dataframe thead th {\n",
       "        text-align: right;\n",
       "    }\n",
       "</style>\n",
       "<table border=\"1\" class=\"dataframe\">\n",
       "  <thead>\n",
       "    <tr style=\"text-align: right;\">\n",
       "      <th></th>\n",
       "      <th>Álbum</th>\n",
       "      <th>Popularidad</th>\n",
       "      <th>Año</th>\n",
       "    </tr>\n",
       "  </thead>\n",
       "  <tbody>\n",
       "    <tr>\n",
       "      <th>0</th>\n",
       "      <td>Acoustic - EP</td>\n",
       "      <td>44.000000</td>\n",
       "      <td>2010</td>\n",
       "    </tr>\n",
       "    <tr>\n",
       "      <th>1</th>\n",
       "      <td>Best Song Ever (From THIS IS US)</td>\n",
       "      <td>30.500000</td>\n",
       "      <td>2013</td>\n",
       "    </tr>\n",
       "    <tr>\n",
       "      <th>2</th>\n",
       "      <td>FOUR (Deluxe)</td>\n",
       "      <td>63.187500</td>\n",
       "      <td>2014</td>\n",
       "    </tr>\n",
       "    <tr>\n",
       "      <th>3</th>\n",
       "      <td>Live - EP</td>\n",
       "      <td>29.800000</td>\n",
       "      <td>2010</td>\n",
       "    </tr>\n",
       "    <tr>\n",
       "      <th>4</th>\n",
       "      <td>Made In The A.M. (Deluxe Edition)</td>\n",
       "      <td>62.470588</td>\n",
       "      <td>2015</td>\n",
       "    </tr>\n",
       "  </tbody>\n",
       "</table>\n",
       "</div>"
      ],
      "text/plain": [
       "                               Álbum  Popularidad   Año\n",
       "0                      Acoustic - EP    44.000000  2010\n",
       "1   Best Song Ever (From THIS IS US)    30.500000  2013\n",
       "2                      FOUR (Deluxe)    63.187500  2014\n",
       "3                          Live - EP    29.800000  2010\n",
       "4  Made In The A.M. (Deluxe Edition)    62.470588  2015"
      ]
     },
     "execution_count": 202,
     "metadata": {},
     "output_type": "execute_result"
    }
   ],
   "source": [
    "canciones_OD = df_concat[df_concat[\"Etapa\"] == \"One Direction\"]\n",
    "popularidad_album_od = canciones_OD.groupby(\"Álbum\").agg({\n",
    "    \"Popularidad\" : \"mean\",\n",
    "    \"Año\" : \"first\"\n",
    "}).reset_index()\n",
    "popularidad_album_od.head()\n"
   ]
  },
  {
   "cell_type": "code",
   "execution_count": 203,
   "metadata": {},
   "outputs": [
    {
     "data": {
      "application/vnd.plotly.v1+json": {
       "config": {
        "plotlyServerURL": "https://plot.ly"
       },
       "data": [
        {
         "hovertemplate": "Álbum=%{x}<br>Popularidad Promedio=%{y}<extra></extra>",
         "legendgroup": "",
         "line": {
          "color": "blue",
          "dash": "solid"
         },
         "marker": {
          "size": 10,
          "symbol": "circle"
         },
         "mode": "lines+markers",
         "name": "",
         "orientation": "v",
         "showlegend": false,
         "type": "scatter",
         "x": [
          "Acoustic - EP",
          "Best Song Ever (From THIS IS US)",
          "FOUR (Deluxe)",
          "Live - EP",
          "Made In The A.M. (Deluxe Edition)",
          "Midnight Memories",
          "Midnight Memories (Deluxe)",
          "One Way Or Another (Teenage Kicks)",
          "Rarities - EP",
          "Remixes - EP",
          "Take Me Home (Expanded Edition)",
          "Up All Night"
         ],
         "xaxis": "x",
         "y": [
          44,
          30.5,
          63.1875,
          29.8,
          62.470588235294116,
          38.25,
          62.55555555555556,
          36.666666666666664,
          41.25,
          25.857142857142858,
          59.5,
          58
         ],
         "yaxis": "y"
        }
       ],
       "layout": {
        "height": 600,
        "hovermode": "x unified",
        "legend": {
         "tracegroupgap": 0
        },
        "margin": {
         "b": 200,
         "l": 50,
         "r": 50,
         "t": 100
        },
        "template": {
         "data": {
          "bar": [
           {
            "error_x": {
             "color": "#f2f5fa"
            },
            "error_y": {
             "color": "#f2f5fa"
            },
            "marker": {
             "line": {
              "color": "rgb(17,17,17)",
              "width": 0.5
             },
             "pattern": {
              "fillmode": "overlay",
              "size": 10,
              "solidity": 0.2
             }
            },
            "type": "bar"
           }
          ],
          "barpolar": [
           {
            "marker": {
             "line": {
              "color": "rgb(17,17,17)",
              "width": 0.5
             },
             "pattern": {
              "fillmode": "overlay",
              "size": 10,
              "solidity": 0.2
             }
            },
            "type": "barpolar"
           }
          ],
          "carpet": [
           {
            "aaxis": {
             "endlinecolor": "#A2B1C6",
             "gridcolor": "#506784",
             "linecolor": "#506784",
             "minorgridcolor": "#506784",
             "startlinecolor": "#A2B1C6"
            },
            "baxis": {
             "endlinecolor": "#A2B1C6",
             "gridcolor": "#506784",
             "linecolor": "#506784",
             "minorgridcolor": "#506784",
             "startlinecolor": "#A2B1C6"
            },
            "type": "carpet"
           }
          ],
          "choropleth": [
           {
            "colorbar": {
             "outlinewidth": 0,
             "ticks": ""
            },
            "type": "choropleth"
           }
          ],
          "contour": [
           {
            "colorbar": {
             "outlinewidth": 0,
             "ticks": ""
            },
            "colorscale": [
             [
              0,
              "#0d0887"
             ],
             [
              0.1111111111111111,
              "#46039f"
             ],
             [
              0.2222222222222222,
              "#7201a8"
             ],
             [
              0.3333333333333333,
              "#9c179e"
             ],
             [
              0.4444444444444444,
              "#bd3786"
             ],
             [
              0.5555555555555556,
              "#d8576b"
             ],
             [
              0.6666666666666666,
              "#ed7953"
             ],
             [
              0.7777777777777778,
              "#fb9f3a"
             ],
             [
              0.8888888888888888,
              "#fdca26"
             ],
             [
              1,
              "#f0f921"
             ]
            ],
            "type": "contour"
           }
          ],
          "contourcarpet": [
           {
            "colorbar": {
             "outlinewidth": 0,
             "ticks": ""
            },
            "type": "contourcarpet"
           }
          ],
          "heatmap": [
           {
            "colorbar": {
             "outlinewidth": 0,
             "ticks": ""
            },
            "colorscale": [
             [
              0,
              "#0d0887"
             ],
             [
              0.1111111111111111,
              "#46039f"
             ],
             [
              0.2222222222222222,
              "#7201a8"
             ],
             [
              0.3333333333333333,
              "#9c179e"
             ],
             [
              0.4444444444444444,
              "#bd3786"
             ],
             [
              0.5555555555555556,
              "#d8576b"
             ],
             [
              0.6666666666666666,
              "#ed7953"
             ],
             [
              0.7777777777777778,
              "#fb9f3a"
             ],
             [
              0.8888888888888888,
              "#fdca26"
             ],
             [
              1,
              "#f0f921"
             ]
            ],
            "type": "heatmap"
           }
          ],
          "heatmapgl": [
           {
            "colorbar": {
             "outlinewidth": 0,
             "ticks": ""
            },
            "colorscale": [
             [
              0,
              "#0d0887"
             ],
             [
              0.1111111111111111,
              "#46039f"
             ],
             [
              0.2222222222222222,
              "#7201a8"
             ],
             [
              0.3333333333333333,
              "#9c179e"
             ],
             [
              0.4444444444444444,
              "#bd3786"
             ],
             [
              0.5555555555555556,
              "#d8576b"
             ],
             [
              0.6666666666666666,
              "#ed7953"
             ],
             [
              0.7777777777777778,
              "#fb9f3a"
             ],
             [
              0.8888888888888888,
              "#fdca26"
             ],
             [
              1,
              "#f0f921"
             ]
            ],
            "type": "heatmapgl"
           }
          ],
          "histogram": [
           {
            "marker": {
             "pattern": {
              "fillmode": "overlay",
              "size": 10,
              "solidity": 0.2
             }
            },
            "type": "histogram"
           }
          ],
          "histogram2d": [
           {
            "colorbar": {
             "outlinewidth": 0,
             "ticks": ""
            },
            "colorscale": [
             [
              0,
              "#0d0887"
             ],
             [
              0.1111111111111111,
              "#46039f"
             ],
             [
              0.2222222222222222,
              "#7201a8"
             ],
             [
              0.3333333333333333,
              "#9c179e"
             ],
             [
              0.4444444444444444,
              "#bd3786"
             ],
             [
              0.5555555555555556,
              "#d8576b"
             ],
             [
              0.6666666666666666,
              "#ed7953"
             ],
             [
              0.7777777777777778,
              "#fb9f3a"
             ],
             [
              0.8888888888888888,
              "#fdca26"
             ],
             [
              1,
              "#f0f921"
             ]
            ],
            "type": "histogram2d"
           }
          ],
          "histogram2dcontour": [
           {
            "colorbar": {
             "outlinewidth": 0,
             "ticks": ""
            },
            "colorscale": [
             [
              0,
              "#0d0887"
             ],
             [
              0.1111111111111111,
              "#46039f"
             ],
             [
              0.2222222222222222,
              "#7201a8"
             ],
             [
              0.3333333333333333,
              "#9c179e"
             ],
             [
              0.4444444444444444,
              "#bd3786"
             ],
             [
              0.5555555555555556,
              "#d8576b"
             ],
             [
              0.6666666666666666,
              "#ed7953"
             ],
             [
              0.7777777777777778,
              "#fb9f3a"
             ],
             [
              0.8888888888888888,
              "#fdca26"
             ],
             [
              1,
              "#f0f921"
             ]
            ],
            "type": "histogram2dcontour"
           }
          ],
          "mesh3d": [
           {
            "colorbar": {
             "outlinewidth": 0,
             "ticks": ""
            },
            "type": "mesh3d"
           }
          ],
          "parcoords": [
           {
            "line": {
             "colorbar": {
              "outlinewidth": 0,
              "ticks": ""
             }
            },
            "type": "parcoords"
           }
          ],
          "pie": [
           {
            "automargin": true,
            "type": "pie"
           }
          ],
          "scatter": [
           {
            "marker": {
             "line": {
              "color": "#283442"
             }
            },
            "type": "scatter"
           }
          ],
          "scatter3d": [
           {
            "line": {
             "colorbar": {
              "outlinewidth": 0,
              "ticks": ""
             }
            },
            "marker": {
             "colorbar": {
              "outlinewidth": 0,
              "ticks": ""
             }
            },
            "type": "scatter3d"
           }
          ],
          "scattercarpet": [
           {
            "marker": {
             "colorbar": {
              "outlinewidth": 0,
              "ticks": ""
             }
            },
            "type": "scattercarpet"
           }
          ],
          "scattergeo": [
           {
            "marker": {
             "colorbar": {
              "outlinewidth": 0,
              "ticks": ""
             }
            },
            "type": "scattergeo"
           }
          ],
          "scattergl": [
           {
            "marker": {
             "line": {
              "color": "#283442"
             }
            },
            "type": "scattergl"
           }
          ],
          "scattermapbox": [
           {
            "marker": {
             "colorbar": {
              "outlinewidth": 0,
              "ticks": ""
             }
            },
            "type": "scattermapbox"
           }
          ],
          "scatterpolar": [
           {
            "marker": {
             "colorbar": {
              "outlinewidth": 0,
              "ticks": ""
             }
            },
            "type": "scatterpolar"
           }
          ],
          "scatterpolargl": [
           {
            "marker": {
             "colorbar": {
              "outlinewidth": 0,
              "ticks": ""
             }
            },
            "type": "scatterpolargl"
           }
          ],
          "scatterternary": [
           {
            "marker": {
             "colorbar": {
              "outlinewidth": 0,
              "ticks": ""
             }
            },
            "type": "scatterternary"
           }
          ],
          "surface": [
           {
            "colorbar": {
             "outlinewidth": 0,
             "ticks": ""
            },
            "colorscale": [
             [
              0,
              "#0d0887"
             ],
             [
              0.1111111111111111,
              "#46039f"
             ],
             [
              0.2222222222222222,
              "#7201a8"
             ],
             [
              0.3333333333333333,
              "#9c179e"
             ],
             [
              0.4444444444444444,
              "#bd3786"
             ],
             [
              0.5555555555555556,
              "#d8576b"
             ],
             [
              0.6666666666666666,
              "#ed7953"
             ],
             [
              0.7777777777777778,
              "#fb9f3a"
             ],
             [
              0.8888888888888888,
              "#fdca26"
             ],
             [
              1,
              "#f0f921"
             ]
            ],
            "type": "surface"
           }
          ],
          "table": [
           {
            "cells": {
             "fill": {
              "color": "#506784"
             },
             "line": {
              "color": "rgb(17,17,17)"
             }
            },
            "header": {
             "fill": {
              "color": "#2a3f5f"
             },
             "line": {
              "color": "rgb(17,17,17)"
             }
            },
            "type": "table"
           }
          ]
         },
         "layout": {
          "annotationdefaults": {
           "arrowcolor": "#f2f5fa",
           "arrowhead": 0,
           "arrowwidth": 1
          },
          "autotypenumbers": "strict",
          "coloraxis": {
           "colorbar": {
            "outlinewidth": 0,
            "ticks": ""
           }
          },
          "colorscale": {
           "diverging": [
            [
             0,
             "#8e0152"
            ],
            [
             0.1,
             "#c51b7d"
            ],
            [
             0.2,
             "#de77ae"
            ],
            [
             0.3,
             "#f1b6da"
            ],
            [
             0.4,
             "#fde0ef"
            ],
            [
             0.5,
             "#f7f7f7"
            ],
            [
             0.6,
             "#e6f5d0"
            ],
            [
             0.7,
             "#b8e186"
            ],
            [
             0.8,
             "#7fbc41"
            ],
            [
             0.9,
             "#4d9221"
            ],
            [
             1,
             "#276419"
            ]
           ],
           "sequential": [
            [
             0,
             "#0d0887"
            ],
            [
             0.1111111111111111,
             "#46039f"
            ],
            [
             0.2222222222222222,
             "#7201a8"
            ],
            [
             0.3333333333333333,
             "#9c179e"
            ],
            [
             0.4444444444444444,
             "#bd3786"
            ],
            [
             0.5555555555555556,
             "#d8576b"
            ],
            [
             0.6666666666666666,
             "#ed7953"
            ],
            [
             0.7777777777777778,
             "#fb9f3a"
            ],
            [
             0.8888888888888888,
             "#fdca26"
            ],
            [
             1,
             "#f0f921"
            ]
           ],
           "sequentialminus": [
            [
             0,
             "#0d0887"
            ],
            [
             0.1111111111111111,
             "#46039f"
            ],
            [
             0.2222222222222222,
             "#7201a8"
            ],
            [
             0.3333333333333333,
             "#9c179e"
            ],
            [
             0.4444444444444444,
             "#bd3786"
            ],
            [
             0.5555555555555556,
             "#d8576b"
            ],
            [
             0.6666666666666666,
             "#ed7953"
            ],
            [
             0.7777777777777778,
             "#fb9f3a"
            ],
            [
             0.8888888888888888,
             "#fdca26"
            ],
            [
             1,
             "#f0f921"
            ]
           ]
          },
          "colorway": [
           "#636efa",
           "#EF553B",
           "#00cc96",
           "#ab63fa",
           "#FFA15A",
           "#19d3f3",
           "#FF6692",
           "#B6E880",
           "#FF97FF",
           "#FECB52"
          ],
          "font": {
           "color": "#f2f5fa"
          },
          "geo": {
           "bgcolor": "rgb(17,17,17)",
           "lakecolor": "rgb(17,17,17)",
           "landcolor": "rgb(17,17,17)",
           "showlakes": true,
           "showland": true,
           "subunitcolor": "#506784"
          },
          "hoverlabel": {
           "align": "left"
          },
          "hovermode": "closest",
          "mapbox": {
           "style": "dark"
          },
          "paper_bgcolor": "rgb(17,17,17)",
          "plot_bgcolor": "rgb(17,17,17)",
          "polar": {
           "angularaxis": {
            "gridcolor": "#506784",
            "linecolor": "#506784",
            "ticks": ""
           },
           "bgcolor": "rgb(17,17,17)",
           "radialaxis": {
            "gridcolor": "#506784",
            "linecolor": "#506784",
            "ticks": ""
           }
          },
          "scene": {
           "xaxis": {
            "backgroundcolor": "rgb(17,17,17)",
            "gridcolor": "#506784",
            "gridwidth": 2,
            "linecolor": "#506784",
            "showbackground": true,
            "ticks": "",
            "zerolinecolor": "#C8D4E3"
           },
           "yaxis": {
            "backgroundcolor": "rgb(17,17,17)",
            "gridcolor": "#506784",
            "gridwidth": 2,
            "linecolor": "#506784",
            "showbackground": true,
            "ticks": "",
            "zerolinecolor": "#C8D4E3"
           },
           "zaxis": {
            "backgroundcolor": "rgb(17,17,17)",
            "gridcolor": "#506784",
            "gridwidth": 2,
            "linecolor": "#506784",
            "showbackground": true,
            "ticks": "",
            "zerolinecolor": "#C8D4E3"
           }
          },
          "shapedefaults": {
           "line": {
            "color": "#f2f5fa"
           }
          },
          "sliderdefaults": {
           "bgcolor": "#C8D4E3",
           "bordercolor": "rgb(17,17,17)",
           "borderwidth": 1,
           "tickwidth": 0
          },
          "ternary": {
           "aaxis": {
            "gridcolor": "#506784",
            "linecolor": "#506784",
            "ticks": ""
           },
           "baxis": {
            "gridcolor": "#506784",
            "linecolor": "#506784",
            "ticks": ""
           },
           "bgcolor": "rgb(17,17,17)",
           "caxis": {
            "gridcolor": "#506784",
            "linecolor": "#506784",
            "ticks": ""
           }
          },
          "title": {
           "x": 0.05
          },
          "updatemenudefaults": {
           "bgcolor": "#506784",
           "borderwidth": 0
          },
          "xaxis": {
           "automargin": true,
           "gridcolor": "#283442",
           "linecolor": "#506784",
           "ticks": "",
           "title": {
            "standoff": 15
           },
           "zerolinecolor": "#283442",
           "zerolinewidth": 2
          },
          "yaxis": {
           "automargin": true,
           "gridcolor": "#283442",
           "linecolor": "#506784",
           "ticks": "",
           "title": {
            "standoff": 15
           },
           "zerolinecolor": "#283442",
           "zerolinewidth": 2
          }
         }
        },
        "title": {
         "font": {
          "color": "white",
          "size": 25
         },
         "text": "Evolución de la Popularidad por Álbum como One Direction",
         "x": 0.5,
         "xanchor": "center",
         "y": 0.9,
         "yanchor": "top"
        },
        "xaxis": {
         "anchor": "y",
         "domain": [
          0,
          1
         ],
         "tickfont": {
          "size": 12
         },
         "title": {
          "font": {
           "size": 14
          },
          "text": "Canción"
         }
        },
        "yaxis": {
         "anchor": "x",
         "domain": [
          0,
          1
         ],
         "tickfont": {
          "size": 12
         },
         "title": {
          "font": {
           "size": 14
          },
          "text": "Duración en segundos"
         }
        }
       }
      }
     },
     "metadata": {},
     "output_type": "display_data"
    }
   ],
   "source": [
    "fig = px.line(popularidad_album_od, \n",
    "              x='Álbum', \n",
    "              y='Popularidad', \n",
    "              title='Evolución de la Popularidad por Álbum como One Direction',\n",
    "              labels={'Popularidad': 'Popularidad Promedio'},\n",
    "              markers=True,  # Añadir puntos para cada álbum\n",
    "              template='plotly_dark')\n",
    "\n",
    "fig.update_traces(line=dict(color='blue'),marker=dict(size=10))\n",
    "\n",
    "# Ajustar el layout para mejor visualización\n",
    "fig.update_layout(\n",
    "    xaxis_title='Álbum',\n",
    "    yaxis_title='Popularidad Promedio',  \n",
    "    hovermode='x unified',  # Mostrar información detallada al pasar el mouse\n",
    "    title = {'text' : 'Evolución de la Popularidad por Álbum como One Direction','y':0.9, 'x':0.5, 'xanchor' : 'center', 'yanchor' : 'top', 'font':dict(size=25, color='white')}, height = 600, margin=dict(l=50, r=50, t=100, b=200), yaxis=dict(title='Duración en segundos', titlefont_size=14, tickfont_size=12),\n",
    "    xaxis=dict(title='Canción', titlefont_size=14, tickfont_size=12)\n",
    ")\n",
    "\n",
    "fig"
   ]
  },
  {
   "cell_type": "markdown",
   "metadata": {},
   "source": [
    "# Analisis detallado sobre albumnes"
   ]
  },
  {
   "cell_type": "code",
   "execution_count": 205,
   "metadata": {},
   "outputs": [
    {
     "data": {
      "text/html": [
       "<div>\n",
       "<style scoped>\n",
       "    .dataframe tbody tr th:only-of-type {\n",
       "        vertical-align: middle;\n",
       "    }\n",
       "\n",
       "    .dataframe tbody tr th {\n",
       "        vertical-align: top;\n",
       "    }\n",
       "\n",
       "    .dataframe thead th {\n",
       "        text-align: right;\n",
       "    }\n",
       "</style>\n",
       "<table border=\"1\" class=\"dataframe\">\n",
       "  <thead>\n",
       "    <tr style=\"text-align: right;\">\n",
       "      <th></th>\n",
       "      <th>Álbum</th>\n",
       "      <th>Tipo</th>\n",
       "      <th>Canción</th>\n",
       "      <th>Etapa</th>\n",
       "      <th>Año</th>\n",
       "      <th>Popularidad</th>\n",
       "      <th>Duración_segundos</th>\n",
       "      <th>Duración</th>\n",
       "    </tr>\n",
       "  </thead>\n",
       "  <tbody>\n",
       "    <tr>\n",
       "      <th>0</th>\n",
       "      <td>Acoustic - EP</td>\n",
       "      <td>Single</td>\n",
       "      <td>5</td>\n",
       "      <td>One Direction</td>\n",
       "      <td>2010</td>\n",
       "      <td>44.000000</td>\n",
       "      <td>1088</td>\n",
       "      <td>18:08</td>\n",
       "    </tr>\n",
       "    <tr>\n",
       "      <th>1</th>\n",
       "      <td>Back to You (feat. Bebe Rexha &amp; Digital Farm A...</td>\n",
       "      <td>Single</td>\n",
       "      <td>2</td>\n",
       "      <td>Solista</td>\n",
       "      <td>2017</td>\n",
       "      <td>47.500000</td>\n",
       "      <td>452</td>\n",
       "      <td>07:32</td>\n",
       "    </tr>\n",
       "    <tr>\n",
       "      <th>2</th>\n",
       "      <td>Best Song Ever (From THIS IS US)</td>\n",
       "      <td>Single</td>\n",
       "      <td>4</td>\n",
       "      <td>One Direction</td>\n",
       "      <td>2013</td>\n",
       "      <td>30.500000</td>\n",
       "      <td>842</td>\n",
       "      <td>14:02</td>\n",
       "    </tr>\n",
       "    <tr>\n",
       "      <th>3</th>\n",
       "      <td>Bigger Than Me</td>\n",
       "      <td>Single</td>\n",
       "      <td>1</td>\n",
       "      <td>Solista</td>\n",
       "      <td>2022</td>\n",
       "      <td>21.000000</td>\n",
       "      <td>221</td>\n",
       "      <td>03:41</td>\n",
       "    </tr>\n",
       "    <tr>\n",
       "      <th>4</th>\n",
       "      <td>Bigger Than Me (Live from Milan)</td>\n",
       "      <td>Single</td>\n",
       "      <td>2</td>\n",
       "      <td>Solista</td>\n",
       "      <td>2022</td>\n",
       "      <td>20.000000</td>\n",
       "      <td>444</td>\n",
       "      <td>07:24</td>\n",
       "    </tr>\n",
       "    <tr>\n",
       "      <th>5</th>\n",
       "      <td>Don't Let It Break Your Heart</td>\n",
       "      <td>Single</td>\n",
       "      <td>2</td>\n",
       "      <td>Solista</td>\n",
       "      <td>2019</td>\n",
       "      <td>32.000000</td>\n",
       "      <td>400</td>\n",
       "      <td>06:40</td>\n",
       "    </tr>\n",
       "    <tr>\n",
       "      <th>6</th>\n",
       "      <td>FOUR (Deluxe)</td>\n",
       "      <td>Álbum</td>\n",
       "      <td>16</td>\n",
       "      <td>One Direction</td>\n",
       "      <td>2014</td>\n",
       "      <td>63.187500</td>\n",
       "      <td>3428</td>\n",
       "      <td>57:08</td>\n",
       "    </tr>\n",
       "    <tr>\n",
       "      <th>7</th>\n",
       "      <td>Faith In The Future (Bonus Edition)</td>\n",
       "      <td>Álbum</td>\n",
       "      <td>19</td>\n",
       "      <td>Solista</td>\n",
       "      <td>2023</td>\n",
       "      <td>37.473684</td>\n",
       "      <td>3720</td>\n",
       "      <td>62:00</td>\n",
       "    </tr>\n",
       "    <tr>\n",
       "      <th>8</th>\n",
       "      <td>Faith In The Future (Deluxe)</td>\n",
       "      <td>Álbum</td>\n",
       "      <td>16</td>\n",
       "      <td>Solista</td>\n",
       "      <td>2022</td>\n",
       "      <td>53.375000</td>\n",
       "      <td>3097</td>\n",
       "      <td>51:37</td>\n",
       "    </tr>\n",
       "    <tr>\n",
       "      <th>9</th>\n",
       "      <td>Just Hold On</td>\n",
       "      <td>Single</td>\n",
       "      <td>1</td>\n",
       "      <td>Solista</td>\n",
       "      <td>2016</td>\n",
       "      <td>56.000000</td>\n",
       "      <td>198</td>\n",
       "      <td>03:18</td>\n",
       "    </tr>\n",
       "  </tbody>\n",
       "</table>\n",
       "</div>"
      ],
      "text/plain": [
       "                                               Álbum    Tipo  Canción  \\\n",
       "0                                      Acoustic - EP  Single        5   \n",
       "1  Back to You (feat. Bebe Rexha & Digital Farm A...  Single        2   \n",
       "2                   Best Song Ever (From THIS IS US)  Single        4   \n",
       "3                                     Bigger Than Me  Single        1   \n",
       "4                   Bigger Than Me (Live from Milan)  Single        2   \n",
       "5                      Don't Let It Break Your Heart  Single        2   \n",
       "6                                      FOUR (Deluxe)   Álbum       16   \n",
       "7                Faith In The Future (Bonus Edition)   Álbum       19   \n",
       "8                       Faith In The Future (Deluxe)   Álbum       16   \n",
       "9                                       Just Hold On  Single        1   \n",
       "\n",
       "           Etapa   Año  Popularidad  Duración_segundos Duración  \n",
       "0  One Direction  2010    44.000000               1088    18:08  \n",
       "1        Solista  2017    47.500000                452    07:32  \n",
       "2  One Direction  2013    30.500000                842    14:02  \n",
       "3        Solista  2022    21.000000                221    03:41  \n",
       "4        Solista  2022    20.000000                444    07:24  \n",
       "5        Solista  2019    32.000000                400    06:40  \n",
       "6  One Direction  2014    63.187500               3428    57:08  \n",
       "7        Solista  2023    37.473684               3720    62:00  \n",
       "8        Solista  2022    53.375000               3097    51:37  \n",
       "9        Solista  2016    56.000000                198    03:18  "
      ]
     },
     "execution_count": 205,
     "metadata": {},
     "output_type": "execute_result"
    }
   ],
   "source": [
    "df_albumnes = df_concat.groupby(\"Álbum\").agg({\"Tipo\" : \"first\", \"Canción\" : \"count\" ,\"Etapa\" : \"first\" , \"Año\" : \"first\", \"Popularidad\" : \"mean\", \"Duración_segundos\" : \"sum\"}).reset_index()\n",
    "df_albumnes[\"Duración\"] = df_albumnes[\"Duración_segundos\"].apply(lambda x:'{:02d}:{:02d}'.format(*divmod(int(x), 60)))\n",
    "df_albumnes.head(10)"
   ]
  },
  {
   "cell_type": "code",
   "execution_count": 206,
   "metadata": {},
   "outputs": [
    {
     "data": {
      "text/html": [
       "<div>\n",
       "<style scoped>\n",
       "    .dataframe tbody tr th:only-of-type {\n",
       "        vertical-align: middle;\n",
       "    }\n",
       "\n",
       "    .dataframe tbody tr th {\n",
       "        vertical-align: top;\n",
       "    }\n",
       "\n",
       "    .dataframe thead th {\n",
       "        text-align: right;\n",
       "    }\n",
       "</style>\n",
       "<table border=\"1\" class=\"dataframe\">\n",
       "  <thead>\n",
       "    <tr style=\"text-align: right;\">\n",
       "      <th></th>\n",
       "      <th>index</th>\n",
       "      <th>Álbum</th>\n",
       "      <th>Tipo</th>\n",
       "      <th>Canción</th>\n",
       "      <th>Etapa</th>\n",
       "      <th>Año</th>\n",
       "      <th>Popularidad</th>\n",
       "      <th>Duración_segundos</th>\n",
       "      <th>Duración</th>\n",
       "    </tr>\n",
       "  </thead>\n",
       "  <tbody>\n",
       "    <tr>\n",
       "      <th>0</th>\n",
       "      <td>25</td>\n",
       "      <td>Take Me Home (Expanded Edition)</td>\n",
       "      <td>Álbum</td>\n",
       "      <td>20</td>\n",
       "      <td>One Direction</td>\n",
       "      <td>2012</td>\n",
       "      <td>59.500000</td>\n",
       "      <td>3891</td>\n",
       "      <td>64:51</td>\n",
       "    </tr>\n",
       "    <tr>\n",
       "      <th>1</th>\n",
       "      <td>28</td>\n",
       "      <td>Up All Night</td>\n",
       "      <td>Álbum</td>\n",
       "      <td>18</td>\n",
       "      <td>One Direction</td>\n",
       "      <td>2012</td>\n",
       "      <td>58.000000</td>\n",
       "      <td>3772</td>\n",
       "      <td>62:52</td>\n",
       "    </tr>\n",
       "    <tr>\n",
       "      <th>2</th>\n",
       "      <td>7</td>\n",
       "      <td>Faith In The Future (Bonus Edition)</td>\n",
       "      <td>Álbum</td>\n",
       "      <td>19</td>\n",
       "      <td>Solista</td>\n",
       "      <td>2023</td>\n",
       "      <td>37.473684</td>\n",
       "      <td>3720</td>\n",
       "      <td>62:00</td>\n",
       "    </tr>\n",
       "    <tr>\n",
       "      <th>3</th>\n",
       "      <td>17</td>\n",
       "      <td>Midnight Memories (Deluxe)</td>\n",
       "      <td>Álbum</td>\n",
       "      <td>18</td>\n",
       "      <td>One Direction</td>\n",
       "      <td>2013</td>\n",
       "      <td>62.555556</td>\n",
       "      <td>3563</td>\n",
       "      <td>59:23</td>\n",
       "    </tr>\n",
       "    <tr>\n",
       "      <th>4</th>\n",
       "      <td>13</td>\n",
       "      <td>LIVE</td>\n",
       "      <td>Álbum</td>\n",
       "      <td>14</td>\n",
       "      <td>Solista</td>\n",
       "      <td>2024</td>\n",
       "      <td>44.428571</td>\n",
       "      <td>3553</td>\n",
       "      <td>59:13</td>\n",
       "    </tr>\n",
       "    <tr>\n",
       "      <th>5</th>\n",
       "      <td>15</td>\n",
       "      <td>Made In The A.M. (Deluxe Edition)</td>\n",
       "      <td>Álbum</td>\n",
       "      <td>17</td>\n",
       "      <td>One Direction</td>\n",
       "      <td>2015</td>\n",
       "      <td>62.470588</td>\n",
       "      <td>3506</td>\n",
       "      <td>58:26</td>\n",
       "    </tr>\n",
       "    <tr>\n",
       "      <th>6</th>\n",
       "      <td>23</td>\n",
       "      <td>Remixes - EP</td>\n",
       "      <td>Single</td>\n",
       "      <td>14</td>\n",
       "      <td>One Direction</td>\n",
       "      <td>2010</td>\n",
       "      <td>25.857143</td>\n",
       "      <td>3443</td>\n",
       "      <td>57:23</td>\n",
       "    </tr>\n",
       "    <tr>\n",
       "      <th>7</th>\n",
       "      <td>6</td>\n",
       "      <td>FOUR (Deluxe)</td>\n",
       "      <td>Álbum</td>\n",
       "      <td>16</td>\n",
       "      <td>One Direction</td>\n",
       "      <td>2014</td>\n",
       "      <td>63.187500</td>\n",
       "      <td>3428</td>\n",
       "      <td>57:08</td>\n",
       "    </tr>\n",
       "    <tr>\n",
       "      <th>8</th>\n",
       "      <td>8</td>\n",
       "      <td>Faith In The Future (Deluxe)</td>\n",
       "      <td>Álbum</td>\n",
       "      <td>16</td>\n",
       "      <td>Solista</td>\n",
       "      <td>2022</td>\n",
       "      <td>53.375000</td>\n",
       "      <td>3097</td>\n",
       "      <td>51:37</td>\n",
       "    </tr>\n",
       "    <tr>\n",
       "      <th>9</th>\n",
       "      <td>29</td>\n",
       "      <td>Walls</td>\n",
       "      <td>Álbum</td>\n",
       "      <td>13</td>\n",
       "      <td>Solista</td>\n",
       "      <td>2020</td>\n",
       "      <td>50.846154</td>\n",
       "      <td>2599</td>\n",
       "      <td>43:19</td>\n",
       "    </tr>\n",
       "  </tbody>\n",
       "</table>\n",
       "</div>"
      ],
      "text/plain": [
       "   index                                Álbum    Tipo  Canción          Etapa  \\\n",
       "0     25      Take Me Home (Expanded Edition)   Álbum       20  One Direction   \n",
       "1     28                         Up All Night   Álbum       18  One Direction   \n",
       "2      7  Faith In The Future (Bonus Edition)   Álbum       19        Solista   \n",
       "3     17           Midnight Memories (Deluxe)   Álbum       18  One Direction   \n",
       "4     13                                 LIVE   Álbum       14        Solista   \n",
       "5     15    Made In The A.M. (Deluxe Edition)   Álbum       17  One Direction   \n",
       "6     23                         Remixes - EP  Single       14  One Direction   \n",
       "7      6                        FOUR (Deluxe)   Álbum       16  One Direction   \n",
       "8      8         Faith In The Future (Deluxe)   Álbum       16        Solista   \n",
       "9     29                                Walls   Álbum       13        Solista   \n",
       "\n",
       "    Año  Popularidad  Duración_segundos Duración  \n",
       "0  2012    59.500000               3891    64:51  \n",
       "1  2012    58.000000               3772    62:52  \n",
       "2  2023    37.473684               3720    62:00  \n",
       "3  2013    62.555556               3563    59:23  \n",
       "4  2024    44.428571               3553    59:13  \n",
       "5  2015    62.470588               3506    58:26  \n",
       "6  2010    25.857143               3443    57:23  \n",
       "7  2014    63.187500               3428    57:08  \n",
       "8  2022    53.375000               3097    51:37  \n",
       "9  2020    50.846154               2599    43:19  "
      ]
     },
     "execution_count": 206,
     "metadata": {},
     "output_type": "execute_result"
    }
   ],
   "source": [
    "albumnes_duracion = df_albumnes.sort_values(by=[\"Duración_segundos\"], ascending=False).reset_index().head(10)\n",
    "albumnes_duracion"
   ]
  },
  {
   "cell_type": "code",
   "execution_count": 207,
   "metadata": {},
   "outputs": [
    {
     "data": {
      "application/vnd.plotly.v1+json": {
       "config": {
        "plotlyServerURL": "https://plot.ly"
       },
       "data": [
        {
         "alignmentgroup": "True",
         "customdata": [
          [
           "64:51",
           "Álbum"
          ],
          [
           "62:52",
           "Álbum"
          ],
          [
           "59:23",
           "Álbum"
          ],
          [
           "58:26",
           "Álbum"
          ],
          [
           "57:23",
           "Single"
          ],
          [
           "57:08",
           "Álbum"
          ]
         ],
         "hovertemplate": "Etapa=One Direction<br>Álbum=%{x}<br>Duración_segundos=%{y}<br>Duración=%{customdata[0]}<br>Tipo=%{customdata[1]}<extra></extra>",
         "legendgroup": "One Direction",
         "marker": {
          "color": "blue",
          "pattern": {
           "shape": ""
          }
         },
         "name": "One Direction",
         "offsetgroup": "One Direction",
         "orientation": "v",
         "showlegend": true,
         "text": [
          "64:51",
          "62:52",
          "59:23",
          "58:26",
          "57:23",
          "57:08"
         ],
         "textposition": "auto",
         "type": "bar",
         "x": [
          "Take Me Home (Expanded Edition)",
          "Up All Night",
          "Midnight Memories (Deluxe)",
          "Made In The A.M. (Deluxe Edition)",
          "Remixes - EP",
          "FOUR (Deluxe)"
         ],
         "xaxis": "x",
         "y": [
          3891,
          3772,
          3563,
          3506,
          3443,
          3428
         ],
         "yaxis": "y"
        },
        {
         "alignmentgroup": "True",
         "customdata": [
          [
           "62:00",
           "Álbum"
          ],
          [
           "59:13",
           "Álbum"
          ],
          [
           "51:37",
           "Álbum"
          ],
          [
           "43:19",
           "Álbum"
          ]
         ],
         "hovertemplate": "Etapa=Solista<br>Álbum=%{x}<br>Duración_segundos=%{y}<br>Duración=%{customdata[0]}<br>Tipo=%{customdata[1]}<extra></extra>",
         "legendgroup": "Solista",
         "marker": {
          "color": "red",
          "pattern": {
           "shape": ""
          }
         },
         "name": "Solista",
         "offsetgroup": "Solista",
         "orientation": "v",
         "showlegend": true,
         "text": [
          "62:00",
          "59:13",
          "51:37",
          "43:19"
         ],
         "textposition": "auto",
         "type": "bar",
         "x": [
          "Faith In The Future (Bonus Edition)",
          "LIVE",
          "Faith In The Future (Deluxe)",
          "Walls"
         ],
         "xaxis": "x",
         "y": [
          3720,
          3553,
          3097,
          2599
         ],
         "yaxis": "y"
        }
       ],
       "layout": {
        "barmode": "relative",
        "height": 600,
        "legend": {
         "title": {
          "text": "Etapa"
         },
         "tracegroupgap": 0
        },
        "margin": {
         "b": 200,
         "l": 50,
         "r": 50,
         "t": 100
        },
        "template": {
         "data": {
          "bar": [
           {
            "error_x": {
             "color": "#f2f5fa"
            },
            "error_y": {
             "color": "#f2f5fa"
            },
            "marker": {
             "line": {
              "color": "rgb(17,17,17)",
              "width": 0.5
             },
             "pattern": {
              "fillmode": "overlay",
              "size": 10,
              "solidity": 0.2
             }
            },
            "type": "bar"
           }
          ],
          "barpolar": [
           {
            "marker": {
             "line": {
              "color": "rgb(17,17,17)",
              "width": 0.5
             },
             "pattern": {
              "fillmode": "overlay",
              "size": 10,
              "solidity": 0.2
             }
            },
            "type": "barpolar"
           }
          ],
          "carpet": [
           {
            "aaxis": {
             "endlinecolor": "#A2B1C6",
             "gridcolor": "#506784",
             "linecolor": "#506784",
             "minorgridcolor": "#506784",
             "startlinecolor": "#A2B1C6"
            },
            "baxis": {
             "endlinecolor": "#A2B1C6",
             "gridcolor": "#506784",
             "linecolor": "#506784",
             "minorgridcolor": "#506784",
             "startlinecolor": "#A2B1C6"
            },
            "type": "carpet"
           }
          ],
          "choropleth": [
           {
            "colorbar": {
             "outlinewidth": 0,
             "ticks": ""
            },
            "type": "choropleth"
           }
          ],
          "contour": [
           {
            "colorbar": {
             "outlinewidth": 0,
             "ticks": ""
            },
            "colorscale": [
             [
              0,
              "#0d0887"
             ],
             [
              0.1111111111111111,
              "#46039f"
             ],
             [
              0.2222222222222222,
              "#7201a8"
             ],
             [
              0.3333333333333333,
              "#9c179e"
             ],
             [
              0.4444444444444444,
              "#bd3786"
             ],
             [
              0.5555555555555556,
              "#d8576b"
             ],
             [
              0.6666666666666666,
              "#ed7953"
             ],
             [
              0.7777777777777778,
              "#fb9f3a"
             ],
             [
              0.8888888888888888,
              "#fdca26"
             ],
             [
              1,
              "#f0f921"
             ]
            ],
            "type": "contour"
           }
          ],
          "contourcarpet": [
           {
            "colorbar": {
             "outlinewidth": 0,
             "ticks": ""
            },
            "type": "contourcarpet"
           }
          ],
          "heatmap": [
           {
            "colorbar": {
             "outlinewidth": 0,
             "ticks": ""
            },
            "colorscale": [
             [
              0,
              "#0d0887"
             ],
             [
              0.1111111111111111,
              "#46039f"
             ],
             [
              0.2222222222222222,
              "#7201a8"
             ],
             [
              0.3333333333333333,
              "#9c179e"
             ],
             [
              0.4444444444444444,
              "#bd3786"
             ],
             [
              0.5555555555555556,
              "#d8576b"
             ],
             [
              0.6666666666666666,
              "#ed7953"
             ],
             [
              0.7777777777777778,
              "#fb9f3a"
             ],
             [
              0.8888888888888888,
              "#fdca26"
             ],
             [
              1,
              "#f0f921"
             ]
            ],
            "type": "heatmap"
           }
          ],
          "heatmapgl": [
           {
            "colorbar": {
             "outlinewidth": 0,
             "ticks": ""
            },
            "colorscale": [
             [
              0,
              "#0d0887"
             ],
             [
              0.1111111111111111,
              "#46039f"
             ],
             [
              0.2222222222222222,
              "#7201a8"
             ],
             [
              0.3333333333333333,
              "#9c179e"
             ],
             [
              0.4444444444444444,
              "#bd3786"
             ],
             [
              0.5555555555555556,
              "#d8576b"
             ],
             [
              0.6666666666666666,
              "#ed7953"
             ],
             [
              0.7777777777777778,
              "#fb9f3a"
             ],
             [
              0.8888888888888888,
              "#fdca26"
             ],
             [
              1,
              "#f0f921"
             ]
            ],
            "type": "heatmapgl"
           }
          ],
          "histogram": [
           {
            "marker": {
             "pattern": {
              "fillmode": "overlay",
              "size": 10,
              "solidity": 0.2
             }
            },
            "type": "histogram"
           }
          ],
          "histogram2d": [
           {
            "colorbar": {
             "outlinewidth": 0,
             "ticks": ""
            },
            "colorscale": [
             [
              0,
              "#0d0887"
             ],
             [
              0.1111111111111111,
              "#46039f"
             ],
             [
              0.2222222222222222,
              "#7201a8"
             ],
             [
              0.3333333333333333,
              "#9c179e"
             ],
             [
              0.4444444444444444,
              "#bd3786"
             ],
             [
              0.5555555555555556,
              "#d8576b"
             ],
             [
              0.6666666666666666,
              "#ed7953"
             ],
             [
              0.7777777777777778,
              "#fb9f3a"
             ],
             [
              0.8888888888888888,
              "#fdca26"
             ],
             [
              1,
              "#f0f921"
             ]
            ],
            "type": "histogram2d"
           }
          ],
          "histogram2dcontour": [
           {
            "colorbar": {
             "outlinewidth": 0,
             "ticks": ""
            },
            "colorscale": [
             [
              0,
              "#0d0887"
             ],
             [
              0.1111111111111111,
              "#46039f"
             ],
             [
              0.2222222222222222,
              "#7201a8"
             ],
             [
              0.3333333333333333,
              "#9c179e"
             ],
             [
              0.4444444444444444,
              "#bd3786"
             ],
             [
              0.5555555555555556,
              "#d8576b"
             ],
             [
              0.6666666666666666,
              "#ed7953"
             ],
             [
              0.7777777777777778,
              "#fb9f3a"
             ],
             [
              0.8888888888888888,
              "#fdca26"
             ],
             [
              1,
              "#f0f921"
             ]
            ],
            "type": "histogram2dcontour"
           }
          ],
          "mesh3d": [
           {
            "colorbar": {
             "outlinewidth": 0,
             "ticks": ""
            },
            "type": "mesh3d"
           }
          ],
          "parcoords": [
           {
            "line": {
             "colorbar": {
              "outlinewidth": 0,
              "ticks": ""
             }
            },
            "type": "parcoords"
           }
          ],
          "pie": [
           {
            "automargin": true,
            "type": "pie"
           }
          ],
          "scatter": [
           {
            "marker": {
             "line": {
              "color": "#283442"
             }
            },
            "type": "scatter"
           }
          ],
          "scatter3d": [
           {
            "line": {
             "colorbar": {
              "outlinewidth": 0,
              "ticks": ""
             }
            },
            "marker": {
             "colorbar": {
              "outlinewidth": 0,
              "ticks": ""
             }
            },
            "type": "scatter3d"
           }
          ],
          "scattercarpet": [
           {
            "marker": {
             "colorbar": {
              "outlinewidth": 0,
              "ticks": ""
             }
            },
            "type": "scattercarpet"
           }
          ],
          "scattergeo": [
           {
            "marker": {
             "colorbar": {
              "outlinewidth": 0,
              "ticks": ""
             }
            },
            "type": "scattergeo"
           }
          ],
          "scattergl": [
           {
            "marker": {
             "line": {
              "color": "#283442"
             }
            },
            "type": "scattergl"
           }
          ],
          "scattermapbox": [
           {
            "marker": {
             "colorbar": {
              "outlinewidth": 0,
              "ticks": ""
             }
            },
            "type": "scattermapbox"
           }
          ],
          "scatterpolar": [
           {
            "marker": {
             "colorbar": {
              "outlinewidth": 0,
              "ticks": ""
             }
            },
            "type": "scatterpolar"
           }
          ],
          "scatterpolargl": [
           {
            "marker": {
             "colorbar": {
              "outlinewidth": 0,
              "ticks": ""
             }
            },
            "type": "scatterpolargl"
           }
          ],
          "scatterternary": [
           {
            "marker": {
             "colorbar": {
              "outlinewidth": 0,
              "ticks": ""
             }
            },
            "type": "scatterternary"
           }
          ],
          "surface": [
           {
            "colorbar": {
             "outlinewidth": 0,
             "ticks": ""
            },
            "colorscale": [
             [
              0,
              "#0d0887"
             ],
             [
              0.1111111111111111,
              "#46039f"
             ],
             [
              0.2222222222222222,
              "#7201a8"
             ],
             [
              0.3333333333333333,
              "#9c179e"
             ],
             [
              0.4444444444444444,
              "#bd3786"
             ],
             [
              0.5555555555555556,
              "#d8576b"
             ],
             [
              0.6666666666666666,
              "#ed7953"
             ],
             [
              0.7777777777777778,
              "#fb9f3a"
             ],
             [
              0.8888888888888888,
              "#fdca26"
             ],
             [
              1,
              "#f0f921"
             ]
            ],
            "type": "surface"
           }
          ],
          "table": [
           {
            "cells": {
             "fill": {
              "color": "#506784"
             },
             "line": {
              "color": "rgb(17,17,17)"
             }
            },
            "header": {
             "fill": {
              "color": "#2a3f5f"
             },
             "line": {
              "color": "rgb(17,17,17)"
             }
            },
            "type": "table"
           }
          ]
         },
         "layout": {
          "annotationdefaults": {
           "arrowcolor": "#f2f5fa",
           "arrowhead": 0,
           "arrowwidth": 1
          },
          "autotypenumbers": "strict",
          "coloraxis": {
           "colorbar": {
            "outlinewidth": 0,
            "ticks": ""
           }
          },
          "colorscale": {
           "diverging": [
            [
             0,
             "#8e0152"
            ],
            [
             0.1,
             "#c51b7d"
            ],
            [
             0.2,
             "#de77ae"
            ],
            [
             0.3,
             "#f1b6da"
            ],
            [
             0.4,
             "#fde0ef"
            ],
            [
             0.5,
             "#f7f7f7"
            ],
            [
             0.6,
             "#e6f5d0"
            ],
            [
             0.7,
             "#b8e186"
            ],
            [
             0.8,
             "#7fbc41"
            ],
            [
             0.9,
             "#4d9221"
            ],
            [
             1,
             "#276419"
            ]
           ],
           "sequential": [
            [
             0,
             "#0d0887"
            ],
            [
             0.1111111111111111,
             "#46039f"
            ],
            [
             0.2222222222222222,
             "#7201a8"
            ],
            [
             0.3333333333333333,
             "#9c179e"
            ],
            [
             0.4444444444444444,
             "#bd3786"
            ],
            [
             0.5555555555555556,
             "#d8576b"
            ],
            [
             0.6666666666666666,
             "#ed7953"
            ],
            [
             0.7777777777777778,
             "#fb9f3a"
            ],
            [
             0.8888888888888888,
             "#fdca26"
            ],
            [
             1,
             "#f0f921"
            ]
           ],
           "sequentialminus": [
            [
             0,
             "#0d0887"
            ],
            [
             0.1111111111111111,
             "#46039f"
            ],
            [
             0.2222222222222222,
             "#7201a8"
            ],
            [
             0.3333333333333333,
             "#9c179e"
            ],
            [
             0.4444444444444444,
             "#bd3786"
            ],
            [
             0.5555555555555556,
             "#d8576b"
            ],
            [
             0.6666666666666666,
             "#ed7953"
            ],
            [
             0.7777777777777778,
             "#fb9f3a"
            ],
            [
             0.8888888888888888,
             "#fdca26"
            ],
            [
             1,
             "#f0f921"
            ]
           ]
          },
          "colorway": [
           "#636efa",
           "#EF553B",
           "#00cc96",
           "#ab63fa",
           "#FFA15A",
           "#19d3f3",
           "#FF6692",
           "#B6E880",
           "#FF97FF",
           "#FECB52"
          ],
          "font": {
           "color": "#f2f5fa"
          },
          "geo": {
           "bgcolor": "rgb(17,17,17)",
           "lakecolor": "rgb(17,17,17)",
           "landcolor": "rgb(17,17,17)",
           "showlakes": true,
           "showland": true,
           "subunitcolor": "#506784"
          },
          "hoverlabel": {
           "align": "left"
          },
          "hovermode": "closest",
          "mapbox": {
           "style": "dark"
          },
          "paper_bgcolor": "rgb(17,17,17)",
          "plot_bgcolor": "rgb(17,17,17)",
          "polar": {
           "angularaxis": {
            "gridcolor": "#506784",
            "linecolor": "#506784",
            "ticks": ""
           },
           "bgcolor": "rgb(17,17,17)",
           "radialaxis": {
            "gridcolor": "#506784",
            "linecolor": "#506784",
            "ticks": ""
           }
          },
          "scene": {
           "xaxis": {
            "backgroundcolor": "rgb(17,17,17)",
            "gridcolor": "#506784",
            "gridwidth": 2,
            "linecolor": "#506784",
            "showbackground": true,
            "ticks": "",
            "zerolinecolor": "#C8D4E3"
           },
           "yaxis": {
            "backgroundcolor": "rgb(17,17,17)",
            "gridcolor": "#506784",
            "gridwidth": 2,
            "linecolor": "#506784",
            "showbackground": true,
            "ticks": "",
            "zerolinecolor": "#C8D4E3"
           },
           "zaxis": {
            "backgroundcolor": "rgb(17,17,17)",
            "gridcolor": "#506784",
            "gridwidth": 2,
            "linecolor": "#506784",
            "showbackground": true,
            "ticks": "",
            "zerolinecolor": "#C8D4E3"
           }
          },
          "shapedefaults": {
           "line": {
            "color": "#f2f5fa"
           }
          },
          "sliderdefaults": {
           "bgcolor": "#C8D4E3",
           "bordercolor": "rgb(17,17,17)",
           "borderwidth": 1,
           "tickwidth": 0
          },
          "ternary": {
           "aaxis": {
            "gridcolor": "#506784",
            "linecolor": "#506784",
            "ticks": ""
           },
           "baxis": {
            "gridcolor": "#506784",
            "linecolor": "#506784",
            "ticks": ""
           },
           "bgcolor": "rgb(17,17,17)",
           "caxis": {
            "gridcolor": "#506784",
            "linecolor": "#506784",
            "ticks": ""
           }
          },
          "title": {
           "x": 0.05
          },
          "updatemenudefaults": {
           "bgcolor": "#506784",
           "borderwidth": 0
          },
          "xaxis": {
           "automargin": true,
           "gridcolor": "#283442",
           "linecolor": "#506784",
           "ticks": "",
           "title": {
            "standoff": 15
           },
           "zerolinecolor": "#283442",
           "zerolinewidth": 2
          },
          "yaxis": {
           "automargin": true,
           "gridcolor": "#283442",
           "linecolor": "#506784",
           "ticks": "",
           "title": {
            "standoff": 15
           },
           "zerolinecolor": "#283442",
           "zerolinewidth": 2
          }
         }
        },
        "title": {
         "font": {
          "color": "white",
          "size": 25
         },
         "text": "Álbumnes con más Duración: One Direction vs Solista",
         "x": 0.5,
         "xanchor": "center",
         "y": 0.9,
         "yanchor": "top"
        },
        "xaxis": {
         "anchor": "y",
         "domain": [
          0,
          1
         ],
         "tickfont": {
          "size": 12
         },
         "title": {
          "font": {
           "size": 14
          },
          "text": "Canción"
         }
        },
        "yaxis": {
         "anchor": "x",
         "domain": [
          0,
          1
         ],
         "tickfont": {
          "size": 12
         },
         "title": {
          "font": {
           "size": 14
          },
          "text": "Duración en segundos"
         }
        }
       }
      }
     },
     "metadata": {},
     "output_type": "display_data"
    }
   ],
   "source": [
    "color = {\"Solista\" : \"red\", \"One Direction\" : \"blue\"}\n",
    "fig = px.bar(albumnes_duracion, x=\"Álbum\", y=\"Duración_segundos\", text=\"Duración\",color=\"Etapa\", color_discrete_map=color, hover_data={'Duración_segundos':True, 'Duración' : True, \"Tipo\" : True},title='Álbumnes con más duración: One Direction vs Solista',\n",
    "             template='plotly_dark')\n",
    "\n",
    "\n",
    "fig.update_layout(title = {'text' : 'Álbumnes con más Duración: One Direction vs Solista','y':0.9, 'x':0.5, 'xanchor' : 'center', 'yanchor' : 'top', 'font':dict(size=25, color='white')}, height = 600, margin=dict(l=50, r=50, t=100, b=200), yaxis=dict(title='Duración en segundos', titlefont_size=14, tickfont_size=12),\n",
    "    xaxis=dict(title='Canción', titlefont_size=14, tickfont_size=12))"
   ]
  },
  {
   "cell_type": "code",
   "execution_count": 208,
   "metadata": {},
   "outputs": [
    {
     "data": {
      "text/html": [
       "<div>\n",
       "<style scoped>\n",
       "    .dataframe tbody tr th:only-of-type {\n",
       "        vertical-align: middle;\n",
       "    }\n",
       "\n",
       "    .dataframe tbody tr th {\n",
       "        vertical-align: top;\n",
       "    }\n",
       "\n",
       "    .dataframe thead th {\n",
       "        text-align: right;\n",
       "    }\n",
       "</style>\n",
       "<table border=\"1\" class=\"dataframe\">\n",
       "  <thead>\n",
       "    <tr style=\"text-align: right;\">\n",
       "      <th></th>\n",
       "      <th>index</th>\n",
       "      <th>Álbum</th>\n",
       "      <th>Tipo</th>\n",
       "      <th>Canción</th>\n",
       "      <th>Etapa</th>\n",
       "      <th>Año</th>\n",
       "      <th>Popularidad</th>\n",
       "      <th>Duración_segundos</th>\n",
       "      <th>Duración</th>\n",
       "    </tr>\n",
       "  </thead>\n",
       "  <tbody>\n",
       "    <tr>\n",
       "      <th>0</th>\n",
       "      <td>25</td>\n",
       "      <td>Take Me Home (Expanded Edition)</td>\n",
       "      <td>Álbum</td>\n",
       "      <td>20</td>\n",
       "      <td>One Direction</td>\n",
       "      <td>2012</td>\n",
       "      <td>59.500000</td>\n",
       "      <td>3891</td>\n",
       "      <td>64:51</td>\n",
       "    </tr>\n",
       "    <tr>\n",
       "      <th>1</th>\n",
       "      <td>7</td>\n",
       "      <td>Faith In The Future (Bonus Edition)</td>\n",
       "      <td>Álbum</td>\n",
       "      <td>19</td>\n",
       "      <td>Solista</td>\n",
       "      <td>2023</td>\n",
       "      <td>37.473684</td>\n",
       "      <td>3720</td>\n",
       "      <td>62:00</td>\n",
       "    </tr>\n",
       "    <tr>\n",
       "      <th>2</th>\n",
       "      <td>28</td>\n",
       "      <td>Up All Night</td>\n",
       "      <td>Álbum</td>\n",
       "      <td>18</td>\n",
       "      <td>One Direction</td>\n",
       "      <td>2012</td>\n",
       "      <td>58.000000</td>\n",
       "      <td>3772</td>\n",
       "      <td>62:52</td>\n",
       "    </tr>\n",
       "    <tr>\n",
       "      <th>3</th>\n",
       "      <td>17</td>\n",
       "      <td>Midnight Memories (Deluxe)</td>\n",
       "      <td>Álbum</td>\n",
       "      <td>18</td>\n",
       "      <td>One Direction</td>\n",
       "      <td>2013</td>\n",
       "      <td>62.555556</td>\n",
       "      <td>3563</td>\n",
       "      <td>59:23</td>\n",
       "    </tr>\n",
       "    <tr>\n",
       "      <th>4</th>\n",
       "      <td>15</td>\n",
       "      <td>Made In The A.M. (Deluxe Edition)</td>\n",
       "      <td>Álbum</td>\n",
       "      <td>17</td>\n",
       "      <td>One Direction</td>\n",
       "      <td>2015</td>\n",
       "      <td>62.470588</td>\n",
       "      <td>3506</td>\n",
       "      <td>58:26</td>\n",
       "    </tr>\n",
       "    <tr>\n",
       "      <th>5</th>\n",
       "      <td>6</td>\n",
       "      <td>FOUR (Deluxe)</td>\n",
       "      <td>Álbum</td>\n",
       "      <td>16</td>\n",
       "      <td>One Direction</td>\n",
       "      <td>2014</td>\n",
       "      <td>63.187500</td>\n",
       "      <td>3428</td>\n",
       "      <td>57:08</td>\n",
       "    </tr>\n",
       "    <tr>\n",
       "      <th>6</th>\n",
       "      <td>8</td>\n",
       "      <td>Faith In The Future (Deluxe)</td>\n",
       "      <td>Álbum</td>\n",
       "      <td>16</td>\n",
       "      <td>Solista</td>\n",
       "      <td>2022</td>\n",
       "      <td>53.375000</td>\n",
       "      <td>3097</td>\n",
       "      <td>51:37</td>\n",
       "    </tr>\n",
       "    <tr>\n",
       "      <th>7</th>\n",
       "      <td>23</td>\n",
       "      <td>Remixes - EP</td>\n",
       "      <td>Single</td>\n",
       "      <td>14</td>\n",
       "      <td>One Direction</td>\n",
       "      <td>2010</td>\n",
       "      <td>25.857143</td>\n",
       "      <td>3443</td>\n",
       "      <td>57:23</td>\n",
       "    </tr>\n",
       "    <tr>\n",
       "      <th>8</th>\n",
       "      <td>13</td>\n",
       "      <td>LIVE</td>\n",
       "      <td>Álbum</td>\n",
       "      <td>14</td>\n",
       "      <td>Solista</td>\n",
       "      <td>2024</td>\n",
       "      <td>44.428571</td>\n",
       "      <td>3553</td>\n",
       "      <td>59:13</td>\n",
       "    </tr>\n",
       "    <tr>\n",
       "      <th>9</th>\n",
       "      <td>30</td>\n",
       "      <td>Walls: Track By Track</td>\n",
       "      <td>Álbum</td>\n",
       "      <td>13</td>\n",
       "      <td>Solista</td>\n",
       "      <td>2020</td>\n",
       "      <td>14.153846</td>\n",
       "      <td>824</td>\n",
       "      <td>13:44</td>\n",
       "    </tr>\n",
       "  </tbody>\n",
       "</table>\n",
       "</div>"
      ],
      "text/plain": [
       "   index                                Álbum    Tipo  Canción          Etapa  \\\n",
       "0     25      Take Me Home (Expanded Edition)   Álbum       20  One Direction   \n",
       "1      7  Faith In The Future (Bonus Edition)   Álbum       19        Solista   \n",
       "2     28                         Up All Night   Álbum       18  One Direction   \n",
       "3     17           Midnight Memories (Deluxe)   Álbum       18  One Direction   \n",
       "4     15    Made In The A.M. (Deluxe Edition)   Álbum       17  One Direction   \n",
       "5      6                        FOUR (Deluxe)   Álbum       16  One Direction   \n",
       "6      8         Faith In The Future (Deluxe)   Álbum       16        Solista   \n",
       "7     23                         Remixes - EP  Single       14  One Direction   \n",
       "8     13                                 LIVE   Álbum       14        Solista   \n",
       "9     30                Walls: Track By Track   Álbum       13        Solista   \n",
       "\n",
       "    Año  Popularidad  Duración_segundos Duración  \n",
       "0  2012    59.500000               3891    64:51  \n",
       "1  2023    37.473684               3720    62:00  \n",
       "2  2012    58.000000               3772    62:52  \n",
       "3  2013    62.555556               3563    59:23  \n",
       "4  2015    62.470588               3506    58:26  \n",
       "5  2014    63.187500               3428    57:08  \n",
       "6  2022    53.375000               3097    51:37  \n",
       "7  2010    25.857143               3443    57:23  \n",
       "8  2024    44.428571               3553    59:13  \n",
       "9  2020    14.153846                824    13:44  "
      ]
     },
     "execution_count": 208,
     "metadata": {},
     "output_type": "execute_result"
    }
   ],
   "source": [
    "albumnes_canciones = df_albumnes.sort_values(by=[\"Canción\"], ascending=False).reset_index().head(10)\n",
    "albumnes_canciones"
   ]
  },
  {
   "cell_type": "code",
   "execution_count": 209,
   "metadata": {},
   "outputs": [
    {
     "data": {
      "application/vnd.plotly.v1+json": {
       "config": {
        "plotlyServerURL": "https://plot.ly"
       },
       "data": [
        {
         "alignmentgroup": "True",
         "customdata": [
          [
           3891,
           "64:51",
           "Álbum"
          ],
          [
           3772,
           "62:52",
           "Álbum"
          ],
          [
           3563,
           "59:23",
           "Álbum"
          ],
          [
           3506,
           "58:26",
           "Álbum"
          ],
          [
           3428,
           "57:08",
           "Álbum"
          ],
          [
           3443,
           "57:23",
           "Single"
          ]
         ],
         "hovertemplate": "Etapa=One Direction<br>Álbum=%{x}<br>Canción=%{text}<br>Duración_segundos=%{customdata[0]}<br>Duración=%{customdata[1]}<br>Tipo=%{customdata[2]}<extra></extra>",
         "legendgroup": "One Direction",
         "marker": {
          "color": "blue",
          "pattern": {
           "shape": ""
          }
         },
         "name": "One Direction",
         "offsetgroup": "One Direction",
         "orientation": "v",
         "showlegend": true,
         "text": [
          20,
          18,
          18,
          17,
          16,
          14
         ],
         "textposition": "auto",
         "type": "bar",
         "x": [
          "Take Me Home (Expanded Edition)",
          "Up All Night",
          "Midnight Memories (Deluxe)",
          "Made In The A.M. (Deluxe Edition)",
          "FOUR (Deluxe)",
          "Remixes - EP"
         ],
         "xaxis": "x",
         "y": [
          20,
          18,
          18,
          17,
          16,
          14
         ],
         "yaxis": "y"
        },
        {
         "alignmentgroup": "True",
         "customdata": [
          [
           3720,
           "62:00",
           "Álbum"
          ],
          [
           3097,
           "51:37",
           "Álbum"
          ],
          [
           3553,
           "59:13",
           "Álbum"
          ],
          [
           824,
           "13:44",
           "Álbum"
          ]
         ],
         "hovertemplate": "Etapa=Solista<br>Álbum=%{x}<br>Canción=%{text}<br>Duración_segundos=%{customdata[0]}<br>Duración=%{customdata[1]}<br>Tipo=%{customdata[2]}<extra></extra>",
         "legendgroup": "Solista",
         "marker": {
          "color": "red",
          "pattern": {
           "shape": ""
          }
         },
         "name": "Solista",
         "offsetgroup": "Solista",
         "orientation": "v",
         "showlegend": true,
         "text": [
          19,
          16,
          14,
          13
         ],
         "textposition": "auto",
         "type": "bar",
         "x": [
          "Faith In The Future (Bonus Edition)",
          "Faith In The Future (Deluxe)",
          "LIVE",
          "Walls: Track By Track"
         ],
         "xaxis": "x",
         "y": [
          19,
          16,
          14,
          13
         ],
         "yaxis": "y"
        }
       ],
       "layout": {
        "barmode": "relative",
        "height": 600,
        "legend": {
         "title": {
          "text": "Etapa"
         },
         "tracegroupgap": 0
        },
        "margin": {
         "b": 200,
         "l": 50,
         "r": 50,
         "t": 100
        },
        "template": {
         "data": {
          "bar": [
           {
            "error_x": {
             "color": "#f2f5fa"
            },
            "error_y": {
             "color": "#f2f5fa"
            },
            "marker": {
             "line": {
              "color": "rgb(17,17,17)",
              "width": 0.5
             },
             "pattern": {
              "fillmode": "overlay",
              "size": 10,
              "solidity": 0.2
             }
            },
            "type": "bar"
           }
          ],
          "barpolar": [
           {
            "marker": {
             "line": {
              "color": "rgb(17,17,17)",
              "width": 0.5
             },
             "pattern": {
              "fillmode": "overlay",
              "size": 10,
              "solidity": 0.2
             }
            },
            "type": "barpolar"
           }
          ],
          "carpet": [
           {
            "aaxis": {
             "endlinecolor": "#A2B1C6",
             "gridcolor": "#506784",
             "linecolor": "#506784",
             "minorgridcolor": "#506784",
             "startlinecolor": "#A2B1C6"
            },
            "baxis": {
             "endlinecolor": "#A2B1C6",
             "gridcolor": "#506784",
             "linecolor": "#506784",
             "minorgridcolor": "#506784",
             "startlinecolor": "#A2B1C6"
            },
            "type": "carpet"
           }
          ],
          "choropleth": [
           {
            "colorbar": {
             "outlinewidth": 0,
             "ticks": ""
            },
            "type": "choropleth"
           }
          ],
          "contour": [
           {
            "colorbar": {
             "outlinewidth": 0,
             "ticks": ""
            },
            "colorscale": [
             [
              0,
              "#0d0887"
             ],
             [
              0.1111111111111111,
              "#46039f"
             ],
             [
              0.2222222222222222,
              "#7201a8"
             ],
             [
              0.3333333333333333,
              "#9c179e"
             ],
             [
              0.4444444444444444,
              "#bd3786"
             ],
             [
              0.5555555555555556,
              "#d8576b"
             ],
             [
              0.6666666666666666,
              "#ed7953"
             ],
             [
              0.7777777777777778,
              "#fb9f3a"
             ],
             [
              0.8888888888888888,
              "#fdca26"
             ],
             [
              1,
              "#f0f921"
             ]
            ],
            "type": "contour"
           }
          ],
          "contourcarpet": [
           {
            "colorbar": {
             "outlinewidth": 0,
             "ticks": ""
            },
            "type": "contourcarpet"
           }
          ],
          "heatmap": [
           {
            "colorbar": {
             "outlinewidth": 0,
             "ticks": ""
            },
            "colorscale": [
             [
              0,
              "#0d0887"
             ],
             [
              0.1111111111111111,
              "#46039f"
             ],
             [
              0.2222222222222222,
              "#7201a8"
             ],
             [
              0.3333333333333333,
              "#9c179e"
             ],
             [
              0.4444444444444444,
              "#bd3786"
             ],
             [
              0.5555555555555556,
              "#d8576b"
             ],
             [
              0.6666666666666666,
              "#ed7953"
             ],
             [
              0.7777777777777778,
              "#fb9f3a"
             ],
             [
              0.8888888888888888,
              "#fdca26"
             ],
             [
              1,
              "#f0f921"
             ]
            ],
            "type": "heatmap"
           }
          ],
          "heatmapgl": [
           {
            "colorbar": {
             "outlinewidth": 0,
             "ticks": ""
            },
            "colorscale": [
             [
              0,
              "#0d0887"
             ],
             [
              0.1111111111111111,
              "#46039f"
             ],
             [
              0.2222222222222222,
              "#7201a8"
             ],
             [
              0.3333333333333333,
              "#9c179e"
             ],
             [
              0.4444444444444444,
              "#bd3786"
             ],
             [
              0.5555555555555556,
              "#d8576b"
             ],
             [
              0.6666666666666666,
              "#ed7953"
             ],
             [
              0.7777777777777778,
              "#fb9f3a"
             ],
             [
              0.8888888888888888,
              "#fdca26"
             ],
             [
              1,
              "#f0f921"
             ]
            ],
            "type": "heatmapgl"
           }
          ],
          "histogram": [
           {
            "marker": {
             "pattern": {
              "fillmode": "overlay",
              "size": 10,
              "solidity": 0.2
             }
            },
            "type": "histogram"
           }
          ],
          "histogram2d": [
           {
            "colorbar": {
             "outlinewidth": 0,
             "ticks": ""
            },
            "colorscale": [
             [
              0,
              "#0d0887"
             ],
             [
              0.1111111111111111,
              "#46039f"
             ],
             [
              0.2222222222222222,
              "#7201a8"
             ],
             [
              0.3333333333333333,
              "#9c179e"
             ],
             [
              0.4444444444444444,
              "#bd3786"
             ],
             [
              0.5555555555555556,
              "#d8576b"
             ],
             [
              0.6666666666666666,
              "#ed7953"
             ],
             [
              0.7777777777777778,
              "#fb9f3a"
             ],
             [
              0.8888888888888888,
              "#fdca26"
             ],
             [
              1,
              "#f0f921"
             ]
            ],
            "type": "histogram2d"
           }
          ],
          "histogram2dcontour": [
           {
            "colorbar": {
             "outlinewidth": 0,
             "ticks": ""
            },
            "colorscale": [
             [
              0,
              "#0d0887"
             ],
             [
              0.1111111111111111,
              "#46039f"
             ],
             [
              0.2222222222222222,
              "#7201a8"
             ],
             [
              0.3333333333333333,
              "#9c179e"
             ],
             [
              0.4444444444444444,
              "#bd3786"
             ],
             [
              0.5555555555555556,
              "#d8576b"
             ],
             [
              0.6666666666666666,
              "#ed7953"
             ],
             [
              0.7777777777777778,
              "#fb9f3a"
             ],
             [
              0.8888888888888888,
              "#fdca26"
             ],
             [
              1,
              "#f0f921"
             ]
            ],
            "type": "histogram2dcontour"
           }
          ],
          "mesh3d": [
           {
            "colorbar": {
             "outlinewidth": 0,
             "ticks": ""
            },
            "type": "mesh3d"
           }
          ],
          "parcoords": [
           {
            "line": {
             "colorbar": {
              "outlinewidth": 0,
              "ticks": ""
             }
            },
            "type": "parcoords"
           }
          ],
          "pie": [
           {
            "automargin": true,
            "type": "pie"
           }
          ],
          "scatter": [
           {
            "marker": {
             "line": {
              "color": "#283442"
             }
            },
            "type": "scatter"
           }
          ],
          "scatter3d": [
           {
            "line": {
             "colorbar": {
              "outlinewidth": 0,
              "ticks": ""
             }
            },
            "marker": {
             "colorbar": {
              "outlinewidth": 0,
              "ticks": ""
             }
            },
            "type": "scatter3d"
           }
          ],
          "scattercarpet": [
           {
            "marker": {
             "colorbar": {
              "outlinewidth": 0,
              "ticks": ""
             }
            },
            "type": "scattercarpet"
           }
          ],
          "scattergeo": [
           {
            "marker": {
             "colorbar": {
              "outlinewidth": 0,
              "ticks": ""
             }
            },
            "type": "scattergeo"
           }
          ],
          "scattergl": [
           {
            "marker": {
             "line": {
              "color": "#283442"
             }
            },
            "type": "scattergl"
           }
          ],
          "scattermapbox": [
           {
            "marker": {
             "colorbar": {
              "outlinewidth": 0,
              "ticks": ""
             }
            },
            "type": "scattermapbox"
           }
          ],
          "scatterpolar": [
           {
            "marker": {
             "colorbar": {
              "outlinewidth": 0,
              "ticks": ""
             }
            },
            "type": "scatterpolar"
           }
          ],
          "scatterpolargl": [
           {
            "marker": {
             "colorbar": {
              "outlinewidth": 0,
              "ticks": ""
             }
            },
            "type": "scatterpolargl"
           }
          ],
          "scatterternary": [
           {
            "marker": {
             "colorbar": {
              "outlinewidth": 0,
              "ticks": ""
             }
            },
            "type": "scatterternary"
           }
          ],
          "surface": [
           {
            "colorbar": {
             "outlinewidth": 0,
             "ticks": ""
            },
            "colorscale": [
             [
              0,
              "#0d0887"
             ],
             [
              0.1111111111111111,
              "#46039f"
             ],
             [
              0.2222222222222222,
              "#7201a8"
             ],
             [
              0.3333333333333333,
              "#9c179e"
             ],
             [
              0.4444444444444444,
              "#bd3786"
             ],
             [
              0.5555555555555556,
              "#d8576b"
             ],
             [
              0.6666666666666666,
              "#ed7953"
             ],
             [
              0.7777777777777778,
              "#fb9f3a"
             ],
             [
              0.8888888888888888,
              "#fdca26"
             ],
             [
              1,
              "#f0f921"
             ]
            ],
            "type": "surface"
           }
          ],
          "table": [
           {
            "cells": {
             "fill": {
              "color": "#506784"
             },
             "line": {
              "color": "rgb(17,17,17)"
             }
            },
            "header": {
             "fill": {
              "color": "#2a3f5f"
             },
             "line": {
              "color": "rgb(17,17,17)"
             }
            },
            "type": "table"
           }
          ]
         },
         "layout": {
          "annotationdefaults": {
           "arrowcolor": "#f2f5fa",
           "arrowhead": 0,
           "arrowwidth": 1
          },
          "autotypenumbers": "strict",
          "coloraxis": {
           "colorbar": {
            "outlinewidth": 0,
            "ticks": ""
           }
          },
          "colorscale": {
           "diverging": [
            [
             0,
             "#8e0152"
            ],
            [
             0.1,
             "#c51b7d"
            ],
            [
             0.2,
             "#de77ae"
            ],
            [
             0.3,
             "#f1b6da"
            ],
            [
             0.4,
             "#fde0ef"
            ],
            [
             0.5,
             "#f7f7f7"
            ],
            [
             0.6,
             "#e6f5d0"
            ],
            [
             0.7,
             "#b8e186"
            ],
            [
             0.8,
             "#7fbc41"
            ],
            [
             0.9,
             "#4d9221"
            ],
            [
             1,
             "#276419"
            ]
           ],
           "sequential": [
            [
             0,
             "#0d0887"
            ],
            [
             0.1111111111111111,
             "#46039f"
            ],
            [
             0.2222222222222222,
             "#7201a8"
            ],
            [
             0.3333333333333333,
             "#9c179e"
            ],
            [
             0.4444444444444444,
             "#bd3786"
            ],
            [
             0.5555555555555556,
             "#d8576b"
            ],
            [
             0.6666666666666666,
             "#ed7953"
            ],
            [
             0.7777777777777778,
             "#fb9f3a"
            ],
            [
             0.8888888888888888,
             "#fdca26"
            ],
            [
             1,
             "#f0f921"
            ]
           ],
           "sequentialminus": [
            [
             0,
             "#0d0887"
            ],
            [
             0.1111111111111111,
             "#46039f"
            ],
            [
             0.2222222222222222,
             "#7201a8"
            ],
            [
             0.3333333333333333,
             "#9c179e"
            ],
            [
             0.4444444444444444,
             "#bd3786"
            ],
            [
             0.5555555555555556,
             "#d8576b"
            ],
            [
             0.6666666666666666,
             "#ed7953"
            ],
            [
             0.7777777777777778,
             "#fb9f3a"
            ],
            [
             0.8888888888888888,
             "#fdca26"
            ],
            [
             1,
             "#f0f921"
            ]
           ]
          },
          "colorway": [
           "#636efa",
           "#EF553B",
           "#00cc96",
           "#ab63fa",
           "#FFA15A",
           "#19d3f3",
           "#FF6692",
           "#B6E880",
           "#FF97FF",
           "#FECB52"
          ],
          "font": {
           "color": "#f2f5fa"
          },
          "geo": {
           "bgcolor": "rgb(17,17,17)",
           "lakecolor": "rgb(17,17,17)",
           "landcolor": "rgb(17,17,17)",
           "showlakes": true,
           "showland": true,
           "subunitcolor": "#506784"
          },
          "hoverlabel": {
           "align": "left"
          },
          "hovermode": "closest",
          "mapbox": {
           "style": "dark"
          },
          "paper_bgcolor": "rgb(17,17,17)",
          "plot_bgcolor": "rgb(17,17,17)",
          "polar": {
           "angularaxis": {
            "gridcolor": "#506784",
            "linecolor": "#506784",
            "ticks": ""
           },
           "bgcolor": "rgb(17,17,17)",
           "radialaxis": {
            "gridcolor": "#506784",
            "linecolor": "#506784",
            "ticks": ""
           }
          },
          "scene": {
           "xaxis": {
            "backgroundcolor": "rgb(17,17,17)",
            "gridcolor": "#506784",
            "gridwidth": 2,
            "linecolor": "#506784",
            "showbackground": true,
            "ticks": "",
            "zerolinecolor": "#C8D4E3"
           },
           "yaxis": {
            "backgroundcolor": "rgb(17,17,17)",
            "gridcolor": "#506784",
            "gridwidth": 2,
            "linecolor": "#506784",
            "showbackground": true,
            "ticks": "",
            "zerolinecolor": "#C8D4E3"
           },
           "zaxis": {
            "backgroundcolor": "rgb(17,17,17)",
            "gridcolor": "#506784",
            "gridwidth": 2,
            "linecolor": "#506784",
            "showbackground": true,
            "ticks": "",
            "zerolinecolor": "#C8D4E3"
           }
          },
          "shapedefaults": {
           "line": {
            "color": "#f2f5fa"
           }
          },
          "sliderdefaults": {
           "bgcolor": "#C8D4E3",
           "bordercolor": "rgb(17,17,17)",
           "borderwidth": 1,
           "tickwidth": 0
          },
          "ternary": {
           "aaxis": {
            "gridcolor": "#506784",
            "linecolor": "#506784",
            "ticks": ""
           },
           "baxis": {
            "gridcolor": "#506784",
            "linecolor": "#506784",
            "ticks": ""
           },
           "bgcolor": "rgb(17,17,17)",
           "caxis": {
            "gridcolor": "#506784",
            "linecolor": "#506784",
            "ticks": ""
           }
          },
          "title": {
           "x": 0.05
          },
          "updatemenudefaults": {
           "bgcolor": "#506784",
           "borderwidth": 0
          },
          "xaxis": {
           "automargin": true,
           "gridcolor": "#283442",
           "linecolor": "#506784",
           "ticks": "",
           "title": {
            "standoff": 15
           },
           "zerolinecolor": "#283442",
           "zerolinewidth": 2
          },
          "yaxis": {
           "automargin": true,
           "gridcolor": "#283442",
           "linecolor": "#506784",
           "ticks": "",
           "title": {
            "standoff": 15
           },
           "zerolinecolor": "#283442",
           "zerolinewidth": 2
          }
         }
        },
        "title": {
         "font": {
          "color": "white",
          "size": 25
         },
         "text": "Álbumnes con más canciones: One Direction vs Solista",
         "x": 0.5,
         "xanchor": "center",
         "y": 0.9,
         "yanchor": "top"
        },
        "xaxis": {
         "anchor": "y",
         "domain": [
          0,
          1
         ],
         "tickfont": {
          "size": 12
         },
         "title": {
          "font": {
           "size": 14
          },
          "text": "Canción"
         }
        },
        "yaxis": {
         "anchor": "x",
         "domain": [
          0,
          1
         ],
         "tickfont": {
          "size": 12
         },
         "title": {
          "font": {
           "size": 14
          },
          "text": "Duración en segundos"
         }
        }
       }
      }
     },
     "metadata": {},
     "output_type": "display_data"
    }
   ],
   "source": [
    "color = {\"Solista\" : \"red\", \"One Direction\" : \"blue\"}\n",
    "fig = px.bar(albumnes_canciones, x=\"Álbum\", y=\"Canción\", text=\"Canción\",color=\"Etapa\", color_discrete_map=color, hover_data={'Duración_segundos':True, 'Duración' : True, \"Tipo\" : True},title='Álbumnes con más canciones: One Direction vs Solista',\n",
    "             template='plotly_dark')\n",
    "\n",
    "\n",
    "fig.update_layout(title = {'text' : 'Álbumnes con más canciones: One Direction vs Solista','y':0.9, 'x':0.5, 'xanchor' : 'center', 'yanchor' : 'top', 'font':dict(size=25, color='white')}, height = 600, margin=dict(l=50, r=50, t=100, b=200), yaxis=dict(title='Duración en segundos', titlefont_size=14, tickfont_size=12),\n",
    "    xaxis=dict(title='Canción', titlefont_size=14, tickfont_size=12))"
   ]
  },
  {
   "cell_type": "markdown",
   "metadata": {},
   "source": [
    "# Analisis de datos de One Direcion y Louis Tomlinson\n",
    "\n",
    "- Data extraida por medio de la api Spotipy\n",
    "- Analisis sobre la carrera de Louis Tomlinson en su carrera como Solista y cuando hacia parte de One Direction\n",
    "\n",
    "Proyecto realizado por \"Juan David Martinez\"\n",
    "\n",
    "firma: JotaelData"
   ]
  }
 ],
 "metadata": {
  "kernelspec": {
   "display_name": "Python 3",
   "language": "python",
   "name": "python3"
  },
  "language_info": {
   "codemirror_mode": {
    "name": "ipython",
    "version": 3
   },
   "file_extension": ".py",
   "mimetype": "text/x-python",
   "name": "python",
   "nbconvert_exporter": "python",
   "pygments_lexer": "ipython3",
   "version": "3.12.3"
  }
 },
 "nbformat": 4,
 "nbformat_minor": 2
}
